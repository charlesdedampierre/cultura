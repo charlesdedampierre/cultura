{
 "cells": [
  {
   "cell_type": "code",
   "execution_count": 1,
   "id": "71328b71-7bf9-49fe-ae52-dffb96ff123d",
   "metadata": {
    "tags": []
   },
   "outputs": [],
   "source": [
    "import sqlite3\n",
    "import pandas as pd\n",
    "import sys\n",
    "\n",
    "\n",
    "sys.path.append('../')\n",
    "from functions_env import DB_PATH\n",
    "\n",
    "\n",
    "conn = sqlite3.connect(DB_PATH)\n",
    "cursor = conn.cursor()"
   ]
  },
  {
   "cell_type": "code",
   "execution_count": 2,
   "id": "ce7c72ba-0ce4-42a4-a683-36514b8b36e7",
   "metadata": {
    "tags": []
   },
   "outputs": [
    {
     "data": {
      "text/html": [
       "<div>\n",
       "<style scoped>\n",
       "    .dataframe tbody tr th:only-of-type {\n",
       "        vertical-align: middle;\n",
       "    }\n",
       "\n",
       "    .dataframe tbody tr th {\n",
       "        vertical-align: top;\n",
       "    }\n",
       "\n",
       "    .dataframe thead th {\n",
       "        text-align: right;\n",
       "    }\n",
       "</style>\n",
       "<table border=\"1\" class=\"dataframe\">\n",
       "  <thead>\n",
       "    <tr style=\"text-align: right;\">\n",
       "      <th></th>\n",
       "      <th>Type of work</th>\n",
       "      <th>N Works</th>\n",
       "      <th>%</th>\n",
       "    </tr>\n",
       "  </thead>\n",
       "  <tbody>\n",
       "    <tr>\n",
       "      <th>0</th>\n",
       "      <td>painting</td>\n",
       "      <td>239501</td>\n",
       "      <td>32.4</td>\n",
       "    </tr>\n",
       "    <tr>\n",
       "      <th>1</th>\n",
       "      <td>biographical article</td>\n",
       "      <td>95224</td>\n",
       "      <td>12.9</td>\n",
       "    </tr>\n",
       "    <tr>\n",
       "      <th>2</th>\n",
       "      <td>poem</td>\n",
       "      <td>58204</td>\n",
       "      <td>7.9</td>\n",
       "    </tr>\n",
       "    <tr>\n",
       "      <th>3</th>\n",
       "      <td>print</td>\n",
       "      <td>55973</td>\n",
       "      <td>7.6</td>\n",
       "    </tr>\n",
       "    <tr>\n",
       "      <th>4</th>\n",
       "      <td>literary work</td>\n",
       "      <td>42532</td>\n",
       "      <td>5.7</td>\n",
       "    </tr>\n",
       "    <tr>\n",
       "      <th>5</th>\n",
       "      <td>version, edition, or translation</td>\n",
       "      <td>39430</td>\n",
       "      <td>5.3</td>\n",
       "    </tr>\n",
       "    <tr>\n",
       "      <th>6</th>\n",
       "      <td>encyclopedia article</td>\n",
       "      <td>28606</td>\n",
       "      <td>3.9</td>\n",
       "    </tr>\n",
       "    <tr>\n",
       "      <th>7</th>\n",
       "      <td>drawing</td>\n",
       "      <td>28424</td>\n",
       "      <td>3.8</td>\n",
       "    </tr>\n",
       "    <tr>\n",
       "      <th>8</th>\n",
       "      <td>article</td>\n",
       "      <td>19878</td>\n",
       "      <td>2.7</td>\n",
       "    </tr>\n",
       "    <tr>\n",
       "      <th>9</th>\n",
       "      <td>photograph</td>\n",
       "      <td>19779</td>\n",
       "      <td>2.7</td>\n",
       "    </tr>\n",
       "    <tr>\n",
       "      <th>10</th>\n",
       "      <td>publication</td>\n",
       "      <td>12106</td>\n",
       "      <td>1.6</td>\n",
       "    </tr>\n",
       "    <tr>\n",
       "      <th>11</th>\n",
       "      <td>watercolor painting</td>\n",
       "      <td>10735</td>\n",
       "      <td>1.5</td>\n",
       "    </tr>\n",
       "    <tr>\n",
       "      <th>12</th>\n",
       "      <td>scholarly article</td>\n",
       "      <td>10159</td>\n",
       "      <td>1.4</td>\n",
       "    </tr>\n",
       "    <tr>\n",
       "      <th>13</th>\n",
       "      <td>sculpture</td>\n",
       "      <td>7837</td>\n",
       "      <td>1.1</td>\n",
       "    </tr>\n",
       "    <tr>\n",
       "      <th>14</th>\n",
       "      <td>engraving</td>\n",
       "      <td>6993</td>\n",
       "      <td>0.9</td>\n",
       "    </tr>\n",
       "    <tr>\n",
       "      <th>15</th>\n",
       "      <td>poetry</td>\n",
       "      <td>6350</td>\n",
       "      <td>0.9</td>\n",
       "    </tr>\n",
       "    <tr>\n",
       "      <th>16</th>\n",
       "      <td>work of art</td>\n",
       "      <td>5078</td>\n",
       "      <td>0.7</td>\n",
       "    </tr>\n",
       "    <tr>\n",
       "      <th>17</th>\n",
       "      <td>written work</td>\n",
       "      <td>4953</td>\n",
       "      <td>0.7</td>\n",
       "    </tr>\n",
       "    <tr>\n",
       "      <th>18</th>\n",
       "      <td>etching print</td>\n",
       "      <td>4861</td>\n",
       "      <td>0.7</td>\n",
       "    </tr>\n",
       "    <tr>\n",
       "      <th>19</th>\n",
       "      <td>scenography sketch</td>\n",
       "      <td>3283</td>\n",
       "      <td>0.4</td>\n",
       "    </tr>\n",
       "  </tbody>\n",
       "</table>\n",
       "</div>"
      ],
      "text/plain": [
       "                        Type of work  N Works     %\n",
       "0                           painting   239501  32.4\n",
       "1               biographical article    95224  12.9\n",
       "2                               poem    58204   7.9\n",
       "3                              print    55973   7.6\n",
       "4                      literary work    42532   5.7\n",
       "5   version, edition, or translation    39430   5.3\n",
       "6               encyclopedia article    28606   3.9\n",
       "7                            drawing    28424   3.8\n",
       "8                            article    19878   2.7\n",
       "9                         photograph    19779   2.7\n",
       "10                       publication    12106   1.6\n",
       "11               watercolor painting    10735   1.5\n",
       "12                 scholarly article    10159   1.4\n",
       "13                         sculpture     7837   1.1\n",
       "14                         engraving     6993   0.9\n",
       "15                            poetry     6350   0.9\n",
       "16                       work of art     5078   0.7\n",
       "17                      written work     4953   0.7\n",
       "18                     etching print     4861   0.7\n",
       "19                scenography sketch     3283   0.4"
      ]
     },
     "execution_count": 2,
     "metadata": {},
     "output_type": "execute_result"
    }
   ],
   "source": [
    "df_works = pd.read_sql_query(\"SELECT * FROM individual_created_work\", conn)\n",
    "individuals = pd.read_sql_query(\"SELECT * FROM individuals_kept\", conn)\n",
    "\n",
    "df_works = df_works[df_works['individual_wikidata_id'].isin(list(set(individuals.individual_wikidata_id)))]\n",
    "\n",
    "df_count_works = df_works.groupby('individual_wikidata_id')['work_wikidata_id'].count().reset_index()\n",
    "df_count_works = df_count_works.sort_values('work_wikidata_id', ascending=False).reset_index(drop=True)\n",
    "\n",
    "created_work = pd.read_sql_query(\"SELECT * FROM created_work\", conn)\n",
    "created_work = created_work[created_work['work_wikidata_id'].isin(list(set(df_works.work_wikidata_id)))]\n",
    "created_work = created_work[['work_wikidata_id', 'instance_label']].drop_duplicates()\n",
    "\n",
    "df_count_instance = created_work.instance_label.value_counts().rename('count_works').head(20).reset_index()\n",
    "df_count_instance['percent'] = round(df_count_instance['count_works']/len(set(created_work.work_wikidata_id))*100, 1)\n",
    "df_count_instance.columns = ['Type of work', 'N Works', '%']\n",
    "\n",
    "df_count_instance"
   ]
  },
  {
   "cell_type": "code",
   "execution_count": null,
   "id": "fb3b6e37-ab7d-46f1-9eaa-daa69acbb772",
   "metadata": {
    "tags": []
   },
   "outputs": [],
   "source": []
  },
  {
   "cell_type": "code",
   "execution_count": 3,
   "id": "1c37f945-cd96-4d20-8a09-0a476e6b1226",
   "metadata": {
    "tags": []
   },
   "outputs": [
    {
     "data": {
      "text/plain": [
       "740098"
      ]
     },
     "execution_count": 3,
     "metadata": {},
     "output_type": "execute_result"
    }
   ],
   "source": [
    "len(set(df_works.work_wikidata_id))"
   ]
  },
  {
   "cell_type": "code",
   "execution_count": 4,
   "id": "d7752eee-5c16-4cc3-b6e1-17eae50263bb",
   "metadata": {
    "tags": []
   },
   "outputs": [
    {
     "data": {
      "text/plain": [
       "3.0"
      ]
     },
     "execution_count": 4,
     "metadata": {},
     "output_type": "execute_result"
    }
   ],
   "source": [
    "df_count_works.work_wikidata_id.median()"
   ]
  },
  {
   "cell_type": "code",
   "execution_count": null,
   "id": "44c6cc72-c0c7-463c-a208-50255ad50643",
   "metadata": {
    "tags": []
   },
   "outputs": [],
   "source": []
  },
  {
   "cell_type": "code",
   "execution_count": null,
   "id": "33b39f78-cfa0-48a9-a017-887c8d6f2270",
   "metadata": {
    "tags": []
   },
   "outputs": [],
   "source": []
  },
  {
   "cell_type": "code",
   "execution_count": null,
   "id": "93fc3049-1df2-4455-b328-f9baef26d5c5",
   "metadata": {},
   "outputs": [],
   "source": []
  },
  {
   "cell_type": "code",
   "execution_count": null,
   "id": "fc7f1ed9-1e6d-42c0-ba8f-f432c37c6a9c",
   "metadata": {},
   "outputs": [],
   "source": []
  }
 ],
 "metadata": {
  "kernelspec": {
   "display_name": "Python 3 (ipykernel)",
   "language": "python",
   "name": "python3"
  },
  "language_info": {
   "codemirror_mode": {
    "name": "ipython",
    "version": 3
   },
   "file_extension": ".py",
   "mimetype": "text/x-python",
   "name": "python",
   "nbconvert_exporter": "python",
   "pygments_lexer": "ipython3",
   "version": "3.11.7"
  }
 },
 "nbformat": 4,
 "nbformat_minor": 5
}
