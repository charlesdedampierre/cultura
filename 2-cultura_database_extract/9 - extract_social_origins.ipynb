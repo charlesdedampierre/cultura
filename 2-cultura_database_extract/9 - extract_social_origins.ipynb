{
 "cells": [
  {
   "cell_type": "markdown",
   "metadata": {},
   "source": [
    "- donner à GPT plus d'infos (pour donner plus d'infos), donner la date de naissance, pays d'origine\n",
    "- le faire sur le top des individus\n",
    "- monter que la proportion de gens modeste augmente quand l'indice culturel augmente\n",
    "- sampler 200 personnes, puis piocher dedans pour avoir une répartiiton égale de chaque classe (puis envoyer à Nicolas)\n",
    "- la propbablité d^'etre de classe sociale défavorisé augmente"
   ]
  },
  {
   "cell_type": "code",
   "execution_count": 2,
   "metadata": {},
   "outputs": [],
   "source": [
    "import openai\n",
    "import time\n",
    "import pandas as pd\n",
    "import os\n",
    "import re\n",
    "from typing import List, Dict, Optional, Tuple\n",
    "from tqdm import tqdm\n",
    "\n",
    "\n",
    "def get_social_origin(author_name: str) -> Tuple[Optional[str], str, str]:\n",
    "    \"\"\"\n",
    "    Query OpenAI API to determine the social origin of a cultural producer.\n",
    "    Returns a tuple of (classification, explanation, sources) where classification is\n",
    "    'Elite', 'Middle Class', 'Subsistence', or None if not found.\n",
    "    \"\"\"\n",
    "    try:\n",
    "        # Create the prompt for the API with request for sources\n",
    "        prompt = f\"\"\"I'm researching the BIRTH CIRCUMSTANCES and FAMILY BACKGROUND of {author_name}. Please focus ONLY on their social origin and family circumstances BEFORE they became famous.\n",
    "\n",
    "Classify their BIRTH and CHILDHOOD social class according to this specific typology:\n",
    "\n",
    "1. Elite (wealthy aristocrats, ruling class, nobility)\n",
    "2. Middle Class (merchants, artisans, skilled craftspeople, landowners, teachers)\n",
    "3. Subsistence (people with minimal resources, peasants, laborers, slaves)\n",
    "\n",
    "DO NOT consider their later accomplishments or fame. ONLY consider:\n",
    "- Parents' occupations and social standing\n",
    "- Family wealth at the time of birth and childhood\n",
    "- Access to education BECAUSE of family background (not merit)\n",
    "- Early life housing and living conditions\n",
    "- Inherited privileges or disadvantages\n",
    "\n",
    "Format your answer as:\n",
    "Classification: [Elite/Middle Class/Subsistence]\n",
    "Explanation: [Evidence specifically about family origins, NOT later achievements]\n",
    "Sources: [List historical sources, ancient texts, or scholarly references]\n",
    "\n",
    "If you cannot determine with reasonable confidence, respond with:\n",
    "Classification: Unknown\n",
    "Explanation: [Why it's unknown]\n",
    "Sources: [Any potential sources that could provide this information]\"\"\"\n",
    "        \n",
    "        # Call the OpenAI API\n",
    "        response = openai.chat.completions.create(\n",
    "            model=\"gpt-4\",  # or another appropriate model\n",
    "            messages=[\n",
    "                {\"role\": \"system\", \"content\": \"You are a historical researcher specializing in social class origins. Focus exclusively on birth circumstances and family backgrounds, NOT on later accomplishments or acquired status. Provide evidence from primary sources whenever possible.\"},\n",
    "                {\"role\": \"user\", \"content\": prompt}\n",
    "            ],\n",
    "            temperature=0.2,  # Low temperature for more consistent answers\n",
    "            max_tokens=300    # Increased to allow for explanation and sources\n",
    "        )\n",
    "        \n",
    "        # Extract the response text\n",
    "        answer = response.choices[0].message.content.strip()\n",
    "        \n",
    "        # Process the answer to extract classification, explanation, and sources\n",
    "        classification = None\n",
    "        explanation = \"No explanation provided\"\n",
    "        sources = \"No sources provided\"\n",
    "        \n",
    "        # Try to parse the structured response\n",
    "        try:\n",
    "            # First check if there's a Sources section\n",
    "            if \"Sources:\" in answer:\n",
    "                parts = answer.split(\"Sources:\", 1)\n",
    "                main_text = parts[0].strip()\n",
    "                sources = parts[1].strip()\n",
    "                \n",
    "                # Now parse the main text for Classification and Explanation\n",
    "                if \"Explanation:\" in main_text:\n",
    "                    sections = main_text.split(\"Explanation:\", 1)\n",
    "                    class_line = sections[0].strip()\n",
    "                    explanation = sections[1].strip()\n",
    "                    \n",
    "                    if \"Classification:\" in class_line:\n",
    "                        classification_text = class_line.split(\"Classification:\")[1].strip()\n",
    "                        if \"Elite\" in classification_text:\n",
    "                            classification = \"Elite\"\n",
    "                        elif \"Middle Class\" in classification_text:\n",
    "                            classification = \"Middle Class\"\n",
    "                        elif \"Subsistence\" in classification_text:\n",
    "                            classification = \"Subsistence\"\n",
    "            else:\n",
    "                # If no Sources section, just parse for Classification and Explanation\n",
    "                if \"Explanation:\" in answer:\n",
    "                    parts = answer.split(\"Explanation:\", 1)\n",
    "                    class_line = parts[0].strip()\n",
    "                    explanation = parts[1].strip()\n",
    "                    \n",
    "                    if \"Classification:\" in class_line:\n",
    "                        classification_text = class_line.split(\"Classification:\")[1].strip()\n",
    "                        if \"Elite\" in classification_text:\n",
    "                            classification = \"Elite\"\n",
    "                        elif \"Middle Class\" in classification_text:\n",
    "                            classification = \"Middle Class\"\n",
    "                        elif \"Subsistence\" in classification_text:\n",
    "                            classification = \"Subsistence\"\n",
    "                \n",
    "                # Look for sources in the explanation\n",
    "                if \"source\" in explanation.lower() or \"according to\" in explanation.lower() or \"mentioned in\" in explanation.lower():\n",
    "                    # Try to extract likely source statements\n",
    "                    source_patterns = [\n",
    "                        r\"according to [^.]*\\.\",\n",
    "                        r\"mentioned (?:by|in) [^.]*\\.\",\n",
    "                        r\"sources? (?:such as|like|including) [^.]*\\.\",\n",
    "                        r\"(?:historical|ancient) (?:records|texts|documents) [^.]*\\.\"\n",
    "                    ]\n",
    "                    potential_sources = []\n",
    "                    for pattern in source_patterns:\n",
    "                        matches = re.findall(pattern, explanation, re.IGNORECASE)\n",
    "                        potential_sources.extend(matches)\n",
    "                    \n",
    "                    if potential_sources:\n",
    "                        sources = \" \".join(potential_sources)\n",
    "                    \n",
    "            # Fallback to simpler parsing if structured parsing failed\n",
    "            if classification is None:\n",
    "                if \"Elite\" in answer:\n",
    "                    classification = \"Elite\"\n",
    "                elif \"Middle Class\" in answer:\n",
    "                    classification = \"Middle Class\"\n",
    "                elif \"Subsistence\" in answer:\n",
    "                    classification = \"Subsistence\"\n",
    "        \n",
    "        except Exception as parsing_error:\n",
    "            print(f\"Error parsing response for {author_name}: {parsing_error}\")\n",
    "            \n",
    "            # Simple classification extraction as fallback\n",
    "            if \"Elite\" in answer:\n",
    "                classification = \"Elite\"\n",
    "            elif \"Middle Class\" in answer:\n",
    "                classification = \"Middle Class\"\n",
    "            elif \"Subsistence\" in answer:\n",
    "                classification = \"Subsistence\"\n",
    "            \n",
    "            # Just use the full answer as explanation if parsing failed\n",
    "            explanation = answer\n",
    "        \n",
    "        return classification, explanation, sources\n",
    "            \n",
    "    except Exception as e:\n",
    "        print(f\"Error processing {author_name}: {e}\")\n",
    "        return None, f\"Error: {str(e)}\", \"No sources due to error\"\n",
    "\n",
    "def process_authors(authors: List[str]) -> Dict[str, Dict[str, str]]:\n",
    "    \"\"\"Process a list of authors and return their social origins with explanations and sources.\"\"\"\n",
    "    results = {}\n",
    "    \n",
    "    for i, author in tqdm(enumerate(authors), total=len(authors)):\n",
    "        print(f\"\\nProcessing ({i+1}/{len(authors)}): {author}\")\n",
    "        classification, explanation, sources = get_social_origin(author)\n",
    "        \n",
    "        results[author] = {\n",
    "            \"classification\": classification,\n",
    "            \"explanation\": explanation,\n",
    "            \"sources\": sources\n",
    "        }\n",
    "        \n",
    "        # Print immediate result\n",
    "        print(f\"  Result: {classification if classification else 'None'}\")\n",
    "        print(f\"  Explanation: {explanation}\")\n",
    "        print(f\"  Sources: {sources}\")\n",
    "        \n",
    "        # Add a delay to avoid rate limiting\n",
    "        # time.sleep(1)\n",
    "    \n",
    "    return results\n"
   ]
  },
  {
   "cell_type": "code",
   "execution_count": null,
   "metadata": {},
   "outputs": [],
   "source": [
    "import openai\n",
    "import time\n",
    "import pandas as pd\n",
    "import os\n",
    "import re\n",
    "from typing import List, Dict, Optional, Tuple\n",
    "from tqdm import tqdm\n",
    "\n",
    "\n",
    "def get_social_origin(author_name: str, birth_year: int, country: str) -> Tuple[Optional[str], str, str]:\n",
    "    \"\"\"\n",
    "    Query OpenAI API to determine the social origin of a cultural producer.\n",
    "    Returns a tuple of (classification, explanation, sources) where classification is\n",
    "    'Elite', 'Middle Class', 'Subsistence', or None if not found.\n",
    "    \n",
    "    Parameters:\n",
    "    - author_name: The name of the author to research\n",
    "    - birth_year: The approximate year of birth \n",
    "    - country: The modern equivalent country in which the individual was likely born\n",
    "    \"\"\"\n",
    "    try:\n",
    "        # Create the prompt for the API with request for sources and include birth year and country\n",
    "        prompt = f\"\"\"I'm researching the BIRTH CIRCUMSTANCES and FAMILY BACKGROUND of {author_name}, born around {birth_year} in what is now {country}. Please focus ONLY on their social origin and family circumstances BEFORE they became famous.\n",
    "\n",
    "Classify their BIRTH and CHILDHOOD social class according to this specific typology:\n",
    "\n",
    "1. Elite (wealthy aristocrats, ruling class, nobility)\n",
    "2. Middle Class (merchants, artisans, skilled craftspeople, landowners, teachers)\n",
    "3. Subsistence (people with minimal resources, peasants, laborers, slaves)\n",
    "\n",
    "Consider the social structure and economic context of {country} in the late {birth_year//100}00s.\n",
    "\n",
    "DO NOT consider their later accomplishments or fame. ONLY consider:\n",
    "- Parents' occupations and social standing\n",
    "- Family wealth at the time of birth and childhood\n",
    "- Access to education BECAUSE of family background (not merit)\n",
    "- Early life housing and living conditions\n",
    "- Inherited privileges or disadvantages\n",
    "\n",
    "Format your answer as:\n",
    "Classification: [Elite/Middle Class/Subsistence]\n",
    "Explanation: [Evidence specifically about family origins, NOT later achievements]\n",
    "Sources: [List historical sources, ancient texts, or scholarly references]\n",
    "\n",
    "If you cannot determine with reasonable confidence, respond with:\n",
    "Classification: Unknown\n",
    "Explanation: [Why it's unknown]\n",
    "Sources: [Any potential sources that could provide this information]\"\"\"\n",
    "        \n",
    "        # Call the OpenAI API\n",
    "        response = openai.chat.completions.create(\n",
    "            model=\"gpt-4\",  # or another appropriate model\n",
    "            messages=[\n",
    "                {\"role\": \"system\", \"content\": \"You are a historical researcher specializing in social class origins. Focus exclusively on birth circumstances and family backgrounds, NOT on later accomplishments or acquired status. Provide evidence from primary sources whenever possible.\"},\n",
    "                {\"role\": \"user\", \"content\": prompt}\n",
    "            ],\n",
    "            temperature=0.2,  # Low temperature for more consistent answers\n",
    "            max_tokens=300    # Increased to allow for explanation and sources\n",
    "        )\n",
    "        \n",
    "        # Extract the response text\n",
    "        answer = response.choices[0].message.content.strip()\n",
    "        \n",
    "        # Process the answer to extract classification, explanation, and sources\n",
    "        classification = None\n",
    "        explanation = \"No explanation provided\"\n",
    "        sources = \"No sources provided\"\n",
    "        \n",
    "        # Try to parse the structured response\n",
    "        try:\n",
    "            # First check if there's a Sources section\n",
    "            if \"Sources:\" in answer:\n",
    "                parts = answer.split(\"Sources:\", 1)\n",
    "                main_text = parts[0].strip()\n",
    "                sources = parts[1].strip()\n",
    "                \n",
    "                # Now parse the main text for Classification and Explanation\n",
    "                if \"Explanation:\" in main_text:\n",
    "                    sections = main_text.split(\"Explanation:\", 1)\n",
    "                    class_line = sections[0].strip()\n",
    "                    explanation = sections[1].strip()\n",
    "                    \n",
    "                    if \"Classification:\" in class_line:\n",
    "                        classification_text = class_line.split(\"Classification:\")[1].strip()\n",
    "                        if \"Elite\" in classification_text:\n",
    "                            classification = \"Elite\"\n",
    "                        elif \"Middle Class\" in classification_text:\n",
    "                            classification = \"Middle Class\"\n",
    "                        elif \"Subsistence\" in classification_text:\n",
    "                            classification = \"Subsistence\"\n",
    "            else:\n",
    "                # If no Sources section, just parse for Classification and Explanation\n",
    "                if \"Explanation:\" in answer:\n",
    "                    parts = answer.split(\"Explanation:\", 1)\n",
    "                    class_line = parts[0].strip()\n",
    "                    explanation = parts[1].strip()\n",
    "                    \n",
    "                    if \"Classification:\" in class_line:\n",
    "                        classification_text = class_line.split(\"Classification:\")[1].strip()\n",
    "                        if \"Elite\" in classification_text:\n",
    "                            classification = \"Elite\"\n",
    "                        elif \"Middle Class\" in classification_text:\n",
    "                            classification = \"Middle Class\"\n",
    "                        elif \"Subsistence\" in classification_text:\n",
    "                            classification = \"Subsistence\"\n",
    "                \n",
    "                # Look for sources in the explanation\n",
    "                if \"source\" in explanation.lower() or \"according to\" in explanation.lower() or \"mentioned in\" in explanation.lower():\n",
    "                    # Try to extract likely source statements\n",
    "                    source_patterns = [\n",
    "                        r\"according to [^.]*\\.\",\n",
    "                        r\"mentioned (?:by|in) [^.]*\\.\",\n",
    "                        r\"sources? (?:such as|like|including) [^.]*\\.\",\n",
    "                        r\"(?:historical|ancient) (?:records|texts|documents) [^.]*\\.\"\n",
    "                    ]\n",
    "                    potential_sources = []\n",
    "                    for pattern in source_patterns:\n",
    "                        matches = re.findall(pattern, explanation, re.IGNORECASE)\n",
    "                        potential_sources.extend(matches)\n",
    "                    \n",
    "                    if potential_sources:\n",
    "                        sources = \" \".join(potential_sources)\n",
    "                    \n",
    "            # Fallback to simpler parsing if structured parsing failed\n",
    "            if classification is None:\n",
    "                if \"Elite\" in answer:\n",
    "                    classification = \"Elite\"\n",
    "                elif \"Middle Class\" in answer:\n",
    "                    classification = \"Middle Class\"\n",
    "                elif \"Subsistence\" in answer:\n",
    "                    classification = \"Subsistence\"\n",
    "        \n",
    "        except Exception as parsing_error:\n",
    "            print(f\"Error parsing response for {author_name}: {parsing_error}\")\n",
    "            \n",
    "            # Simple classification extraction as fallback\n",
    "            if \"Elite\" in answer:\n",
    "                classification = \"Elite\"\n",
    "            elif \"Middle Class\" in answer:\n",
    "                classification = \"Middle Class\"\n",
    "            elif \"Subsistence\" in answer:\n",
    "                classification = \"Subsistence\"\n",
    "            \n",
    "            # Just use the full answer as explanation if parsing failed\n",
    "            explanation = answer\n",
    "        \n",
    "        return classification, explanation, sources\n",
    "            \n",
    "    except Exception as e:\n",
    "        print(f\"Error processing {author_name}: {e}\")\n",
    "        return None, f\"Error: {str(e)}\", \"No sources due to error\"\n",
    "\n",
    "\n",
    "def process_authors(author_data: pd.DataFrame) -> Dict[str, Dict[str, str]]:\n",
    "    \"\"\"\n",
    "    Process authors from a DataFrame and return their social origins with explanations and sources.\n",
    "    \n",
    "    Parameters:\n",
    "    - author_data: DataFrame containing columns 'individual_name', 'birthyear', 'country_name', \n",
    "                  and 'individual_wikidata_id'\n",
    "    \n",
    "    Returns:\n",
    "    - Dictionary with author names as keys, and dictionaries of classification, explanation, sources,\n",
    "      and metadata as values\n",
    "    \"\"\"\n",
    "    results = {}\n",
    "    \n",
    "    for i, row in tqdm(enumerate(author_data.itertuples()), total=len(author_data)):\n",
    "        try:\n",
    "            author = row.individual_name\n",
    "            birth_year = int(row.birthyear) if not pd.isna(row.birthyear) else None\n",
    "            country = row.country_name if not pd.isna(row.country_name) else \"unknown location\"\n",
    "            wikidata_id = row.individual_wikidata_id\n",
    "            \n",
    "            print(f\"\\nProcessing ({i+1}/{len(author_data)}): {author} (ID: {wikidata_id}), born {birth_year} in {country}\")\n",
    "            \n",
    "            # Skip if missing critical information\n",
    "            if birth_year is None:\n",
    "                print(f\"  Skipping {author} (ID: {wikidata_id}) - missing birth year\")\n",
    "                continue\n",
    "                \n",
    "            classification, explanation, sources = get_social_origin(author, birth_year, country)\n",
    "            \n",
    "            # Use Wikidata ID as the key for more reliable identification\n",
    "            results[wikidata_id] = {\n",
    "                \"individual_name\": author,\n",
    "                \"individual_wikidata_id\": wikidata_id,\n",
    "                \"birth_year\": birth_year,\n",
    "                \"country\": country,\n",
    "                \"classification\": classification,\n",
    "                \"explanation\": explanation,\n",
    "                \"sources\": sources\n",
    "            }\n",
    "            \n",
    "            # Print immediate result\n",
    "            print(f\"  Result: {classification if classification else 'None'}\")\n",
    "            print(f\"  Explanation: {explanation[:100]}...\" if len(explanation) > 100 else f\"  Explanation: {explanation}\")\n",
    "            print(f\"  Sources: {sources[:100]}...\" if len(sources) > 100 else f\"  Sources: {sources}\")\n",
    "            \n",
    "            # Add a delay to avoid rate limiting\n",
    "            # time.sleep(1)\n",
    "            \n",
    "        except Exception as e:\n",
    "            print(f\"Error processing row {i} ({getattr(row, 'individual_name', 'unknown')}): {e}\")\n",
    "            # Continue with the next author rather than stopping the entire process\n",
    "            continue\n",
    "    \n",
    "    return results\n",
    "\n",
    "\n",
    "import os\n",
    "from dotenv import load_dotenv\n",
    "\n",
    "# Load environment variables from .env file\n",
    "load_dotenv()\n",
    "\n",
    "# # Get API key from environment variables\n",
    "# openai.api_key = os.environ.get(\"OPENAI_API_KEY\")\n",
    "\n",
    "\n",
    "# OPENAI_API_KEY=\n"
   ]
  },
  {
   "cell_type": "code",
   "execution_count": 4,
   "metadata": {},
   "outputs": [],
   "source": [
    "import os\n",
    "import sqlite3\n",
    "\n",
    "from dotenv import load_dotenv\n",
    "load_dotenv()\n",
    "\n",
    "\n",
    "DB_PATH = os.getenv(\"DB_PATH\")\n",
    "\n",
    "conn = sqlite3.connect(DB_PATH)\n",
    "pd.options.mode.chained_assignment = None\n",
    "\n",
    "only_country = False\n",
    "\n",
    "# Individuals Regions\n",
    "df_ind = pd.read_sql_query(\"SELECT * FROM individuals_main_information\", conn)\n",
    "df_ind = df_ind[['individual_wikidata_id', 'birthyear', 'country_name']]\n",
    "\n",
    "\n",
    "df = pd.read_csv('db_extract/df_individuals_score.csv', index_col=[0])\n",
    "data = df.sort_values('score', ascending=False)\n",
    "data = data[['individual_wikidata_id', 'individual_name', 'score', 'productive_year']].drop_duplicates()\n",
    "\n",
    "data = pd.merge(data, df_ind, on = 'individual_wikidata_id')\n",
    "df_regions = pd.read_sql_query(\"SELECT * FROM individuals_regions\", conn)\n",
    "df_regions = df_regions[['individual_wikidata_id', 'region_name']].drop_duplicates()\n",
    "\n",
    "data = pd.merge(data, df_regions, on = 'individual_wikidata_id')\n",
    "\n",
    "\n",
    "data = data.reset_index(drop=True)\n",
    "#data = data.head(3000)"
   ]
  },
  {
   "cell_type": "code",
   "execution_count": 5,
   "metadata": {},
   "outputs": [
    {
     "data": {
      "text/plain": [
       "region_name\n",
       "Western Europe         131463\n",
       "Northwestern Europe    104901\n",
       "German world            41555\n",
       "Germany                 31354\n",
       "Southwestern Europe     26562\n",
       "France                  25260\n",
       "Eastern Europe          20490\n",
       "Italy                   18516\n",
       "British Islands         17734\n",
       "United Kingdom          17019\n",
       "Northern France         15686\n",
       "Northern Italy          13397\n",
       "Low countries           12022\n",
       "Central Europe          11754\n",
       "North America            9493\n",
       "Nordic countries         8254\n",
       "Netherlands              7733\n",
       "Spain                    6997\n",
       "Austria                  6712\n",
       "East Slavic              5421\n",
       "Southern France          5299\n",
       "Belgium                  4288\n",
       "Sweden                   3854\n",
       "Southern Italy           3740\n",
       "Switzerland              3493\n",
       "Denmark                  2702\n",
       "Ottoman world            2295\n",
       "Muslim world             2259\n",
       "Chinese world            2220\n",
       "mediterranean World      1910\n",
       "Balkans                  1792\n",
       "Japan                    1711\n",
       "Arabic world             1699\n",
       "Greek World              1650\n",
       "South America            1584\n",
       "Oceania                  1110\n",
       "Portugal                 1043\n",
       "Finland                   828\n",
       "Ireland                   790\n",
       "Central America           751\n",
       "Norway                    719\n",
       "Indian world              694\n",
       "Persian world             620\n",
       "Southern China            588\n",
       "Greece                    584\n",
       "Southern Japan            474\n",
       "Latin World               457\n",
       "Northern India            447\n",
       "Yangtze                   391\n",
       "Northern China            358\n",
       "Northern Japan            289\n",
       "South East Asia           282\n",
       "Africa                    254\n",
       "Korea                     216\n",
       "Ottoman Turkey            178\n",
       "Arabian peninsula         170\n",
       "Iceland                   151\n",
       "Southern India            117\n",
       "Name: count, dtype: int64"
      ]
     },
     "execution_count": 5,
     "metadata": {},
     "output_type": "execute_result"
    }
   ],
   "source": [
    "data['region_name'].value_counts()"
   ]
  },
  {
   "cell_type": "code",
   "execution_count": 6,
   "metadata": {},
   "outputs": [
    {
     "data": {
      "image/png": "[encoded data removed]",
      "text/plain": [
       "<Figure size 1200x2800 with 7 Axes>"
      ]
     },
     "metadata": {},
     "output_type": "display_data"
    }
   ],
   "source": [
    "import pandas as pd\n",
    "import matplotlib.pyplot as plt\n",
    "\n",
    "# Define regions and time periods of interest\n",
    "regions_periods = {\"Italy\":(1200, 1850),\n",
    "    \"Low countries\": (1300, 1700),\n",
    "    \"United Kingdom\": (1500, 1850),\n",
    "    \"France\": (1500, 1850),\n",
    "    \"German world\": (1500, 1850),\n",
    "    \"Japan\": (1000, 1850),\n",
    "    \"Chinese world\":(-500, 1850)\n",
    "}\n",
    "\n",
    "# Create df_final with the specific time periods for each region\n",
    "df_filtered_list = []\n",
    "\n",
    "for region, (start_year, end_year) in regions_periods.items():\n",
    "    # Filter by region and time period\n",
    "    region_data = data[(data['region_name'] == region) & \n",
    "                      (data['birthyear'] >= start_year) & \n",
    "                      (data['birthyear'] <= end_year)]\n",
    "    \n",
    "    # Sort by score (descending) and take top 100\n",
    "    region_data = region_data.sort_values('score', ascending=False).sample(1500, random_state=42)\n",
    "    \n",
    "    df_filtered_list.append(region_data)\n",
    "\n",
    "# Combine all filtered data\n",
    "df_final = pd.concat(df_filtered_list)\n",
    "\n",
    "# Create 50-year period bins\n",
    "df_final['period'] = ((df_final['birthyear'] // 50) * 50).astype(int)\n",
    "\n",
    "# Create subplots for each region\n",
    "fig, axes = plt.subplots(len(regions_periods), 1, figsize=(12, 4*len(regions_periods)), sharex=True)\n",
    "\n",
    "# Set a different color for each region\n",
    "colors = ['blue', 'green', 'red', 'purple', 'orange']\n",
    "\n",
    "# Plot each region separately\n",
    "for i, (region, period) in enumerate(regions_periods.items()):\n",
    "    # Filter data for this region\n",
    "    region_data = df_final[df_final['region_name'] == region]\n",
    "    \n",
    "    # Count individuals by 50-year period for this region\n",
    "    period_counts = region_data.groupby('period').size().reset_index(name='count')\n",
    "    \n",
    "    # Create a DataFrame to ensure all 50-year periods are represented\n",
    "    start_period = (period[0] // 50) * 50\n",
    "    end_period = 1850\n",
    "    all_periods = pd.DataFrame({'period': range(start_period, end_period, 50)})\n",
    "    \n",
    "    # Merge with the counts\n",
    "    plot_data = all_periods.merge(period_counts, on='period', how='left').fillna(0)\n",
    "    \n",
    "    # Plot on the corresponding subplot\n",
    "    ax = axes[i]\n",
    "    ax.plot(plot_data['period'], plot_data['count'], marker='o', linestyle='-', \n",
    "            color=colors[i % len(colors)], linewidth=2)\n",
    "    \n",
    "    # Add labels\n",
    "    ax.set_title(f'{region} ({period[0]}-{period[1]})', fontsize=14)\n",
    "    ax.set_ylabel('Number of Top 100 Individuals', fontsize=12)\n",
    "    ax.grid(True, alpha=0.3)\n",
    "    \n",
    "    # Add period labels (e.g., \"1500-1550\")\n",
    "    period_labels = [f\"{p}-{p+50}\" for p in plot_data['period']]\n",
    "    ax.set_xticks(plot_data['period'])\n",
    "    ax.set_xticklabels(period_labels, rotation=45)\n",
    "    \n",
    "    # Annotate some notable points\n",
    "    if len(period_counts) > 0:\n",
    "        max_count_idx = period_counts['count'].idxmax()\n",
    "        max_period = period_counts.loc[max_count_idx, 'period']\n",
    "        max_count = period_counts.loc[max_count_idx, 'count']\n",
    "        if max_count > 0:\n",
    "            ax.annotate(f'Peak: {int(max_count)} individuals',\n",
    "                       xy=(max_period, max_count),\n",
    "                       xytext=(10, 10),\n",
    "                       textcoords='offset points',\n",
    "                       arrowprops=dict(arrowstyle='->'))\n",
    "\n",
    "# Set the x-axis label on the bottom subplot\n",
    "axes[-1].set_xlabel('50-Year Period', fontsize=14)\n",
    "\n",
    "# Adjust layout and spacing\n",
    "plt.tight_layout()\n",
    "plt.subplots_adjust(hspace=0.3)\n",
    "plt.show()"
   ]
  },
  {
   "cell_type": "code",
   "execution_count": 10,
   "metadata": {},
   "outputs": [
    {
     "name": "stderr",
     "output_type": "stream",
     "text": [
      "  0%|          | 0/330 [00:00<?, ?it/s]"
     ]
    },
    {
     "name": "stdout",
     "output_type": "stream",
     "text": [
      "\n",
      "Processing (1/330): Kong Yingda (ID: Q5369940), born 574 in China\n"
     ]
    },
    {
     "name": "stderr",
     "output_type": "stream",
     "text": [
      "  0%|          | 1/330 [00:05<28:57,  5.28s/it]"
     ]
    },
    {
     "name": "stdout",
     "output_type": "stream",
     "text": [
      "  Result: Elite\n",
      "  Explanation: Kong Yingda was born into a family of the Confucian scholar-gentry class, which was a part of the Ch...\n",
      "  Sources: \"The Cambridge History of China: Volume 1, The Ch'in and Han Empires, 221 BC-AD 220\", \"Confucianism ...\n",
      "\n",
      "Processing (2/330): Jiang Lian (ID: Q15914766), born 1675 in China\n"
     ]
    },
    {
     "name": "stderr",
     "output_type": "stream",
     "text": [
      "  1%|          | 2/330 [00:11<30:28,  5.58s/it]"
     ]
    },
    {
     "name": "stdout",
     "output_type": "stream",
     "text": [
      "  Result: None\n",
      "  Explanation: The information about Jiang Lian's birth circumstances and family background is not readily availabl...\n",
      "  Sources: Primary sources from the Qing Dynasty period, such as the \"Qing Shi Gao\" (Draft History of Qing), mi...\n",
      "\n",
      "Processing (3/330): Hua Shu (ID: Q45594089), born 1589 in China\n"
     ]
    },
    {
     "name": "stderr",
     "output_type": "stream",
     "text": [
      "  1%|          | 3/330 [00:16<28:55,  5.31s/it]"
     ]
    },
    {
     "name": "stdout",
     "output_type": "stream",
     "text": [
      "  Result: None\n",
      "  Explanation: The information available does not provide sufficient detail about Hua Shu's birth circumstances and...\n",
      "  Sources: Potential sources that could provide this information include local historical records from the peri...\n",
      "\n",
      "Processing (4/330): Fang Wanyi (ID: Q25712558), born 1732 in China\n"
     ]
    },
    {
     "name": "stderr",
     "output_type": "stream",
     "text": [
      "  1%|          | 4/330 [00:21<29:41,  5.47s/it]"
     ]
    },
    {
     "name": "stdout",
     "output_type": "stream",
     "text": [
      "  Result: None\n",
      "  Explanation: Unfortunately, there is insufficient information available to definitively classify the birth and ch...\n",
      "  Sources: A thorough search of available historical databases, scholarly articles, and primary source document...\n",
      "\n",
      "Processing (5/330): Dominique Parrenin (ID: Q5291163), born 1665 in China\n"
     ]
    },
    {
     "name": "stderr",
     "output_type": "stream",
     "text": [
      "  2%|▏         | 5/330 [00:27<29:38,  5.47s/it]"
     ]
    },
    {
     "name": "stdout",
     "output_type": "stream",
     "text": [
      "  Result: None\n",
      "  Explanation: Dominique Parrenin was a French Jesuit missionary who was born in France, not China. His exact birth...\n",
      "  Sources: The main sources of information about Parrenin's life are his own writings and the records of the Je...\n",
      "\n",
      "Processing (6/330): Zhu Siben (ID: Q551391), born 1273 in China\n"
     ]
    },
    {
     "name": "stderr",
     "output_type": "stream",
     "text": [
      "  2%|▏         | 6/330 [00:31<27:05,  5.02s/it]"
     ]
    },
    {
     "name": "stdout",
     "output_type": "stream",
     "text": [
      "  Result: Middle Class\n",
      "  Explanation: Zhu Siben was born in the late Yuan Dynasty, around 1273, in what is now Zhejiang Province, China. H...\n",
      "  Sources: \"The Cambridge History of China: Volume 6, Alien Regimes and Border States, 907-1368.\" Edited by Her...\n",
      "\n",
      "Processing (7/330): Cai Runshi (ID: Q45565870), born 1616 in China\n"
     ]
    },
    {
     "name": "stderr",
     "output_type": "stream",
     "text": [
      "  2%|▏         | 7/330 [00:35<25:13,  4.68s/it]"
     ]
    },
    {
     "name": "stdout",
     "output_type": "stream",
     "text": [
      "  Result: None\n",
      "  Explanation: Unfortunately, there is insufficient information available regarding the birth circumstances and fam...\n",
      "  Sources: While there are numerous historical texts and scholarly references about China in the late 1600s, no...\n",
      "\n",
      "Processing (8/330): Zhongfeng Mingben (ID: Q4515516), born 1263 in China\n"
     ]
    },
    {
     "name": "stderr",
     "output_type": "stream",
     "text": [
      "  2%|▏         | 8/330 [00:42<28:34,  5.32s/it]"
     ]
    },
    {
     "name": "stdout",
     "output_type": "stream",
     "text": [
      "  Result: Middle Class\n",
      "  Explanation: Zhongfeng Mingben was born into a family of Confucian scholars, which suggests a middle-class backgr...\n",
      "  Sources: \"The Confucian Transformation of Korea: A Study of Society and Ideology\" by Martina Deuchler; \"The W...\n",
      "\n",
      "Processing (9/330): Bao Yin (ID: Q45505692), born 1766 in China\n"
     ]
    },
    {
     "name": "stderr",
     "output_type": "stream",
     "text": [
      "  3%|▎         | 9/330 [00:46<26:42,  4.99s/it]"
     ]
    },
    {
     "name": "stdout",
     "output_type": "stream",
     "text": [
      "  Result: None\n",
      "  Explanation: The historical figure Bao Yin, born around 1766 in what is now China, does not have readily availabl...\n",
      "  Sources: There are no known primary sources or scholarly references that provide this specific information ab...\n",
      "\n",
      "Processing (10/330): Empress Dowager Cixi (ID: Q47842), born 1835 in China\n"
     ]
    },
    {
     "name": "stderr",
     "output_type": "stream",
     "text": [
      "  3%|▎         | 10/330 [00:54<31:31,  5.91s/it]"
     ]
    },
    {
     "name": "stdout",
     "output_type": "stream",
     "text": [
      "  Result: Middle Class\n",
      "  Explanation: Empress Dowager Cixi, originally named Yehenara Xingzhen, was born into the Manchu Yehe Nara Clan. H...\n",
      "  Sources: \"Empress Dowager Cixi: China's Last Dynasty and the Long Reign of a Formidable Concubine: Legends an...\n",
      "\n",
      "Processing (11/330): Gu Yun (ID: Q16059870), born 1835 in China\n"
     ]
    },
    {
     "name": "stderr",
     "output_type": "stream",
     "text": [
      "  3%|▎         | 11/330 [01:01<33:40,  6.33s/it]"
     ]
    },
    {
     "name": "stdout",
     "output_type": "stream",
     "text": [
      "  Result: Elite\n",
      "  Explanation: Gu Yun, also known as Kuo Pao Kun, was born into a family of the Chinese literati, a social class th...\n",
      "  Sources: \"The Cambridge History of China: Volume 10, Late Ch'ing 1800-1911, Part 1.\" Cambridge University Pre...\n",
      "\n",
      "Processing (12/330): Jean Denis Attiret (ID: Q1403458), born 1702 in China\n"
     ]
    },
    {
     "name": "stderr",
     "output_type": "stream",
     "text": [
      "  4%|▎         | 12/330 [01:09<35:41,  6.74s/it]"
     ]
    },
    {
     "name": "stdout",
     "output_type": "stream",
     "text": [
      "  Result: Middle Class\n",
      "  Explanation: Jean Denis Attiret was born in Dole, France, not China, around 1702. His father was a master painter...\n",
      "  Sources: \"Jean-Denis Attiret: A French Painter at the Court of the Qianlong Emperor\" by Michèle Pirazzoli-t’S...\n",
      "\n",
      "Processing (13/330): Qiu Chuji (ID: Q565148), born 1148 in China\n"
     ]
    },
    {
     "name": "stderr",
     "output_type": "stream",
     "text": [
      "  4%|▍         | 13/330 [01:15<34:49,  6.59s/it]"
     ]
    },
    {
     "name": "stdout",
     "output_type": "stream",
     "text": [
      "  Result: Middle Class\n",
      "  Explanation: Qiu Chuji was born in Shandong province, China, in 1148. His family was of the scholar-gentry class,...\n",
      "  Sources: \"Daoism in China: An Introduction\" by Zhang Qizhi; \"The Taoist Tradition: An Introduction\" by Louis ...\n",
      "\n",
      "Processing (14/330): Xu Zaisi (ID: Q8045156), born 1285 in China\n"
     ]
    },
    {
     "name": "stderr",
     "output_type": "stream",
     "text": [
      "  4%|▍         | 14/330 [01:21<33:09,  6.30s/it]"
     ]
    },
    {
     "name": "stdout",
     "output_type": "stream",
     "text": [
      "  Result: Elite\n",
      "  Explanation: Xu Zaisi was born into a noble family during the Yuan Dynasty in China. His father, Xu Heng, was a w...\n",
      "  Sources: \"The Cambridge History of China: Volume 6, Alien Regimes and Border States, 907-1368.\" Cambridge Uni...\n",
      "\n",
      "Processing (15/330): Xi Huiwen (ID: Q45687150), born 1736 in China\n"
     ]
    },
    {
     "name": "stderr",
     "output_type": "stream",
     "text": [
      "  5%|▍         | 15/330 [01:23<27:28,  5.23s/it]"
     ]
    },
    {
     "name": "stdout",
     "output_type": "stream",
     "text": [
      "  Result: None\n",
      "  Explanation: Unfortunately, there is not enough information available about Xi Huiwen's birth circumstances and f...\n",
      "  Sources: N/A\n",
      "\n",
      "Processing (16/330): Zhizhen Zheng (ID: Q15896410), born 1518 in China\n"
     ]
    },
    {
     "name": "stderr",
     "output_type": "stream",
     "text": [
      "  5%|▍         | 16/330 [01:29<27:31,  5.26s/it]"
     ]
    },
    {
     "name": "stdout",
     "output_type": "stream",
     "text": [
      "  Result: Elite\n",
      "  Explanation: Zhizhen Zheng, also known as Zheng Zhizhen or Master Zheng, was born into a family of high social st...\n",
      "  Sources: \"Zheng Zhizhen\" in Encyclopedia of China (3rd Edition, Shanghai: Shanghai Lexicographical Publishing...\n",
      "\n",
      "Processing (17/330): Li Si (ID: Q152919), born -279 in China\n"
     ]
    },
    {
     "name": "stderr",
     "output_type": "stream",
     "text": [
      "  5%|▌         | 17/330 [01:35<29:36,  5.68s/it]"
     ]
    },
    {
     "name": "stdout",
     "output_type": "stream",
     "text": [
      "  Result: Middle Class\n",
      "  Explanation: Li Si was born in the State of Chu, one of the Seven Warring States. His family was not of noble or ...\n",
      "  Sources: Records of the Grand Historian by Sima Qian, The Book of Han by Ban Gu, and various scholarly articl...\n",
      "\n",
      "Processing (18/330): Li Shizhuo (ID: Q45666889), born 1690 in China\n"
     ]
    },
    {
     "name": "stderr",
     "output_type": "stream",
     "text": [
      "  5%|▌         | 18/330 [01:41<29:30,  5.68s/it]"
     ]
    },
    {
     "name": "stdout",
     "output_type": "stream",
     "text": [
      "  Result: None\n",
      "  Explanation: The information available about Li Shizhuo's early life and family background is insufficient to det...\n",
      "  Sources: The primary sources that could potentially provide this information include local gazetteers, family...\n",
      "\n",
      "Processing (19/330): Wang Bi (ID: Q459865), born 226 in China\n"
     ]
    },
    {
     "name": "stderr",
     "output_type": "stream",
     "text": [
      "  6%|▌         | 19/330 [01:47<30:18,  5.85s/it]"
     ]
    },
    {
     "name": "stdout",
     "output_type": "stream",
     "text": [
      "  Result: Elite\n",
      "  Explanation: Wang Bi was born into a wealthy and influential family in the late Eastern Han dynasty. His father, ...\n",
      "  Sources: The primary source of information about Wang Bi's early life comes from the \"Book of Jin,\" a histori...\n",
      "\n",
      "Processing (20/330): Wanli Emperor (ID: Q10061), born 1563 in China\n"
     ]
    },
    {
     "name": "stderr",
     "output_type": "stream",
     "text": [
      "  6%|▌         | 20/330 [01:54<30:55,  5.99s/it]"
     ]
    },
    {
     "name": "stdout",
     "output_type": "stream",
     "text": [
      "  Result: Elite\n",
      "  Explanation: The Wanli Emperor, born Zhu Yijun, was born into the ruling Ming Dynasty of China, making him a memb...\n",
      "  Sources: \"The Cambridge History of China: Volume 7, The Ming Dynasty, 1368-1644\" by Frederick W. Mote, Denis ...\n",
      "\n",
      "Processing (21/330): Shen Qi (ID: Q45502707), born 1644 in China\n"
     ]
    },
    {
     "name": "stderr",
     "output_type": "stream",
     "text": [
      "  6%|▋         | 21/330 [01:59<30:17,  5.88s/it]"
     ]
    },
    {
     "name": "stdout",
     "output_type": "stream",
     "text": [
      "  Result: None\n",
      "  Explanation: The information regarding Shen Qi's birth circumstances and family background is scarce and not well...\n",
      "  Sources: The potential sources that could provide this information include local historical archives, genealo...\n",
      "\n",
      "Processing (22/330): Wu Guxiang (ID: Q79445941), born 1848 in China\n"
     ]
    },
    {
     "name": "stderr",
     "output_type": "stream",
     "text": [
      "  7%|▋         | 22/330 [02:05<30:00,  5.85s/it]"
     ]
    },
    {
     "name": "stdout",
     "output_type": "stream",
     "text": [
      "  Result: Middle Class\n",
      "  Explanation: Wu Guxiang was born into a family of martial artists in Hebei Province, China. His father, Wu Yuxian...\n",
      "  Sources: \"The Wu Family and the Spread of the Yang Style Taijiquan\" by Zhang Tianyi, \"A Brief History of Tai ...\n",
      "\n",
      "Processing (23/330): Guo Huai (ID: Q736629), born 187 in China\n"
     ]
    },
    {
     "name": "stderr",
     "output_type": "stream",
     "text": [
      "  7%|▋         | 23/330 [02:10<28:57,  5.66s/it]"
     ]
    },
    {
     "name": "stdout",
     "output_type": "stream",
     "text": [
      "  Result: Elite\n",
      "  Explanation: Guo Huai was born into a wealthy and influential family in the late Eastern Han dynasty. His father,...\n",
      "  Sources: The primary source for information on Guo Huai's early life is the \"Records of the Three Kingdoms\" b...\n",
      "\n",
      "Processing (24/330): Li Gong (ID: Q4260681), born 1659 in China\n"
     ]
    },
    {
     "name": "stderr",
     "output_type": "stream",
     "text": [
      "  7%|▋         | 24/330 [02:14<26:00,  5.10s/it]"
     ]
    },
    {
     "name": "stdout",
     "output_type": "stream",
     "text": [
      "  Result: None\n",
      "  Explanation: The information available about Li Gong born around 1659 in China is insufficient to determine his b...\n",
      "  Sources: Potential sources that could provide this information include local historical records, genealogical...\n",
      "\n",
      "Processing (25/330): Emperor Gaozong of Song (ID: Q7489), born 1107 in China\n"
     ]
    },
    {
     "name": "stderr",
     "output_type": "stream",
     "text": [
      "  8%|▊         | 25/330 [02:21<29:31,  5.81s/it]"
     ]
    },
    {
     "name": "stdout",
     "output_type": "stream",
     "text": [
      "  Result: Elite\n",
      "  Explanation: Emperor Gaozong of Song, originally named Zhao Gou, was born into the Song Dynasty's ruling family. ...\n",
      "  Sources: \"The Cambridge History of China: Volume 5, The Sung Dynasty and Its Precursors, 907-1279\", \"Song Dyn...\n",
      "\n",
      "Processing (26/330): Nalan Xingde (ID: Q1131641), born 1655 in China\n"
     ]
    },
    {
     "name": "stderr",
     "output_type": "stream",
     "text": [
      "  8%|▊         | 26/330 [02:26<28:05,  5.54s/it]"
     ]
    },
    {
     "name": "stdout",
     "output_type": "stream",
     "text": [
      "  Result: Elite\n",
      "  Explanation: Nalan Xingde, also known as Nalan Rongruo, was born into the Nara clan, a prominent Manchu noble fam...\n",
      "  Sources: \"Nalan Xingde: His Life and Poems\" by Shen, Vincent Y. C.; \"The Cambridge History of China: Volume 9...\n",
      "\n",
      "Processing (27/330): Yunmen Wenyan (ID: Q2165671), born 864 in China\n"
     ]
    },
    {
     "name": "stderr",
     "output_type": "stream",
     "text": [
      "  8%|▊         | 27/330 [02:34<31:30,  6.24s/it]"
     ]
    },
    {
     "name": "stdout",
     "output_type": "stream",
     "text": [
      "  Result: None\n",
      "  Explanation: The specific details about Yunmen Wenyan's birth circumstances and family background are not well-do...\n",
      "  Sources: The primary source of information about Yunmen Wenyan is the \"Record of Yunmen,\" a collection of his...\n",
      "\n",
      "Processing (28/330): Zhu Derun (ID: Q2889058), born 1294 in China\n"
     ]
    },
    {
     "name": "stderr",
     "output_type": "stream",
     "text": [
      "  8%|▊         | 28/330 [02:40<31:03,  6.17s/it]"
     ]
    },
    {
     "name": "stdout",
     "output_type": "stream",
     "text": [
      "  Result: Middle Class\n",
      "  Explanation: Zhu Derun was born into a family of scholars, which suggests a middle-class background in the contex...\n",
      "  Sources: \"The Cambridge History of China: Volume 6, Alien Regimes and Border States, 907-1368\" by Denis Twitc...\n",
      "\n",
      "Processing (29/330): Bian Que (ID: Q855326), born -500 in China\n"
     ]
    },
    {
     "name": "stderr",
     "output_type": "stream",
     "text": [
      "  9%|▉         | 29/330 [02:45<28:38,  5.71s/it]"
     ]
    },
    {
     "name": "stdout",
     "output_type": "stream",
     "text": [
      "  Result: Middle Class\n",
      "  Explanation: Bian Que, also known as Qin Yueren, was born into a family with a medical background. His father, Qi...\n",
      "  Sources: The Records of the Grand Historian by Sima Qian, The Biographies of Immortals by Ge Hong, The Essent...\n",
      "\n",
      "Processing (30/330): Yang Tianbi (ID: Q61348225), born 1796 in China\n"
     ]
    },
    {
     "name": "stderr",
     "output_type": "stream",
     "text": [
      "  9%|▉         | 30/330 [02:49<26:46,  5.36s/it]"
     ]
    },
    {
     "name": "stdout",
     "output_type": "stream",
     "text": [
      "  Result: None\n",
      "  Explanation: There is insufficient information available to determine the social class of Yang Tianbi at the time...\n",
      "  Sources: A thorough search of available historical databases, scholarly articles, and primary source document...\n",
      "\n",
      "Processing (31/330): Xu Xuetang (ID: Q45545382), born 1644 in China\n"
     ]
    },
    {
     "name": "stderr",
     "output_type": "stream",
     "text": [
      "  9%|▉         | 31/330 [02:57<29:31,  5.93s/it]"
     ]
    },
    {
     "name": "stdout",
     "output_type": "stream",
     "text": [
      "  Result: None\n",
      "  Explanation: Xu Xuetang, also known as Xu Shou, was a notable figure in the late Ming and early Qing periods in C...\n",
      "  Sources: The primary sources that could potentially provide this information would be historical records from...\n",
      "\n",
      "Processing (32/330): Liu Songnian (ID: Q3083484), born 1174 in China\n"
     ]
    },
    {
     "name": "stderr",
     "output_type": "stream",
     "text": [
      " 10%|▉         | 32/330 [03:02<29:08,  5.87s/it]"
     ]
    },
    {
     "name": "stdout",
     "output_type": "stream",
     "text": [
      "  Result: None\n",
      "  Explanation: Liu Songnian was a prominent figure in Chinese history, known for his contributions to the Southern ...\n",
      "  Sources: Existing historical records and scholarly references on Liu Songnian, such as \"Five Dynasties and Te...\n",
      "\n",
      "Processing (33/330): Wang Wei (ID: Q3376669), born 1597 in China\n"
     ]
    },
    {
     "name": "stderr",
     "output_type": "stream",
     "text": [
      " 10%|█         | 33/330 [03:06<25:39,  5.18s/it]"
     ]
    },
    {
     "name": "stdout",
     "output_type": "stream",
     "text": [
      "  Result: Elite\n",
      "  Explanation: Wang Wei was born into a wealthy and influential family in the Tang Dynasty. His father was a govern...\n",
      "  Sources: \"The Poetry of Wang Wei: New Translations and Commentary\" by Pauline Yu, \"The Life and Times of Poet...\n",
      "\n",
      "Processing (34/330): Qian Feng (ID: Q16186107), born 1740 in China\n"
     ]
    },
    {
     "name": "stderr",
     "output_type": "stream",
     "text": [
      " 10%|█         | 34/330 [03:11<25:39,  5.20s/it]"
     ]
    },
    {
     "name": "stdout",
     "output_type": "stream",
     "text": [
      "  Result: None\n",
      "  Explanation: Unfortunately, there is insufficient information available regarding the birth circumstances and fam...\n",
      "  Sources: The primary sources that could potentially provide this information include local government records...\n",
      "\n",
      "Processing (35/330): Wu Zhaoqian (ID: Q10918644), born 1631 in China\n"
     ]
    },
    {
     "name": "stderr",
     "output_type": "stream",
     "text": [
      " 11%|█         | 35/330 [03:19<29:30,  6.00s/it]"
     ]
    },
    {
     "name": "stdout",
     "output_type": "stream",
     "text": [
      "  Result: Middle Class\n",
      "  Explanation: Wu Zhaoqian was born into a family of scholars, which would place them in the middle class according...\n",
      "  Sources: \"The Cambridge History of China: Volume 9, The Ch'ing Dynasty to 1800, Part 2\" by Willard J. Peterso...\n",
      "\n",
      "Processing (36/330): Dai Xu (ID: Q11496194), born 1805 in China\n"
     ]
    },
    {
     "name": "stderr",
     "output_type": "stream",
     "text": [
      " 11%|█         | 36/330 [03:25<28:34,  5.83s/it]"
     ]
    },
    {
     "name": "stdout",
     "output_type": "stream",
     "text": [
      "  Result: Middle Class\n",
      "  Explanation: Dai Xu was born in 1805 in Guangdong, China. His family was of the scholar-gentry class, a social gr...\n",
      "  Sources: \"The Scholar-Gentry Class in the Qing Dynasty\" by Ho Ping-ti; \"The Cambridge History of China: Late ...\n",
      "\n",
      "Processing (37/330): Gao Shiqi (ID: Q15942627), born 1644 in China\n"
     ]
    },
    {
     "name": "stderr",
     "output_type": "stream",
     "text": [
      " 11%|█         | 37/330 [03:32<30:30,  6.25s/it]"
     ]
    },
    {
     "name": "stdout",
     "output_type": "stream",
     "text": [
      "  Result: Middle Class\n",
      "  Explanation: Gao Shiqi was born in a family of scholars in Jiaxing, Zhejiang province, China. His father, Gao Pan...\n",
      "  Sources: \"Gao Shiqi\" in Dictionary of Ming Biography, 1368-1644, Vol. 1 (1976) by L. Carrington Goodrich and ...\n",
      "\n",
      "Processing (38/330): Jing Hao (ID: Q2665475), born 855 in China\n"
     ]
    },
    {
     "name": "stderr",
     "output_type": "stream",
     "text": [
      " 12%|█▏        | 38/330 [03:37<29:21,  6.03s/it]"
     ]
    },
    {
     "name": "stdout",
     "output_type": "stream",
     "text": [
      "  Result: Elite\n",
      "  Explanation: Jing Hao, also known as Jing Hao of Huayang, was born into a noble family during the late Tang Dynas...\n",
      "  Sources: \"The Cambridge History of China: Volume 5, The Sung Dynasty and Its Precursors, 907-1279\", \"A Histor...\n",
      "\n",
      "Processing (39/330): Gu Dashen (ID: Q16922079), born 1620 in China\n"
     ]
    },
    {
     "name": "stderr",
     "output_type": "stream",
     "text": [
      " 12%|█▏        | 39/330 [03:42<27:42,  5.71s/it]"
     ]
    },
    {
     "name": "stdout",
     "output_type": "stream",
     "text": [
      "  Result: None\n",
      "  Explanation: Gu Dashen, also known as Gu Yanwu, is a well-known figure in Chinese history. However, specific deta...\n",
      "  Sources: \"Gu Yanwu: Life, Thought, and Influence\" by Qian Mu, \"The Cambridge History of China: Volume 9, Part...\n",
      "\n",
      "Processing (40/330): Xu Zi (ID: Q11071040), born 1810 in China\n"
     ]
    },
    {
     "name": "stderr",
     "output_type": "stream",
     "text": [
      " 12%|█▏        | 40/330 [03:46<24:31,  5.07s/it]"
     ]
    },
    {
     "name": "stdout",
     "output_type": "stream",
     "text": [
      "  Result: None\n",
      "  Explanation: The information about Xu Zi's birth circumstances and family background is not readily available. Th...\n",
      "  Sources: The potential sources that could provide this information include local archives in China, genealogi...\n",
      "\n",
      "Processing (41/330): Bao Fang (ID: Q16075519), born 722 in China\n"
     ]
    },
    {
     "name": "stderr",
     "output_type": "stream",
     "text": [
      " 12%|█▏        | 41/330 [03:52<25:30,  5.29s/it]"
     ]
    },
    {
     "name": "stdout",
     "output_type": "stream",
     "text": [
      "  Result: None\n",
      "  Explanation: Bao Fang, born around 722 in what is now China, is a historical figure with limited information avai...\n",
      "  Sources: The primary sources that could potentially provide this information would be historical records from...\n",
      "\n",
      "Processing (42/330): Chen Zhuan (ID: Q15936769), born 1678 in China\n"
     ]
    },
    {
     "name": "stderr",
     "output_type": "stream",
     "text": [
      " 13%|█▎        | 42/330 [03:56<24:01,  5.00s/it]"
     ]
    },
    {
     "name": "stdout",
     "output_type": "stream",
     "text": [
      "  Result: None\n",
      "  Explanation: The information about Chen Zhuan's birth circumstances and family background is scarce. There are no...\n",
      "  Sources: There are no specific sources available that provide this information. Further research may be requi...\n",
      "\n",
      "Processing (43/330): Zhang Jian (ID: Q16904447), born 1768 in China\n"
     ]
    },
    {
     "name": "stderr",
     "output_type": "stream",
     "text": [
      " 13%|█▎        | 43/330 [04:03<26:46,  5.60s/it]"
     ]
    },
    {
     "name": "stdout",
     "output_type": "stream",
     "text": [
      "  Result: None\n",
      "  Explanation: There is limited historical data available regarding the early life and family background of Zhang J...\n",
      "  Sources: The primary sources that could potentially provide this information include local administrative rec...\n",
      "\n",
      "Processing (44/330): Zhuangzi (ID: Q47739), born -368 in China\n"
     ]
    },
    {
     "name": "stderr",
     "output_type": "stream",
     "text": [
      " 13%|█▎        | 44/330 [04:10<28:33,  5.99s/it]"
     ]
    },
    {
     "name": "stdout",
     "output_type": "stream",
     "text": [
      "  Result: None\n",
      "  Explanation: The birth circumstances and family background of Zhuangzi, also known as Zhuang Zhou, are largely un...\n",
      "  Sources: The primary source for information about Zhuangzi is the \"Zhuangzi\" text, attributed to him and his ...\n",
      "\n",
      "Processing (45/330): Lo-Tschan-Nai (ID: Q105996004), born 1834 in China\n"
     ]
    },
    {
     "name": "stderr",
     "output_type": "stream",
     "text": [
      " 14%|█▎        | 45/330 [04:15<26:58,  5.68s/it]"
     ]
    },
    {
     "name": "stdout",
     "output_type": "stream",
     "text": [
      "  Result: None\n",
      "  Explanation: The information available about the birth circumstances and family background of Lo-Tschan-Nai, born...\n",
      "  Sources: Comprehensive databases of historical records and scholarly works on 19th-century China, including t...\n",
      "\n",
      "Processing (46/330): Karel Slavíček (ID: Q3508627), born 1678 in China\n"
     ]
    },
    {
     "name": "stderr",
     "output_type": "stream",
     "text": [
      " 14%|█▍        | 46/330 [04:21<27:21,  5.78s/it]"
     ]
    },
    {
     "name": "stdout",
     "output_type": "stream",
     "text": [
      "  Result: None\n",
      "  Explanation: Karel Slavíček was born in the Kingdom of Bohemia (now the Czech Republic), not China, around 1678. ...\n",
      "  Sources: Potential sources that could provide more information about Slavíček's early life and family backgro...\n",
      "\n",
      "Processing (47/330): Pu Songling (ID: Q318406), born 1640 in China\n"
     ]
    },
    {
     "name": "stderr",
     "output_type": "stream",
     "text": [
      " 14%|█▍        | 47/330 [04:27<27:56,  5.92s/it]"
     ]
    },
    {
     "name": "stdout",
     "output_type": "stream",
     "text": [
      "  Result: Middle Class\n",
      "  Explanation: Pu Songling was born into a family of modest means in Zichuan (now Zibo), Shandong province. His fam...\n",
      "  Sources: \"Strange Tales from a Chinese Studio\" by Pu Songling, \"The Social Classes in 17th Century Shanxi\" by...\n",
      "\n",
      "Processing (48/330): Qian Jingshu (ID: Q45448263), born 1596 in China\n"
     ]
    },
    {
     "name": "stderr",
     "output_type": "stream",
     "text": [
      " 15%|█▍        | 48/330 [04:30<23:18,  4.96s/it]"
     ]
    },
    {
     "name": "stdout",
     "output_type": "stream",
     "text": [
      "  Result: None\n",
      "  Explanation: Unfortunately, there is insufficient information available about Qian Jingshu's birth circumstances ...\n",
      "  Sources: N/A\n",
      "\n",
      "Processing (49/330): Wen Zhenmeng (ID: Q7982258), born 1574 in China\n"
     ]
    },
    {
     "name": "stderr",
     "output_type": "stream",
     "text": [
      " 15%|█▍        | 49/330 [04:36<24:39,  5.26s/it]"
     ]
    },
    {
     "name": "stdout",
     "output_type": "stream",
     "text": [
      "  Result: Elite\n",
      "  Explanation: Wen Zhenmeng was born into a prominent family of scholars and officials, which places him in the eli...\n",
      "  Sources: \"Wen Zhenmeng (1574–1636)\" by Craig Clunas in Oxford Art Online; \"The Cambridge History of China: Vo...\n",
      "\n",
      "Processing (50/330): Yu Yue (ID: Q10887841), born 1821 in China\n"
     ]
    },
    {
     "name": "stderr",
     "output_type": "stream",
     "text": [
      " 15%|█▌        | 50/330 [04:44<28:09,  6.03s/it]"
     ]
    },
    {
     "name": "stdout",
     "output_type": "stream",
     "text": [
      "  Result: Middle Class\n",
      "  Explanation: Yu Yue was born in Deqing, Zhejiang, China, in a family of scholars. His father, Yu Chenglong, was a...\n",
      "  Sources: \"Yu Yue.\" Encyclopædia Britannica. Encyclopædia Britannica, inc., n.d. Web. 23 Sept. 2021. <https://...\n",
      "\n",
      "Processing (51/330): Sa Dula (ID: Q4404896), born 1308 in China\n"
     ]
    },
    {
     "name": "stderr",
     "output_type": "stream",
     "text": [
      " 15%|█▌        | 51/330 [04:49<27:20,  5.88s/it]"
     ]
    },
    {
     "name": "stdout",
     "output_type": "stream",
     "text": [
      "  Result: None\n",
      "  Explanation: Sa Dula is a historical figure from the Yuan Dynasty in China, but there is limited information avai...\n",
      "  Sources: The primary sources that could potentially provide this information include historical texts from th...\n",
      "\n",
      "Processing (52/330): Chen Yuyi (ID: Q2898739), born 1090 in China\n"
     ]
    },
    {
     "name": "stderr",
     "output_type": "stream",
     "text": [
      " 16%|█▌        | 52/330 [04:54<26:02,  5.62s/it]"
     ]
    },
    {
     "name": "stdout",
     "output_type": "stream",
     "text": [
      "  Result: Elite\n",
      "  Explanation: Chen Yuyi was born into a family of high social standing in the Song Dynasty. His father, Chen Shida...\n",
      "  Sources: \"The Cambridge History of China: Volume 5, The Sung Dynasty and Its Precursors, 907-1279\", \"The Poem...\n",
      "\n",
      "Processing (53/330): Sun Simiao (ID: Q981193), born 581 in China\n"
     ]
    },
    {
     "name": "stderr",
     "output_type": "stream",
     "text": [
      " 16%|█▌        | 53/330 [05:01<27:48,  6.02s/it]"
     ]
    },
    {
     "name": "stdout",
     "output_type": "stream",
     "text": [
      "  Result: Middle Class\n",
      "  Explanation: Sun Simiao was born in what is now Shanxi Province, China. His family was not of the ruling elite or...\n",
      "  Sources: \"Sun Simiao: Author of the Earliest Chinese Encyclopedia for Clinical Practice,\" by H. F. J. ten Raa...\n",
      "\n",
      "Processing (54/330): Ouyang De (ID: Q30949294), born 1496 in China\n"
     ]
    },
    {
     "name": "stderr",
     "output_type": "stream",
     "text": [
      " 16%|█▋        | 54/330 [05:05<24:29,  5.32s/it]"
     ]
    },
    {
     "name": "stdout",
     "output_type": "stream",
     "text": [
      "  Result: None\n",
      "  Explanation: Ouyang De is not a well-known historical figure, and there is limited information available about hi...\n",
      "  Sources: Comprehensive research in available historical databases and scholarly resources did not yield suffi...\n",
      "\n",
      "Processing (55/330): Tan Ziying (ID: Q45436632), born 1796 in China\n"
     ]
    },
    {
     "name": "stderr",
     "output_type": "stream",
     "text": [
      " 17%|█▋        | 55/330 [05:09<22:50,  4.99s/it]"
     ]
    },
    {
     "name": "stdout",
     "output_type": "stream",
     "text": [
      "  Result: None\n",
      "  Explanation: There is insufficient information available about the birth circumstances and family background of T...\n",
      "  Sources: The potential sources that could provide this information include Chinese local gazetteers, family g...\n",
      "\n",
      "Processing (56/330): Wen Ding (ID: Q20903232), born 1766 in China\n"
     ]
    },
    {
     "name": "stderr",
     "output_type": "stream",
     "text": [
      " 17%|█▋        | 56/330 [05:15<23:29,  5.14s/it]"
     ]
    },
    {
     "name": "stdout",
     "output_type": "stream",
     "text": [
      "  Result: None\n",
      "  Explanation: Wen Ding is a historical figure from ancient China, specifically from the Shang Dynasty, which ruled...\n",
      "  Sources: Oracle bones and other archaeological findings from the Shang Dynasty period; \"The Cambridge History...\n",
      "\n",
      "Processing (57/330): Zhang Xueya (ID: Q45471967), born 1649 in China\n"
     ]
    },
    {
     "name": "stderr",
     "output_type": "stream",
     "text": [
      " 17%|█▋        | 57/330 [05:19<22:41,  4.99s/it]"
     ]
    },
    {
     "name": "stdout",
     "output_type": "stream",
     "text": [
      "  Result: None\n",
      "  Explanation: Unfortunately, there is not enough information available about Zhang Xueya's birth circumstances and...\n",
      "  Sources: While there are many historical texts and scholarly references that provide information about the so...\n",
      "\n",
      "Processing (58/330): Cai Ziqiong (ID: Q45690567), born 1816 in China\n"
     ]
    },
    {
     "name": "stderr",
     "output_type": "stream",
     "text": [
      " 18%|█▊        | 58/330 [05:23<20:57,  4.62s/it]"
     ]
    },
    {
     "name": "stdout",
     "output_type": "stream",
     "text": [
      "  Result: None\n",
      "  Explanation: Unfortunately, there is insufficient information available on the early life and family background o...\n",
      "  Sources: There are no specific sources available that provide detailed information about Cai Ziqiong's early ...\n",
      "\n",
      "Processing (59/330): Chen Yuanyuan (ID: Q698781), born 1624 in China\n"
     ]
    },
    {
     "name": "stderr",
     "output_type": "stream",
     "text": [
      " 18%|█▊        | 59/330 [05:28<20:52,  4.62s/it]"
     ]
    },
    {
     "name": "stdout",
     "output_type": "stream",
     "text": [
      "  Result: Middle Class\n",
      "  Explanation: Chen Yuanyuan was born into a family of courtesans, which was a respected profession in the late Min...\n",
      "  Sources: \"The Courtesan's Arts: Cross-Cultural Perspectives\" by Martha Feldman and Bonnie Gordon; \"The World ...\n",
      "\n",
      "Processing (60/330): Zhou Yifan (ID: Q45442443), born 1821 in China\n"
     ]
    },
    {
     "name": "stderr",
     "output_type": "stream",
     "text": [
      " 18%|█▊        | 60/330 [05:32<20:12,  4.49s/it]"
     ]
    },
    {
     "name": "stdout",
     "output_type": "stream",
     "text": [
      "  Result: None\n",
      "  Explanation: The information available does not provide sufficient details about Zhou Yifan's birth circumstances...\n",
      "  Sources: General knowledge of historical record-keeping in 19th century China. Further research would require...\n",
      "\n",
      "Processing (61/330): Ni Can (ID: Q16904615), born 1626 in China\n"
     ]
    },
    {
     "name": "stderr",
     "output_type": "stream",
     "text": [
      " 18%|█▊        | 61/330 [05:41<26:14,  5.85s/it]"
     ]
    },
    {
     "name": "stdout",
     "output_type": "stream",
     "text": [
      "  Result: Elite\n",
      "  Explanation: Ni Can was born into a family of the literati class, which was the ruling elite in China during the ...\n",
      "  Sources: \"The Cambridge History of China: Volume 9, The Ch'ing Dynasty to 1800, Part 2\" by Willard J. Peterso...\n",
      "\n",
      "Processing (62/330): Wu Dacheng (ID: Q5369182), born 1835 in China\n"
     ]
    },
    {
     "name": "stderr",
     "output_type": "stream",
     "text": [
      " 19%|█▉        | 62/330 [05:48<28:21,  6.35s/it]"
     ]
    },
    {
     "name": "stdout",
     "output_type": "stream",
     "text": [
      "  Result: Elite\n",
      "  Explanation: Wu Dacheng was born into a wealthy and influential family in the late Qing Dynasty. His father, Wu R...\n",
      "  Sources: \"Wu Dacheng (1835-1902): Calligrapher, Art Connoisseur, and High-ranking Qing Official\" by Richard J...\n",
      "\n",
      "Processing (63/330): Yang Jiong (ID: Q5370024), born 650 in China\n"
     ]
    },
    {
     "name": "stderr",
     "output_type": "stream",
     "text": [
      " 19%|█▉        | 63/330 [05:53<26:28,  5.95s/it]"
     ]
    },
    {
     "name": "stdout",
     "output_type": "stream",
     "text": [
      "  Result: Elite\n",
      "  Explanation: Yang Jiong was born into a family of high social standing in the Tang Dynasty. His father, Yang Shid...\n",
      "  Sources: \"The Old Book of Tang\" (Jiu Tang Shu), \"The New Book of Tang\" (Xin Tang Shu), and various scholarly ...\n",
      "\n",
      "Processing (64/330): Bian Yujing (ID: Q8249433), born 1623 in China\n"
     ]
    },
    {
     "name": "stderr",
     "output_type": "stream",
     "text": [
      " 19%|█▉        | 64/330 [06:01<28:29,  6.43s/it]"
     ]
    },
    {
     "name": "stdout",
     "output_type": "stream",
     "text": [
      "  Result: Middle Class\n",
      "  Explanation: Bian Yujing was born into a family of scholars in the late Ming Dynasty. Her father, Bian Wenyuan, w...\n",
      "  Sources: \"The Inner Quarters and Beyond: Women Writers from Ming through Qing\", edited by Grace S. Fong, Elle...\n",
      "\n",
      "Processing (65/330): Han Gan (ID: Q561952), born 742 in China\n"
     ]
    },
    {
     "name": "stderr",
     "output_type": "stream",
     "text": [
      " 20%|█▉        | 65/330 [06:07<28:43,  6.50s/it]"
     ]
    },
    {
     "name": "stdout",
     "output_type": "stream",
     "text": [
      "  Result: Middle Class\n",
      "  Explanation: Han Gan was born in the late Tang Dynasty, a period marked by social mobility and a flourishing econ...\n",
      "  Sources: \"Han Gan,\" The Metropolitan Museum of Art, 2000; \"The Tang Dynasty,\" Ancient History Encyclopedia, 2...\n",
      "\n",
      "Processing (66/330): Jean-Damascène Sallusti (ID: Q16204032), born 1727 in China\n"
     ]
    },
    {
     "name": "stderr",
     "output_type": "stream",
     "text": [
      " 20%|██        | 66/330 [06:15<30:00,  6.82s/it]"
     ]
    },
    {
     "name": "stdout",
     "output_type": "stream",
     "text": [
      "  Result: None\n",
      "  Explanation: Jean-Damascène Sallusti, also known as Dao Sheng, was a Chinese Catholic priest and member of the La...\n",
      "  Sources: Existing biographical information on Jean-Damascène Sallusti primarily focuses on his religious and ...\n",
      "\n",
      "Processing (67/330): Xu Songzhu (ID: Q45503354), born 1797 in China\n"
     ]
    },
    {
     "name": "stderr",
     "output_type": "stream",
     "text": [
      " 20%|██        | 67/330 [06:21<28:38,  6.54s/it]"
     ]
    },
    {
     "name": "stdout",
     "output_type": "stream",
     "text": [
      "  Result: None\n",
      "  Explanation: The information about Xu Songzhu's birth circumstances, family background, and early life is not rea...\n",
      "  Sources: Further research would be needed to determine Xu Songzhu's social class at birth. Potential sources ...\n",
      "\n",
      "Processing (68/330): Gao Ming (ID: Q2716779), born 1305 in China\n"
     ]
    },
    {
     "name": "stderr",
     "output_type": "stream",
     "text": [
      " 21%|██        | 68/330 [06:26<26:32,  6.08s/it]"
     ]
    },
    {
     "name": "stdout",
     "output_type": "stream",
     "text": [
      "  Result: Middle Class\n",
      "  Explanation: Gao Ming was born into a family of middle-class status. His father was a minor official, which place...\n",
      "  Sources: \"The Plum in the Golden Vase Or, Chin P'ing Mei: Volume Five: The Dissolution\" by David Tod Roy; \"Th...\n",
      "\n",
      "Processing (69/330): Xue Juzheng (ID: Q1275708), born 912 in China\n"
     ]
    },
    {
     "name": "stderr",
     "output_type": "stream",
     "text": [
      " 21%|██        | 69/330 [06:31<25:33,  5.87s/it]"
     ]
    },
    {
     "name": "stdout",
     "output_type": "stream",
     "text": [
      "  Result: Elite\n",
      "  Explanation: Xue Juzheng was born into a family of high-ranking officials, which places him in the elite class of...\n",
      "  Sources: \"Old History of the Five Dynasties\" (五代史记), \"New History of the Five Dynasties\" (新五代史), and \"Zizhi T...\n",
      "\n",
      "Processing (70/330): Jiao Yu (ID: Q986624), born 1350 in China\n"
     ]
    },
    {
     "name": "stderr",
     "output_type": "stream",
     "text": [
      " 21%|██        | 70/330 [06:36<23:40,  5.46s/it]"
     ]
    },
    {
     "name": "stdout",
     "output_type": "stream",
     "text": [
      "  Result: None\n",
      "  Explanation: Jiao Yu was a prominent Chinese military officer and writer during the Ming Dynasty, but specific de...\n",
      "  Sources: The primary source of information about Jiao Yu is his own work, the \"Huolongjing\" (Fire Dragon Manu...\n",
      "\n",
      "Processing (71/330): Wang Wu (ID: Q3566095), born 1632 in China\n"
     ]
    },
    {
     "name": "stderr",
     "output_type": "stream",
     "text": [
      " 22%|██▏       | 71/330 [06:41<23:48,  5.51s/it]"
     ]
    },
    {
     "name": "stdout",
     "output_type": "stream",
     "text": [
      "  Result: None\n",
      "  Explanation: Wang Wu is a common name in China, and without more specific information, it's difficult to determin...\n",
      "  Sources: General historical texts on late Ming and early Qing dynasty China may provide some context, but spe...\n",
      "\n",
      "Processing (72/330): Huang Peifang (ID: Q28148331), born 1778 in China\n"
     ]
    },
    {
     "name": "stderr",
     "output_type": "stream",
     "text": [
      " 22%|██▏       | 72/330 [06:48<24:44,  5.75s/it]"
     ]
    },
    {
     "name": "stdout",
     "output_type": "stream",
     "text": [
      "  Result: Middle Class\n",
      "  Explanation: Huang Peifang, later known as Lin Zexu, was born into a family of middle-class scholars in Fuzhou, F...\n",
      "  Sources: \"Lin Zexu: Pioneer in the War on Drugs\" by Zhou Xun, \"The Opium War: Drugs, Dreams and the Making of...\n",
      "\n",
      "Processing (73/330): Wu Lang (ID: Q10919641), born 1719 in China\n"
     ]
    },
    {
     "name": "stderr",
     "output_type": "stream",
     "text": [
      " 22%|██▏       | 73/330 [06:54<25:19,  5.91s/it]"
     ]
    },
    {
     "name": "stdout",
     "output_type": "stream",
     "text": [
      "  Result: None\n",
      "  Explanation: The information about Wu Lang's birth circumstances and family background is not readily available o...\n",
      "  Sources: The primary sources that could potentially provide this information would be local records or family...\n",
      "\n",
      "Processing (74/330): Bao Shichen (ID: Q10901530), born 1775 in China\n"
     ]
    },
    {
     "name": "stderr",
     "output_type": "stream",
     "text": [
      " 22%|██▏       | 74/330 [07:08<35:29,  8.32s/it]"
     ]
    },
    {
     "name": "stdout",
     "output_type": "stream",
     "text": [
      "  Result: Middle Class\n",
      "  Explanation: Bao Shichen was born into a family of scholars in the late 18th century in China. His father, Bao Zh...\n",
      "  Sources: \"The Cambridge History of China: Volume 9, Part 1: The Ch'ing Empire to 1800\", edited by Willard J. ...\n",
      "\n",
      "Processing (75/330): Liang Yunshu (ID: Q45694755), born 1780 in China\n"
     ]
    },
    {
     "name": "stderr",
     "output_type": "stream",
     "text": [
      " 23%|██▎       | 75/330 [07:13<31:06,  7.32s/it]"
     ]
    },
    {
     "name": "stdout",
     "output_type": "stream",
     "text": [
      "  Result: None\n",
      "  Explanation: The information about Liang Yunshu's birth circumstances and family background is scarce and not wel...\n",
      "  Sources: Potential sources that could provide this information include local historical records, genealogical...\n",
      "\n",
      "Processing (76/330): Liu Si York (ID: Q10899517), born 1762 in China\n"
     ]
    },
    {
     "name": "stderr",
     "output_type": "stream",
     "text": [
      " 23%|██▎       | 76/330 [07:19<28:52,  6.82s/it]"
     ]
    },
    {
     "name": "stdout",
     "output_type": "stream",
     "text": [
      "  Result: None\n",
      "  Explanation: The information available does not provide sufficient details about Liu Si York's birth circumstance...\n",
      "  Sources: The primary sources consulted include the \"Qing Shi Gao\" (Draft History of Qing), \"Qing Shi Lu\" (Ver...\n",
      "\n",
      "Processing (77/330): Xu Jiefeng (ID: Q11070382), born 1628 in China\n"
     ]
    },
    {
     "name": "stderr",
     "output_type": "stream",
     "text": [
      " 23%|██▎       | 77/330 [07:23<26:05,  6.19s/it]"
     ]
    },
    {
     "name": "stdout",
     "output_type": "stream",
     "text": [
      "  Result: None\n",
      "  Explanation: The information available about Xu Jiefeng's early life and family background is insufficient to det...\n",
      "  Sources: Existing literature on Xu Xiake, such as \"Xu Xiake (1587-1641): The Art of Travel Writing\" by Julian...\n",
      "\n",
      "Processing (78/330): Zong Wan (ID: Q45687983), born 1810 in China\n"
     ]
    },
    {
     "name": "stderr",
     "output_type": "stream",
     "text": [
      " 24%|██▎       | 78/330 [07:30<26:56,  6.41s/it]"
     ]
    },
    {
     "name": "stdout",
     "output_type": "stream",
     "text": [
      "  Result: None\n",
      "  Explanation: The information available about Zong Wan's birth circumstances and family background is insufficient...\n",
      "  Sources: A thorough search of available historical records, ancient texts, and scholarly references has not y...\n",
      "\n",
      "Processing (79/330): Dalai Lama 06 Tsangyang Gyatso (ID: Q25251), born 1683 in China\n"
     ]
    },
    {
     "name": "stderr",
     "output_type": "stream",
     "text": [
      " 24%|██▍       | 79/330 [07:39<29:43,  7.11s/it]"
     ]
    },
    {
     "name": "stdout",
     "output_type": "stream",
     "text": [
      "  Result: Elite\n",
      "  Explanation: Tsangyang Gyatso, the 6th Dalai Lama, was born in Monyu, Tibet, in 1683. His father, Tashi Tenzin, w...\n",
      "  Sources: \"The Sixth Dalai Lama Tsangyang Gyatso\" by Tsering Shakya, \"The Life of the Sixth Dalai Lama Tsangya...\n",
      "\n",
      "Processing (80/330): Bada Shanren (ID: Q198097), born 1626 in China\n"
     ]
    },
    {
     "name": "stderr",
     "output_type": "stream",
     "text": [
      " 24%|██▍       | 80/330 [07:44<26:23,  6.33s/it]"
     ]
    },
    {
     "name": "stdout",
     "output_type": "stream",
     "text": [
      "  Result: Elite\n",
      "  Explanation: Bada Shanren, born as Zhu Da, was a member of the Ming dynasty royal family. His great-grandfather w...\n",
      "  Sources: \"Bada Shanren (1626–1705)\" by the Metropolitan Museum of Art; \"Bada Shanren: The Enigmatic Genius\" b...\n",
      "\n",
      "Processing (81/330): Zeng Jihong (ID: Q7482540), born 1848 in China\n"
     ]
    },
    {
     "name": "stderr",
     "output_type": "stream",
     "text": [
      " 25%|██▍       | 81/330 [07:48<24:21,  5.87s/it]"
     ]
    },
    {
     "name": "stdout",
     "output_type": "stream",
     "text": [
      "  Result: None\n",
      "  Explanation: Unfortunately, there is insufficient information available on Zeng Jihong's early life and family ba...\n",
      "  Sources: The lack of information could potentially be addressed by more in-depth research into local records,...\n",
      "\n",
      "Processing (82/330): Filippo de Filippi (ID: Q1352492), born 1814 in China\n"
     ]
    },
    {
     "name": "stderr",
     "output_type": "stream",
     "text": [
      " 25%|██▍       | 82/330 [07:54<24:04,  5.82s/it]"
     ]
    },
    {
     "name": "stdout",
     "output_type": "stream",
     "text": [
      "  Result: Middle Class\n",
      "  Explanation: Filippo De Filippi was born into a middle-class family. His father, Carlo De Filippi, was a physicia...\n",
      "  Sources: \"Filippo De Filippi.\" Encyclopædia Britannica. Encyclopædia Britannica, Inc. \n",
      "\n",
      "If you are interested...\n",
      "\n",
      "Processing (83/330): Wang Youdun (ID: Q11137021), born 1692 in China\n"
     ]
    },
    {
     "name": "stderr",
     "output_type": "stream",
     "text": [
      " 25%|██▌       | 83/330 [08:01<24:58,  6.07s/it]"
     ]
    },
    {
     "name": "stdout",
     "output_type": "stream",
     "text": [
      "  Result: Middle Class\n",
      "  Explanation: Wang Youdun was born into a family of scholars in the late 17th century in China. His father, Wang S...\n",
      "  Sources: \"Wang Shizhen and the Broadening of the Literati Community in the Late Ming Dynasty\" by Richard L. D...\n",
      "\n",
      "Processing (84/330): Gao Panlong (ID: Q14942746), born 1562 in China\n"
     ]
    },
    {
     "name": "stderr",
     "output_type": "stream",
     "text": [
      " 25%|██▌       | 84/330 [08:08<26:57,  6.58s/it]"
     ]
    },
    {
     "name": "stdout",
     "output_type": "stream",
     "text": [
      "  Result: Elite\n",
      "  Explanation: Gao Panlong was born into a family of scholars and officials, which places him in the elite class of...\n",
      "  Sources: \"Gao Panlong (1562-1626) and the Confucian Learning in Late Ming China\" by Qitao Guo; \"The Cambridge...\n",
      "\n",
      "Processing (85/330): Wang Yunyu (ID: Q45694457), born 1743 in China\n"
     ]
    },
    {
     "name": "stderr",
     "output_type": "stream",
     "text": [
      " 26%|██▌       | 85/330 [08:13<24:19,  5.96s/it]"
     ]
    },
    {
     "name": "stdout",
     "output_type": "stream",
     "text": [
      "  Result: None\n",
      "  Explanation: The information available about Wang Yunyu's early life and family background is scarce. There is no...\n",
      "  Sources: There are no known primary sources or scholarly references that provide detailed information about W...\n",
      "\n",
      "Processing (86/330): Li Yu (ID: Q310898), born 1610 in China\n"
     ]
    },
    {
     "name": "stderr",
     "output_type": "stream",
     "text": [
      " 26%|██▌       | 86/330 [08:21<27:09,  6.68s/it]"
     ]
    },
    {
     "name": "stdout",
     "output_type": "stream",
     "text": [
      "  Result: Middle Class\n",
      "  Explanation: Li Yu was born into a family of literati, a social class in China that was characterized by their ed...\n",
      "  Sources: \"Li Yu.\" Encyclopædia Britannica. https://www.britannica.com/biography/Li-Yu-Chinese-dramatist; \"The...\n",
      "\n",
      "Processing (87/330): Zhang Wentao (ID: Q11067741), born 1764 in China\n"
     ]
    },
    {
     "name": "stderr",
     "output_type": "stream",
     "text": [
      " 26%|██▋       | 87/330 [08:27<25:30,  6.30s/it]"
     ]
    },
    {
     "name": "stdout",
     "output_type": "stream",
     "text": [
      "  Result: None\n",
      "  Explanation: Unfortunately, there is not enough information available to definitively classify the birth and chil...\n",
      "  Sources: While there are numerous historical texts and scholarly references that provide insight into the soc...\n",
      "\n",
      "Processing (88/330): Wei Fengzhen (ID: Q45449668), born 1766 in China\n"
     ]
    },
    {
     "name": "stderr",
     "output_type": "stream",
     "text": [
      " 27%|██▋       | 88/330 [08:31<22:48,  5.66s/it]"
     ]
    },
    {
     "name": "stdout",
     "output_type": "stream",
     "text": [
      "  Result: None\n",
      "  Explanation: Unfortunately, there is not enough information available to determine the social class of Wei Fengzh...\n",
      "  Sources: There are no known primary sources or scholarly references that provide this information. Further re...\n",
      "\n",
      "Processing (89/330): Ge Yi (ID: Q45439486), born 1635 in China\n"
     ]
    },
    {
     "name": "stderr",
     "output_type": "stream",
     "text": [
      " 27%|██▋       | 89/330 [08:36<22:05,  5.50s/it]"
     ]
    },
    {
     "name": "stdout",
     "output_type": "stream",
     "text": [
      "  Result: None\n",
      "  Explanation: The information regarding Ge Yi's birth circumstances and family background is not readily available...\n",
      "  Sources: Potential sources that could provide this information include local archives, genealogical records, ...\n",
      "\n",
      "Processing (90/330): Lin Chung (ID: Q11107241), born 1340 in China\n"
     ]
    },
    {
     "name": "stderr",
     "output_type": "stream",
     "text": [
      " 27%|██▋       | 90/330 [08:40<20:35,  5.15s/it]"
     ]
    },
    {
     "name": "stdout",
     "output_type": "stream",
     "text": [
      "  Result: None\n",
      "  Explanation: The historical figure Lin Chung, born around 1340 in what is now China, is not widely documented in ...\n",
      "  Sources: Lack of primary historical sources or scholarly references.\n",
      "\n",
      "Processing (91/330): Xu Shen (ID: Q559731), born 58 in China\n"
     ]
    },
    {
     "name": "stderr",
     "output_type": "stream",
     "text": [
      " 28%|██▊       | 91/330 [08:47<22:11,  5.57s/it]"
     ]
    },
    {
     "name": "stdout",
     "output_type": "stream",
     "text": [
      "  Result: None\n",
      "  Explanation: Xu Shen, born around 58 AD, is a renowned figure in Chinese history, known for his work \"Shuowen Jie...\n",
      "  Sources: The primary source for information about Xu Shen is his own work, \"Shuowen Jiezi,\" but this does not...\n",
      "\n",
      "Processing (92/330): Ji Zhu (ID: Q45523633), born 1644 in China\n"
     ]
    },
    {
     "name": "stderr",
     "output_type": "stream",
     "text": [
      " 28%|██▊       | 92/330 [08:52<21:35,  5.44s/it]"
     ]
    },
    {
     "name": "stdout",
     "output_type": "stream",
     "text": [
      "  Result: None\n",
      "  Explanation: The information available on Ji Zhu born around 1644 in China is insufficient to determine their soc...\n",
      "  Sources: Further research would be required to gather this information. Potential sources could include histo...\n",
      "\n",
      "Processing (93/330): Ge Yilong (ID: Q110175709), born 1567 in China\n"
     ]
    },
    {
     "name": "stderr",
     "output_type": "stream",
     "text": [
      " 28%|██▊       | 93/330 [08:57<20:57,  5.31s/it]"
     ]
    },
    {
     "name": "stdout",
     "output_type": "stream",
     "text": [
      "  Result: None\n",
      "  Explanation: There is insufficient information available on Ge Yilong's birth circumstances and family background...\n",
      "  Sources: While there are numerous historical sources on the Ming Dynasty period in China, specific informatio...\n",
      "\n",
      "Processing (94/330): Li Xingchi (ID: Q45703668), born 1801 in China\n"
     ]
    },
    {
     "name": "stderr",
     "output_type": "stream",
     "text": [
      " 28%|██▊       | 94/330 [09:02<20:31,  5.22s/it]"
     ]
    },
    {
     "name": "stdout",
     "output_type": "stream",
     "text": [
      "  Result: None\n",
      "  Explanation: The information available does not provide sufficient details about Li Xingchi's birth circumstances...\n",
      "  Sources: A thorough search of available historical databases, scholarly articles, and primary source document...\n",
      "\n",
      "Processing (95/330): He Ruoqiong (ID: Q45698484), born 1766 in China\n"
     ]
    },
    {
     "name": "stderr",
     "output_type": "stream",
     "text": [
      " 29%|██▉       | 95/330 [09:09<21:56,  5.60s/it]"
     ]
    },
    {
     "name": "stdout",
     "output_type": "stream",
     "text": [
      "  Result: Elite\n",
      "  Explanation: He Ruoqiong was born into a family of the Chinese literati, a social class that was part of the elit...\n",
      "  Sources: \"Qing Dynasty Civil Service: The Nine Ministers and Their Duties\" by John K. Fairbank, \"The Chinese ...\n",
      "\n",
      "Processing (96/330): Jules-Léon Dutreuil de Rhins (ID: Q727912), born 1846 in China\n"
     ]
    },
    {
     "name": "stderr",
     "output_type": "stream",
     "text": [
      " 29%|██▉       | 96/330 [09:14<21:42,  5.57s/it]"
     ]
    },
    {
     "name": "stdout",
     "output_type": "stream",
     "text": [
      "  Result: None\n",
      "  Explanation: The information available about Jules-Léon Dutreuil de Rhins' early life and family background is sc...\n",
      "  Sources: There are no known primary sources that provide detailed information about Dutreuil de Rhins' early ...\n",
      "\n",
      "Processing (97/330): Wu Fanghua (ID: Q45581881), born 1621 in China\n"
     ]
    },
    {
     "name": "stderr",
     "output_type": "stream",
     "text": [
      " 29%|██▉       | 97/330 [09:19<20:44,  5.34s/it]"
     ]
    },
    {
     "name": "stdout",
     "output_type": "stream",
     "text": [
      "  Result: None\n",
      "  Explanation: The birth circumstances and family background of Wu Fanghua, born around 1621 in what is now China, ...\n",
      "  Sources: A thorough search of available historical databases, ancient texts, and scholarly references did not...\n",
      "\n",
      "Processing (98/330): Lin Puqing (ID: Q45476999), born 1821 in China\n"
     ]
    },
    {
     "name": "stderr",
     "output_type": "stream",
     "text": [
      " 30%|██▉       | 98/330 [09:22<18:36,  4.81s/it]"
     ]
    },
    {
     "name": "stdout",
     "output_type": "stream",
     "text": [
      "  Result: None\n",
      "  Explanation: The information available on Lin Puqing's early life and family background is scarce. There is not e...\n",
      "  Sources: The potential sources that could provide this information include Chinese historical archives, local...\n",
      "\n",
      "Processing (99/330): Ge Yunfei (ID: Q5529433), born 1789 in China\n"
     ]
    },
    {
     "name": "stderr",
     "output_type": "stream",
     "text": [
      " 30%|███       | 99/330 [09:28<19:00,  4.94s/it]"
     ]
    },
    {
     "name": "stdout",
     "output_type": "stream",
     "text": [
      "  Result: Middle Class\n",
      "  Explanation: Ge Yunfei was born into a family of scholars, which was a respected profession in China during the l...\n",
      "  Sources: \"The Scholars\" by Wu Jingzi; \"The Imperial Examination System in China\" by John Chaffee; \"The Chines...\n",
      "\n",
      "Processing (100/330): Gao Cen (ID: Q3095226), born 1621 in China\n"
     ]
    },
    {
     "name": "stderr",
     "output_type": "stream",
     "text": [
      " 30%|███       | 100/330 [09:32<18:48,  4.90s/it]"
     ]
    },
    {
     "name": "stdout",
     "output_type": "stream",
     "text": [
      "  Result: None\n",
      "  Explanation: There is insufficient information available regarding the birth circumstances and family background ...\n",
      "  Sources: The primary sources that could potentially provide this information would be local records or family...\n",
      "\n",
      "Processing (101/330): Pierre-Marie-François Lalouyer (ID: Q32606701), born 1850 in China\n"
     ]
    },
    {
     "name": "stderr",
     "output_type": "stream",
     "text": [
      " 31%|███       | 101/330 [09:37<18:14,  4.78s/it]"
     ]
    },
    {
     "name": "stdout",
     "output_type": "stream",
     "text": [
      "  Result: None\n",
      "  Explanation: The information available about Pierre-Marie-François Lalouyer's birth circumstances and family back...\n",
      "  Sources: Further research would be needed in primary sources such as birth records, census data, or family do...\n",
      "\n",
      "Processing (102/330): Shen Shulan (ID: Q45518939), born 1652 in China\n"
     ]
    },
    {
     "name": "stderr",
     "output_type": "stream",
     "text": [
      " 31%|███       | 102/330 [09:41<17:14,  4.54s/it]"
     ]
    },
    {
     "name": "stdout",
     "output_type": "stream",
     "text": [
      "  Result: None\n",
      "  Explanation: Shen Shulan, born around 1652 in what is now China, is not a well-documented historical figure. Ther...\n",
      "  Sources: A thorough search of available historical databases, scholarly articles, and ancient texts did not y...\n",
      "\n",
      "Processing (103/330): Tu Jingxin (ID: Q45684449), born 1796 in China\n"
     ]
    },
    {
     "name": "stderr",
     "output_type": "stream",
     "text": [
      " 31%|███       | 103/330 [09:46<17:45,  4.69s/it]"
     ]
    },
    {
     "name": "stdout",
     "output_type": "stream",
     "text": [
      "  Result: None\n",
      "  Explanation: Unfortunately, there is not enough information available to determine the social class of Tu Jingxin...\n",
      "  Sources: N/A\n",
      "\n",
      "Processing (104/330): Shen Hanguang (ID: Q18744358), born 1619 in China\n"
     ]
    },
    {
     "name": "stderr",
     "output_type": "stream",
     "text": [
      " 32%|███▏      | 104/330 [09:52<19:40,  5.22s/it]"
     ]
    },
    {
     "name": "stdout",
     "output_type": "stream",
     "text": [
      "  Result: None\n",
      "  Explanation: There is insufficient information available regarding the birth circumstances and family background ...\n",
      "  Sources: The primary sources that could potentially provide this information include local gazetteers, househ...\n",
      "\n",
      "Processing (105/330): Lin Bu (ID: Q285429), born 967 in China\n"
     ]
    },
    {
     "name": "stderr",
     "output_type": "stream",
     "text": [
      " 32%|███▏      | 105/330 [09:58<19:45,  5.27s/it]"
     ]
    },
    {
     "name": "stdout",
     "output_type": "stream",
     "text": [
      "  Result: Elite\n",
      "  Explanation: Lin Bu, also known as Lin Hejing, was born into a family of officials, indicating a high social stan...\n",
      "  Sources: \"A Brief Biography of Lin Bu\" by Qian Zhonglian, \"The Poems of Lin Hejing\" by Xu Yuanchong.\n",
      "\n",
      "Processing (106/330): Wan Guangtai (ID: Q10864865), born 1712 in China\n"
     ]
    },
    {
     "name": "stderr",
     "output_type": "stream",
     "text": [
      " 32%|███▏      | 106/330 [10:03<18:59,  5.09s/it]"
     ]
    },
    {
     "name": "stdout",
     "output_type": "stream",
     "text": [
      "  Result: None\n",
      "  Explanation: Wan Guangtai, also known as Wang Guangtai, is a historical figure from the Qing Dynasty era in China...\n",
      "  Sources: The primary sources that could potentially provide this information include Qing Dynasty era records...\n",
      "\n",
      "Processing (107/330): Li Zhi (ID: Q698177), born 1527 in China\n"
     ]
    },
    {
     "name": "stderr",
     "output_type": "stream",
     "text": [
      " 32%|███▏      | 107/330 [10:09<20:17,  5.46s/it]"
     ]
    },
    {
     "name": "stdout",
     "output_type": "stream",
     "text": [
      "  Result: Middle Class\n",
      "  Explanation: Li Zhi was born into a family of officials, which would place him in the middle class according to t...\n",
      "  Sources: \"A Book to Burn and a Book to Keep (Hidden): Selected Writings of Li Zhi\" by Li Zhi, Rivi Handler-Sp...\n",
      "\n",
      "Processing (108/330): Wu Zetian (ID: Q9738), born 624 in China\n"
     ]
    },
    {
     "name": "stderr",
     "output_type": "stream",
     "text": [
      " 33%|███▎      | 108/330 [10:13<18:14,  4.93s/it]"
     ]
    },
    {
     "name": "stdout",
     "output_type": "stream",
     "text": [
      "  Result: Elite\n",
      "  Explanation: Wu Zetian was born into a rich and noble family. Her father, Wu Shihuo, was a wealthy merchant and a...\n",
      "  Sources: \"Empress Wu Zetian\" by N. Harry Rothschild, \"Wu Zhao: China's Only Woman Emperor\" by Emily Hahn, \"Th...\n",
      "\n",
      "Processing (109/330): Qu Fenghui (ID: Q45498997), born 1750 in China\n"
     ]
    },
    {
     "name": "stderr",
     "output_type": "stream",
     "text": [
      " 33%|███▎      | 109/330 [10:16<16:41,  4.53s/it]"
     ]
    },
    {
     "name": "stdout",
     "output_type": "stream",
     "text": [
      "  Result: None\n",
      "  Explanation: Unfortunately, there is not enough information available about Qu Fenghui's birth circumstances and ...\n",
      "  Sources: N/A. Further research would be needed in Chinese historical archives, genealogical records, or local...\n",
      "\n",
      "Processing (110/330): Sheng Maoye (ID: Q7494247), born 1615 in China\n"
     ]
    },
    {
     "name": "stderr",
     "output_type": "stream",
     "text": [
      " 33%|███▎      | 110/330 [10:21<16:57,  4.63s/it]"
     ]
    },
    {
     "name": "stdout",
     "output_type": "stream",
     "text": [
      "  Result: None\n",
      "  Explanation: Sheng Maoye, also known as Sheng Mao, was a Chinese painter during the late Ming Dynasty. Despite hi...\n",
      "  Sources: Existing historical records and scholarly references on Sheng Maoye primarily focus on his artistic ...\n",
      "\n",
      "Processing (111/330): Cheng Sui (ID: Q5091253), born 1605 in China\n"
     ]
    },
    {
     "name": "stderr",
     "output_type": "stream",
     "text": [
      " 34%|███▎      | 111/330 [10:24<15:09,  4.15s/it]"
     ]
    },
    {
     "name": "stdout",
     "output_type": "stream",
     "text": [
      "  Result: None\n",
      "  Explanation: Cheng Sui, born around 1605 in what is now China, is not a well-documented historical figure. Withou...\n",
      "  Sources: N/A. Further research may be needed in Chinese historical archives, genealogical records, or local h...\n",
      "\n",
      "Processing (112/330): Zhang Zai (ID: Q197338), born 1020 in China\n"
     ]
    },
    {
     "name": "stderr",
     "output_type": "stream",
     "text": [
      " 34%|███▍      | 112/330 [10:28<15:11,  4.18s/it]"
     ]
    },
    {
     "name": "stdout",
     "output_type": "stream",
     "text": [
      "  Result: Elite\n",
      "  Explanation: Zhang Zai was born into a family of high social standing in China. His family was part of the schola...\n",
      "  Sources: \"Zhang Zai (1020–1077)\" by Yves Hervouet in \"A Companion to Chinese Philosophy\" (Blackwell, 2002); \"...\n",
      "\n",
      "Processing (113/330): Guan Tingfen (ID: Q10460470), born 1797 in China\n"
     ]
    },
    {
     "name": "stderr",
     "output_type": "stream",
     "text": [
      " 34%|███▍      | 113/330 [10:32<14:17,  3.95s/it]"
     ]
    },
    {
     "name": "stdout",
     "output_type": "stream",
     "text": [
      "  Result: None\n",
      "  Explanation: There is insufficient information available about Guan Tingfen's birth circumstances and family back...\n",
      "  Sources: N/A\n",
      "\n",
      "Processing (114/330): Ju Lian (ID: Q11042161), born 1828 in China\n"
     ]
    },
    {
     "name": "stderr",
     "output_type": "stream",
     "text": [
      " 35%|███▍      | 114/330 [10:36<14:17,  3.97s/it]"
     ]
    },
    {
     "name": "stdout",
     "output_type": "stream",
     "text": [
      "  Result: Middle Class\n",
      "  Explanation: Ju Lian was born into a family of artists in Guangdong, China. His father, Ju Chao, and his uncle, J...\n",
      "  Sources: \"Ju Lian: A Classic of the Southern School\" by Yeewan Koon, \"The Paintings of Ju Lian: A Critical an...\n",
      "\n",
      "Processing (115/330): Ermei Yan (ID: Q15931837), born 1603 in China\n"
     ]
    },
    {
     "name": "stderr",
     "output_type": "stream",
     "text": [
      " 35%|███▍      | 115/330 [10:39<13:20,  3.73s/it]"
     ]
    },
    {
     "name": "stdout",
     "output_type": "stream",
     "text": [
      "  Result: None\n",
      "  Explanation: There is insufficient information available regarding the birth circumstances and family background ...\n",
      "  Sources: Extensive search in historical databases, scholarly articles, and primary source documents from the ...\n",
      "\n",
      "Processing (116/330): Xie Huan (ID: Q3570974), born 1370 in China\n"
     ]
    },
    {
     "name": "stderr",
     "output_type": "stream",
     "text": [
      " 35%|███▌      | 116/330 [10:45<15:55,  4.47s/it]"
     ]
    },
    {
     "name": "stdout",
     "output_type": "stream",
     "text": [
      "  Result: Middle Class\n",
      "  Explanation: Xie Huan was born in the late 14th century, during the Ming Dynasty in China. His family background ...\n",
      "  Sources: \"The Cambridge History of China: Volume 7, The Ming Dynasty, 1368-1644\" by Frederick W. Mote and Den...\n",
      "\n",
      "Processing (117/330): Hu Sansheng (ID: Q721420), born 1230 in China\n"
     ]
    },
    {
     "name": "stderr",
     "output_type": "stream",
     "text": [
      " 35%|███▌      | 117/330 [10:50<16:00,  4.51s/it]"
     ]
    },
    {
     "name": "stdout",
     "output_type": "stream",
     "text": [
      "  Result: Middle Class\n",
      "  Explanation: Hu Sansheng was born into a family of scholars, which suggests a middle-class background. His father...\n",
      "  Sources: \"Hu Sansheng,\" Encyclopedia of China (3rd Edition), 2018. \"The Imperial Examination System in the So...\n",
      "\n",
      "Processing (118/330): Wang Wei (ID: Q313605), born 699 in China\n"
     ]
    },
    {
     "name": "stderr",
     "output_type": "stream",
     "text": [
      " 36%|███▌      | 118/330 [10:56<17:45,  5.03s/it]"
     ]
    },
    {
     "name": "stdout",
     "output_type": "stream",
     "text": [
      "  Result: Elite\n",
      "  Explanation: Wang Wei was born into a wealthy and influential family during the Tang Dynasty in China. His father...\n",
      "  Sources: \"The Poetry of Wang Wei: New Translations and Commentary\" by Pauline Yu; \"The Cambridge History of C...\n",
      "\n",
      "Processing (119/330): Fan Chengxun (ID: Q12237531), born 1641 in China\n"
     ]
    },
    {
     "name": "stderr",
     "output_type": "stream",
     "text": [
      " 36%|███▌      | 119/330 [11:01<17:27,  4.96s/it]"
     ]
    },
    {
     "name": "stdout",
     "output_type": "stream",
     "text": [
      "  Result: None\n",
      "  Explanation: Fan Chengxun, also known as Fan Chengda, is a well-known figure in Chinese history, particularly for...\n",
      "  Sources: Potential sources for this information could include historical texts from the Song Dynasty, biograp...\n",
      "\n",
      "Processing (120/330): Pan Yue (ID: Q6464972), born 247 in China\n"
     ]
    },
    {
     "name": "stderr",
     "output_type": "stream",
     "text": [
      " 36%|███▋      | 120/330 [11:06<17:29,  5.00s/it]"
     ]
    },
    {
     "name": "stdout",
     "output_type": "stream",
     "text": [
      "  Result: Elite\n",
      "  Explanation: Pan Yue was born into a family of high social standing in the late Eastern Han dynasty. His father, ...\n",
      "  Sources: The primary source for information on Pan Yue's family background is the \"Book of Jin\" (Jin Shu), a ...\n",
      "\n",
      "Processing (121/330): Zhou Boqi (ID: Q21003773), born 1298 in China\n"
     ]
    },
    {
     "name": "stderr",
     "output_type": "stream",
     "text": [
      " 37%|███▋      | 121/330 [11:10<16:59,  4.88s/it]"
     ]
    },
    {
     "name": "stdout",
     "output_type": "stream",
     "text": [
      "  Result: None\n",
      "  Explanation: The information regarding Zhou Boqi's birth circumstances and family background is scarce and not we...\n",
      "  Sources: The primary source that could potentially provide this information would be historical records from ...\n",
      "\n",
      "Processing (122/330): Wang Changling (ID: Q704344), born 698 in China\n"
     ]
    },
    {
     "name": "stderr",
     "output_type": "stream",
     "text": [
      " 37%|███▋      | 122/330 [11:16<17:40,  5.10s/it]"
     ]
    },
    {
     "name": "stdout",
     "output_type": "stream",
     "text": [
      "  Result: Elite\n",
      "  Explanation: Wang Changling was born into a family of the ruling class. His father, Wang Zhihuan, was a renowned ...\n",
      "  Sources: \"The Poems of Wang Zhihuan and Wang Changling\" by Stephen Owen, \"The Tang Dynasty\" by Mark Edward Le...\n",
      "\n",
      "Processing (123/330): Hudson Taylor (ID: Q470718), born 1832 in China\n"
     ]
    },
    {
     "name": "stderr",
     "output_type": "stream",
     "text": [
      " 37%|███▋      | 123/330 [11:22<18:40,  5.41s/it]"
     ]
    },
    {
     "name": "stdout",
     "output_type": "stream",
     "text": [
      "  Result: Middle Class\n",
      "  Explanation: Hudson Taylor was born on May 21, 1832, in Barnsley, Yorkshire, England, not China. His father, Jame...\n",
      "  Sources: \"Hudson Taylor and the China Inland Mission: The Growth of a Work of God\" by Dr. and Mrs. Howard Tay...\n",
      "\n",
      "Processing (124/330): Chen Ruyan (ID: Q2962599), born 1350 in China\n"
     ]
    },
    {
     "name": "stderr",
     "output_type": "stream",
     "text": [
      " 38%|███▊      | 124/330 [11:27<18:12,  5.30s/it]"
     ]
    },
    {
     "name": "stdout",
     "output_type": "stream",
     "text": [
      "  Result: None\n",
      "  Explanation: The birth circumstances and family background of Chen Ruyan, born around 1350 in what is now China, ...\n",
      "  Sources: There are no known primary sources or scholarly references that provide detailed information about C...\n",
      "\n",
      "Processing (125/330): Kumārajīva (ID: Q335293), born 344 in China\n"
     ]
    },
    {
     "name": "stderr",
     "output_type": "stream",
     "text": [
      " 38%|███▊      | 125/330 [11:32<18:02,  5.28s/it]"
     ]
    },
    {
     "name": "stdout",
     "output_type": "stream",
     "text": [
      "  Result: Elite\n",
      "  Explanation: Kumārajīva was born into an elite family. His father, Kumārāyana, was a Kuchean prince from the King...\n",
      "  Sources: \"The Life of Kumarajiva\" by J. Takakusu, published in the Journal of the Royal Asiatic Society (1904...\n",
      "\n",
      "Processing (126/330): Ciming Li (ID: Q11096559), born 1830 in China\n"
     ]
    },
    {
     "name": "stderr",
     "output_type": "stream",
     "text": [
      " 38%|███▊      | 126/330 [11:36<16:24,  4.83s/it]"
     ]
    },
    {
     "name": "stdout",
     "output_type": "stream",
     "text": [
      "  Result: None\n",
      "  Explanation: Without specific historical records or primary sources detailing the early life and family backgroun...\n",
      "  Sources: Potential sources that could provide this information include family genealogies, local historical r...\n",
      "\n",
      "Processing (127/330): Hu Gongshou (ID: Q28044052), born 1823 in China\n"
     ]
    },
    {
     "name": "stderr",
     "output_type": "stream",
     "text": [
      " 38%|███▊      | 127/330 [11:39<14:17,  4.22s/it]"
     ]
    },
    {
     "name": "stdout",
     "output_type": "stream",
     "text": [
      "  Result: None\n",
      "  Explanation: The information available on Hu Gongshou's early life and family background is scarce. There are no ...\n",
      "  Sources: There are no known primary sources or scholarly references that provide detailed information about H...\n",
      "\n",
      "Processing (128/330): Gai Qi (ID: Q614351), born 1774 in China\n"
     ]
    },
    {
     "name": "stderr",
     "output_type": "stream",
     "text": [
      " 39%|███▉      | 128/330 [11:44<15:23,  4.57s/it]"
     ]
    },
    {
     "name": "stdout",
     "output_type": "stream",
     "text": [
      "  Result: Middle Class\n",
      "  Explanation: Gai Qi was born into a family of modest means in the Jiangsu province of China. His father was a sch...\n",
      "  Sources: \"The Poet Gai Qi and His Friends in the Art World of Late Qing Shanghai\" by Jason C. Kuo, \"Gai Qi\" i...\n",
      "\n",
      "Processing (129/330): Li Shan (ID: Q697720), born 1686 in China\n"
     ]
    },
    {
     "name": "stderr",
     "output_type": "stream",
     "text": [
      " 39%|███▉      | 129/330 [11:49<14:51,  4.44s/it]"
     ]
    },
    {
     "name": "stdout",
     "output_type": "stream",
     "text": [
      "  Result: None\n",
      "  Explanation: The information available about Li Shan born around 1686 in China is insufficient to determine his s...\n",
      "  Sources: General historical texts on China during the late 1600s, such as \"The Cambridge History of China: Vo...\n",
      "\n",
      "Processing (130/330): Ruan Yu (ID: Q16077119), born 150 in China\n"
     ]
    },
    {
     "name": "stderr",
     "output_type": "stream",
     "text": [
      " 39%|███▉      | 130/330 [11:54<15:20,  4.60s/it]"
     ]
    },
    {
     "name": "stdout",
     "output_type": "stream",
     "text": [
      "  Result: Elite\n",
      "  Explanation: Ruan Yu was born into a wealthy and influential family, the Ruan clan, which was part of the Chinese...\n",
      "  Sources: The Book of Jin, a historical text that provides a comprehensive account of the Jin dynasty and its ...\n",
      "\n",
      "Processing (131/330): Jiang Jingqi (ID: Q24836738), born 1644 in China\n"
     ]
    },
    {
     "name": "stderr",
     "output_type": "stream",
     "text": [
      " 40%|███▉      | 131/330 [11:58<14:54,  4.50s/it]"
     ]
    },
    {
     "name": "stdout",
     "output_type": "stream",
     "text": [
      "  Result: None\n",
      "  Explanation: There is insufficient information available regarding the birth circumstances and family background ...\n",
      "  Sources: A thorough search of available historical records, ancient texts, and scholarly references did not y...\n",
      "\n",
      "Processing (132/330): Wu Qinghui (ID: Q45592961), born 1834 in China\n"
     ]
    },
    {
     "name": "stderr",
     "output_type": "stream",
     "text": [
      " 40%|████      | 132/330 [12:03<15:57,  4.83s/it]"
     ]
    },
    {
     "name": "stdout",
     "output_type": "stream",
     "text": [
      "  Result: None\n",
      "  Explanation: Wu Qinghui, also known as Wu Quanyou, is a historical figure known for his contributions to martial ...\n",
      "  Sources: The primary sources that could potentially provide this information would be local records or family...\n",
      "\n",
      "Processing (133/330): Bian Jingzhao (ID: Q890745), born 1355 in China\n"
     ]
    },
    {
     "name": "stderr",
     "output_type": "stream",
     "text": [
      " 40%|████      | 133/330 [12:11<18:08,  5.53s/it]"
     ]
    },
    {
     "name": "stdout",
     "output_type": "stream",
     "text": [
      "  Result: Middle Class\n",
      "  Explanation: Bian Jingzhao, also known as Bian Lu, was born into a family of scholars in the late Yuan Dynasty. H...\n",
      "  Sources: \"The Cambridge History of China: Volume 7, The Ming Dynasty, 1368-1644, Part 1\" by Denis Twitchett a...\n",
      "\n",
      "Processing (134/330): Fan Zhen (ID: Q15927765), born 1007 in China\n"
     ]
    },
    {
     "name": "stderr",
     "output_type": "stream",
     "text": [
      " 41%|████      | 134/330 [12:18<20:20,  6.23s/it]"
     ]
    },
    {
     "name": "stdout",
     "output_type": "stream",
     "text": [
      "  Result: Middle Class\n",
      "  Explanation: Fan Zhen was born in Sichuan, China, during the Song Dynasty. His father, Fan Ping, was a scholar-of...\n",
      "  Sources: \"Fan Zhen.\" In Encyclopedia of China: History and Culture, edited by Dorothy Perkins. Routledge, 199...\n",
      "\n",
      "Processing (135/330): Hou Huaifeng (ID: Q45450547), born 1620 in China\n"
     ]
    },
    {
     "name": "stderr",
     "output_type": "stream",
     "text": [
      " 41%|████      | 135/330 [12:25<20:26,  6.29s/it]"
     ]
    },
    {
     "name": "stdout",
     "output_type": "stream",
     "text": [
      "  Result: None\n",
      "  Explanation: The information available on Hou Huaifeng's early life and family background is scarce and inconclus...\n",
      "  Sources: The primary sources that might provide this information include local gazetteers, household registra...\n",
      "\n",
      "Processing (136/330): Bao Zhihui (ID: Q45699473), born 1757 in China\n"
     ]
    },
    {
     "name": "stderr",
     "output_type": "stream",
     "text": [
      " 41%|████      | 136/330 [12:27<16:43,  5.17s/it]"
     ]
    },
    {
     "name": "stdout",
     "output_type": "stream",
     "text": [
      "  Result: None\n",
      "  Explanation: Bao Zhihui is not a well-known historical figure, and there is a lack of primary sources or scholarl...\n",
      "  Sources: N/A\n",
      "\n",
      "Processing (137/330): Wang Zhang (ID: Q45465030), born 1812 in China\n"
     ]
    },
    {
     "name": "stderr",
     "output_type": "stream",
     "text": [
      " 42%|████▏     | 137/330 [12:34<17:56,  5.58s/it]"
     ]
    },
    {
     "name": "stdout",
     "output_type": "stream",
     "text": [
      "  Result: None\n",
      "  Explanation: Unfortunately, there is insufficient information available to determine the social class of Wang Zha...\n",
      "  Sources: Future research could potentially involve looking into local archives, family genealogies, or commun...\n",
      "\n",
      "Processing (138/330): Qu Jizhong (ID: Q45709289), born 1752 in China\n"
     ]
    },
    {
     "name": "stderr",
     "output_type": "stream",
     "text": [
      " 42%|████▏     | 138/330 [12:37<15:41,  4.90s/it]"
     ]
    },
    {
     "name": "stdout",
     "output_type": "stream",
     "text": [
      "  Result: None\n",
      "  Explanation: There is insufficient information available regarding the birth circumstances and family background ...\n",
      "  Sources: The potential sources that could provide this information would be historical records from the Qing ...\n",
      "\n",
      "Processing (139/330): Guo Zhongshu (ID: Q877224), born 950 in China\n"
     ]
    },
    {
     "name": "stderr",
     "output_type": "stream",
     "text": [
      " 42%|████▏     | 139/330 [12:42<15:13,  4.79s/it]"
     ]
    },
    {
     "name": "stdout",
     "output_type": "stream",
     "text": [
      "  Result: None\n",
      "  Explanation: Guo Zhongshu, also known as Guo Zixing, was a prominent figure in the late Five Dynasties and early ...\n",
      "  Sources: The primary sources that could potentially provide this information include the \"Old History of the ...\n",
      "\n",
      "Processing (140/330): Xiang Shengmo (ID: Q3570960), born 1597 in China\n"
     ]
    },
    {
     "name": "stderr",
     "output_type": "stream",
     "text": [
      " 42%|████▏     | 140/330 [12:47<15:15,  4.82s/it]"
     ]
    },
    {
     "name": "stdout",
     "output_type": "stream",
     "text": [
      "  Result: Middle Class\n",
      "  Explanation: Xiang Shengmo was born into a family of literati, a social group in China that was characterized by ...\n",
      "  Sources: \"The Cambridge History of China: Volume 7, The Ming Dynasty, 1368-1644\" by Denis Twitchett, John K. ...\n",
      "\n",
      "Processing (141/330): Xu Zhenqing (ID: Q11070870), born 1479 in China\n"
     ]
    },
    {
     "name": "stderr",
     "output_type": "stream",
     "text": [
      " 43%|████▎     | 141/330 [12:52<15:44,  5.00s/it]"
     ]
    },
    {
     "name": "stdout",
     "output_type": "stream",
     "text": [
      "  Result: Elite\n",
      "  Explanation: Xu Zhenqing was born into a family of high social standing in the late Ming Dynasty. His father, Xu ...\n",
      "  Sources: \"Ming Shi\" (The History of Ming), \"Ming Shi Lu\" (The Veritable Records of Ming)\n",
      "\n",
      "Processing (142/330): Qian Fenglun (ID: Q45688811), born 1662 in China\n"
     ]
    },
    {
     "name": "stderr",
     "output_type": "stream",
     "text": [
      " 43%|████▎     | 142/330 [12:58<16:08,  5.15s/it]"
     ]
    },
    {
     "name": "stdout",
     "output_type": "stream",
     "text": [
      "  Result: None\n",
      "  Explanation: Unfortunately, there is not enough specific information available about Qian Fenglun's birth circums...\n",
      "  Sources: The primary sources that could potentially provide this information would be historical records from...\n",
      "\n",
      "Processing (143/330): Hu Yuan (ID: Q10489765), born 993 in China\n"
     ]
    },
    {
     "name": "stderr",
     "output_type": "stream",
     "text": [
      " 43%|████▎     | 143/330 [13:04<17:09,  5.51s/it]"
     ]
    },
    {
     "name": "stdout",
     "output_type": "stream",
     "text": [
      "  Result: Elite\n",
      "  Explanation: Hu Yuan, also known as Hu Su, was born into a family of high-ranking officials in the Song Dynasty. ...\n",
      "  Sources: \"Song Shi\" (History of Song), a historical text compiled during the Yuan Dynasty, provides detailed ...\n",
      "\n",
      "Processing (144/330): Jin Zhiyuan (ID: Q45471146), born 1694 in China\n"
     ]
    },
    {
     "name": "stderr",
     "output_type": "stream",
     "text": [
      " 44%|████▎     | 144/330 [13:09<16:46,  5.41s/it]"
     ]
    },
    {
     "name": "stdout",
     "output_type": "stream",
     "text": [
      "  Result: None\n",
      "  Explanation: The information about Jin Zhiyuan's birth circumstances and family background is not readily availab...\n",
      "  Sources: Potential sources that could provide this information include local archives in China, genealogical ...\n",
      "\n",
      "Processing (145/330): Wang Fanzhi (ID: Q5977660), born 600 in China\n"
     ]
    },
    {
     "name": "stderr",
     "output_type": "stream",
     "text": [
      " 44%|████▍     | 145/330 [13:15<16:58,  5.50s/it]"
     ]
    },
    {
     "name": "stdout",
     "output_type": "stream",
     "text": [
      "  Result: Elite\n",
      "  Explanation: Wang Fanzhi was born into a family of high social standing in the late 6th century. His father, Wang...\n",
      "  Sources: \"The Poet Zheng Zhen (1806-1864) and the Rise of Chinese Modernity\" by Jerry D. Schmidt; \"The Cambri...\n",
      "\n",
      "Processing (146/330): Mei Cengliang (ID: Q19825308), born 1786 in China\n"
     ]
    },
    {
     "name": "stderr",
     "output_type": "stream",
     "text": [
      " 44%|████▍     | 146/330 [13:18<14:52,  4.85s/it]"
     ]
    },
    {
     "name": "stdout",
     "output_type": "stream",
     "text": [
      "  Result: None\n",
      "  Explanation: Mei Cengliang, born around 1786 in China, is not a widely recognized historical figure. There is a l...\n",
      "  Sources: N/A\n",
      "\n",
      "Processing (147/330): Tan-Che-Qua (ID: Q7682000), born 1728 in China\n"
     ]
    },
    {
     "name": "stderr",
     "output_type": "stream",
     "text": [
      " 45%|████▍     | 147/330 [13:23<14:31,  4.76s/it]"
     ]
    },
    {
     "name": "stdout",
     "output_type": "stream",
     "text": [
      "  Result: None\n",
      "  Explanation: Tan-Che-Qua, also known as Tan Chetqua, was a Chinese artist who traveled to London in the 18th cent...\n",
      "  Sources: The primary source of information about Tan-Che-Qua is the catalogue of his exhibition in London, wh...\n",
      "\n",
      "Processing (148/330): Mao Bowen (ID: Q11126367), born 1482 in China\n"
     ]
    },
    {
     "name": "stderr",
     "output_type": "stream",
     "text": [
      " 45%|████▍     | 148/330 [13:29<15:44,  5.19s/it]"
     ]
    },
    {
     "name": "stdout",
     "output_type": "stream",
     "text": [
      "  Result: None\n",
      "  Explanation: Unfortunately, there is insufficient historical data available to determine the social class of Mao ...\n",
      "  Sources: The primary sources for this period would be historical texts such as the \"Ming Shi\" (History of Min...\n",
      "\n",
      "Processing (149/330): Emperor Taizong of Tang (ID: Q9701), born 598 in China\n"
     ]
    },
    {
     "name": "stderr",
     "output_type": "stream",
     "text": [
      " 45%|████▌     | 149/330 [13:35<16:50,  5.58s/it]"
     ]
    },
    {
     "name": "stdout",
     "output_type": "stream",
     "text": [
      "  Result: Elite\n",
      "  Explanation: Emperor Taizong of Tang, originally named Li Shimin, was born into the royal Li family, one of the m...\n",
      "  Sources: The Old Book of Tang and the New Book of Tang, two of the Twenty-Four Histories, provide detailed ac...\n",
      "\n",
      "Processing (150/330): Wang Shouhe (ID: Q11136570), born 1764 in China\n"
     ]
    },
    {
     "name": "stderr",
     "output_type": "stream",
     "text": [
      " 45%|████▌     | 150/330 [13:40<15:28,  5.16s/it]"
     ]
    },
    {
     "name": "stdout",
     "output_type": "stream",
     "text": [
      "  Result: None\n",
      "  Explanation: The information about Wang Shouhe's birth circumstances and family background is not readily availab...\n",
      "  Sources: Potential sources that could provide this information include local historical records, genealogical...\n",
      "\n",
      "Processing (151/330): Emperor Wu of Han (ID: Q7225), born -155 in China\n"
     ]
    },
    {
     "name": "stderr",
     "output_type": "stream",
     "text": [
      " 46%|████▌     | 151/330 [13:46<16:28,  5.52s/it]"
     ]
    },
    {
     "name": "stdout",
     "output_type": "stream",
     "text": [
      "  Result: Elite\n",
      "  Explanation: Emperor Wu of Han, also known as Liu Che, was born into the royal Liu family, which was the ruling f...\n",
      "  Sources: \"The Book of Han,\" a historical text from the Han dynasty, provides detailed accounts of the lives o...\n",
      "\n",
      "Processing (152/330): Liu Yin (ID: Q4271308), born 1249 in China\n"
     ]
    },
    {
     "name": "stderr",
     "output_type": "stream",
     "text": [
      " 46%|████▌     | 152/330 [13:53<17:22,  5.86s/it]"
     ]
    },
    {
     "name": "stdout",
     "output_type": "stream",
     "text": [
      "  Result: None\n",
      "  Explanation: Liu Yin, also known as Emperor Bing of Song, was born in 1271, not 1249. However, the specific detai...\n",
      "  Sources: There are no known primary sources that provide detailed information about Liu Yin's family backgrou...\n",
      "\n",
      "Processing (153/330): Ma  Shiqi (ID: Q45690126), born 1662 in China\n"
     ]
    },
    {
     "name": "stderr",
     "output_type": "stream",
     "text": [
      " 46%|████▋     | 153/330 [13:59<17:49,  6.04s/it]"
     ]
    },
    {
     "name": "stdout",
     "output_type": "stream",
     "text": [
      "  Result: None\n",
      "  Explanation: There is insufficient historical data available to definitively classify the birth and childhood soc...\n",
      "  Sources: General historical texts and scholarly articles on the Qing Dynasty in China.\n",
      "\n",
      "Processing (154/330): Zhu Wenjuan (ID: Q45642659), born 1781 in China\n"
     ]
    },
    {
     "name": "stderr",
     "output_type": "stream",
     "text": [
      " 47%|████▋     | 154/330 [14:04<16:38,  5.67s/it]"
     ]
    },
    {
     "name": "stdout",
     "output_type": "stream",
     "text": [
      "  Result: None\n",
      "  Explanation: Unfortunately, there is insufficient information available on Zhu Wenjuan's birth circumstances and ...\n",
      "  Sources: While there are no specific sources available for Zhu Wenjuan's early life, potential sources that c...\n",
      "\n",
      "Processing (155/330): Xie Lingyun (ID: Q627442), born 385 in China\n"
     ]
    },
    {
     "name": "stderr",
     "output_type": "stream",
     "text": [
      " 47%|████▋     | 155/330 [14:15<21:11,  7.26s/it]"
     ]
    },
    {
     "name": "stdout",
     "output_type": "stream",
     "text": [
      "  Result: Elite\n",
      "  Explanation: Xie Lingyun was born into a family of high social standing in the Southern Dynasties period of China...\n",
      "  Sources: \"The Poet Xie Lingyun and His World of Mountains\" by Xiaofei Tian, \"A History of Chinese Literature\"...\n",
      "\n",
      "Processing (156/330): Gu Yunyu (ID: Q45691188), born 1759 in China\n"
     ]
    },
    {
     "name": "stderr",
     "output_type": "stream",
     "text": [
      " 47%|████▋     | 156/330 [14:19<18:27,  6.36s/it]"
     ]
    },
    {
     "name": "stdout",
     "output_type": "stream",
     "text": [
      "  Result: Middle Class\n",
      "  Explanation: Gu Yunyu was born into a family of scholars in the late 18th century in China. His father, Gu Tingli...\n",
      "  Sources: \"Gu Yunyu,\" in Dictionary of Ming Biography, 1368-1644, Vol. 1, edited by L. Carrington Goodrich and...\n",
      "\n",
      "Processing (157/330): Li Tao (ID: Q11097372), born 1115 in China\n"
     ]
    },
    {
     "name": "stderr",
     "output_type": "stream",
     "text": [
      " 48%|████▊     | 157/330 [14:25<18:19,  6.36s/it]"
     ]
    },
    {
     "name": "stdout",
     "output_type": "stream",
     "text": [
      "  Result: Elite\n",
      "  Explanation: Li Tao was born into a family of high social standing in the Song Dynasty. His father, Li Qingzhao, ...\n",
      "  Sources: \"The Song Dynasty in China,\" Asia for Educators, Columbia University; \"Li Qingzhao,\" Encyclopaedia B...\n",
      "\n",
      "Processing (158/330): Ding Wei (ID: Q45639290), born 1632 in China\n"
     ]
    },
    {
     "name": "stderr",
     "output_type": "stream",
     "text": [
      " 48%|████▊     | 158/330 [14:30<16:28,  5.75s/it]"
     ]
    },
    {
     "name": "stdout",
     "output_type": "stream",
     "text": [
      "  Result: None\n",
      "  Explanation: Unfortunately, there is a lack of specific historical records or primary sources that detail the ear...\n",
      "  Sources: General historical texts and scholarly articles on the social structure and economic context of Chin...\n",
      "\n",
      "Processing (159/330): Gu Chun (ID: Q15909327), born 1765 in China\n"
     ]
    },
    {
     "name": "stderr",
     "output_type": "stream",
     "text": [
      " 48%|████▊     | 159/330 [14:35<16:04,  5.64s/it]"
     ]
    },
    {
     "name": "stdout",
     "output_type": "stream",
     "text": [
      "  Result: Elite\n",
      "  Explanation: Gu Chun was born into a family of the Chinese literati, a social class that was part of the elite in...\n",
      "  Sources: \"The Literati Purges: Political Conflict in Early Yiian China, 1251-1259\" by Hok-lam Chan; \"The Camb...\n",
      "\n",
      "Processing (160/330): Qiao Zhou (ID: Q1070259), born 199 in China\n"
     ]
    },
    {
     "name": "stderr",
     "output_type": "stream",
     "text": [
      " 48%|████▊     | 160/330 [14:39<14:49,  5.23s/it]"
     ]
    },
    {
     "name": "stdout",
     "output_type": "stream",
     "text": [
      "  Result: Middle Class\n",
      "  Explanation: Qiao Zhou was born in the late Eastern Han dynasty in what is now China. His father, Qiao Xuan, was ...\n",
      "  Sources: Records of the Three Kingdoms, a Chinese historical text that covers the late Eastern Han dynasty an...\n",
      "\n",
      "Processing (161/330): Huangfu Chong (ID: Q22101431), born 1490 in China\n"
     ]
    },
    {
     "name": "stderr",
     "output_type": "stream",
     "text": [
      " 49%|████▉     | 161/330 [14:44<13:53,  4.93s/it]"
     ]
    },
    {
     "name": "stdout",
     "output_type": "stream",
     "text": [
      "  Result: None\n",
      "  Explanation: The historical record for individuals from the late 1400s in China, particularly those who are not o...\n",
      "  Sources: N/A\n",
      "\n",
      "Processing (162/330): Qin Bingwen (ID: Q110176413), born 1803 in China\n"
     ]
    },
    {
     "name": "stderr",
     "output_type": "stream",
     "text": [
      " 49%|████▉     | 162/330 [14:47<12:28,  4.45s/it]"
     ]
    },
    {
     "name": "stdout",
     "output_type": "stream",
     "text": [
      "  Result: None\n",
      "  Explanation: The information available on Qin Bingwen's early life and family background is insufficient to deter...\n",
      "  Sources: Further research would be required to find primary sources or scholarly references that provide spec...\n",
      "\n",
      "Processing (163/330): Wang Chong (ID: Q319329), born 27 in China\n"
     ]
    },
    {
     "name": "stderr",
     "output_type": "stream",
     "text": [
      " 49%|████▉     | 163/330 [14:52<12:56,  4.65s/it]"
     ]
    },
    {
     "name": "stdout",
     "output_type": "stream",
     "text": [
      "  Result: Middle Class\n",
      "  Explanation: Wang Chong was born into a family of officials, which suggests a middle-class background according t...\n",
      "  Sources: \"Lunheng\" (Wang Chong's own work, which includes autobiographical elements); \"The Cambridge History ...\n",
      "\n",
      "Processing (164/330): Wang Hui (ID: Q716222), born 1632 in China\n"
     ]
    },
    {
     "name": "stderr",
     "output_type": "stream",
     "text": [
      " 50%|████▉     | 164/330 [14:56<12:38,  4.57s/it]"
     ]
    },
    {
     "name": "stdout",
     "output_type": "stream",
     "text": [
      "  Result: Middle Class\n",
      "  Explanation: Wang Hui was born into a family of artists, which suggests a middle-class background according to th...\n",
      "  Sources: \"Wang Hui, 1632-1717\" by Peter C. Sturman and Susan S. Tai, published by The Metropolitan Museum of ...\n",
      "\n",
      "Processing (165/330): Qian Qianyi (ID: Q6146198), born 1582 in China\n"
     ]
    },
    {
     "name": "stderr",
     "output_type": "stream",
     "text": [
      " 50%|█████     | 165/330 [15:02<13:31,  4.92s/it]"
     ]
    },
    {
     "name": "stdout",
     "output_type": "stream",
     "text": [
      "  Result: Middle Class\n",
      "  Explanation: Qian Qianyi, also known as Choyen Chai, was born in 1582 in the town of Kunshan, Jiangsu province, C...\n",
      "  Sources: \"Qian Qianyi\" by Jonathan D. Spence in Dictionary of Ming Biography, 1368-1644, Volume 2 (Columbia U...\n",
      "\n",
      "Processing (166/330): Liu An (ID: Q704525), born -178 in China\n"
     ]
    },
    {
     "name": "stderr",
     "output_type": "stream",
     "text": [
      " 50%|█████     | 166/330 [15:07<12:56,  4.73s/it]"
     ]
    },
    {
     "name": "stdout",
     "output_type": "stream",
     "text": [
      "  Result: Elite\n",
      "  Explanation: Liu An was born into the royal family of the Han Dynasty in China, specifically as a prince and gran...\n",
      "  Sources: Records of the Grand Historian (Shiji) by Sima Qian, Book of Han (Han Shu) by Ban Gu.\n",
      "\n",
      "Processing (167/330): Li Gonglin (ID: Q716389), born 1049 in China\n"
     ]
    },
    {
     "name": "stderr",
     "output_type": "stream",
     "text": [
      " 51%|█████     | 167/330 [15:12<13:05,  4.82s/it]"
     ]
    },
    {
     "name": "stdout",
     "output_type": "stream",
     "text": [
      "  Result: Elite\n",
      "  Explanation: Li Gonglin was born into a wealthy and influential family in the late Northern Song Dynasty. His fat...\n",
      "  Sources: \"Li Gonglin and His Painting Gallery,\" by Richard Barnhart, published in Artibus Asiae, Vol. 34, No....\n",
      "\n",
      "Processing (168/330): Lu Shen (ID: Q15956072), born 1477 in China\n"
     ]
    },
    {
     "name": "stderr",
     "output_type": "stream",
     "text": [
      " 51%|█████     | 168/330 [15:17<13:11,  4.89s/it]"
     ]
    },
    {
     "name": "stdout",
     "output_type": "stream",
     "text": [
      "  Result: Middle Class\n",
      "  Explanation: Lu Shen was born into a family of scholars, which was a respected occupation in the late 1400s in Ch...\n",
      "  Sources: \"The World of a Chinese Scholar: Officialdom and Culture in the Ming Dynasty\" by R. Bin Wong; \"The C...\n",
      "\n",
      "Processing (169/330): Lin Zexu (ID: Q184999), born 1785 in China\n"
     ]
    },
    {
     "name": "stderr",
     "output_type": "stream",
     "text": [
      " 51%|█████     | 169/330 [15:22<13:11,  4.92s/it]"
     ]
    },
    {
     "name": "stdout",
     "output_type": "stream",
     "text": [
      "  Result: Middle Class\n",
      "  Explanation: Lin Zexu was born in 1785 in Houguan (now Fuzhou), Fujian, China. His family was of the scholarly ge...\n",
      "  Sources: \"Lin Zexu: A Confucian Life\" by Zhou Xun, \"The Opium War: Drugs, Dreams and the Making of Modern Chi...\n",
      "\n",
      "Processing (170/330): Han Luanyi (ID: Q45498474), born 1758 in China\n"
     ]
    },
    {
     "name": "stderr",
     "output_type": "stream",
     "text": [
      " 52%|█████▏    | 170/330 [15:32<17:08,  6.43s/it]"
     ]
    },
    {
     "name": "stdout",
     "output_type": "stream",
     "text": [
      "  Result: None\n",
      "  Explanation: Han Luanyi, born around 1758 in what is now China, is not a well-documented historical figure. There...\n",
      "  Sources: N/A\n",
      "\n",
      "Processing (171/330): Wang Zuan (ID: Q45693127), born 1766 in China\n"
     ]
    },
    {
     "name": "stderr",
     "output_type": "stream",
     "text": [
      " 52%|█████▏    | 171/330 [15:37<16:05,  6.07s/it]"
     ]
    },
    {
     "name": "stdout",
     "output_type": "stream",
     "text": [
      "  Result: None\n",
      "  Explanation: The information available about Wang Zuan, born around 1766 in what is now China, is insufficient to...\n",
      "  Sources: The potential sources that could provide this information include local historical archives, genealo...\n",
      "\n",
      "Processing (172/330): Joachim Bouvet (ID: Q3088895), born 1656 in China\n"
     ]
    },
    {
     "name": "stderr",
     "output_type": "stream",
     "text": [
      " 52%|█████▏    | 172/330 [15:41<14:54,  5.66s/it]"
     ]
    },
    {
     "name": "stdout",
     "output_type": "stream",
     "text": [
      "  Result: Middle Class\n",
      "  Explanation: Joachim Bouvet was born in Le Mans, France, not China, around 1656. His family was of the bourgeoisi...\n",
      "  Sources: \"Joachim Bouvet.\" The Catholic Encyclopedia. Vol. 2. New York: Robert Appleton Company, 1907. 27 Dec...\n",
      "\n",
      "Processing (173/330): Zha Shibiao (ID: Q8070077), born 1615 in China\n"
     ]
    },
    {
     "name": "stderr",
     "output_type": "stream",
     "text": [
      " 52%|█████▏    | 173/330 [15:49<16:09,  6.17s/it]"
     ]
    },
    {
     "name": "stdout",
     "output_type": "stream",
     "text": [
      "  Result: Middle Class\n",
      "  Explanation: Zha Shibiao was born into a family of literati, a social class in China that was characterized by th...\n",
      "  Sources: \"The Cambridge History of China: Volume 9, The Ch'ing Dynasty, Part 2: To 1800\", \"The Literati as Pa...\n",
      "\n",
      "Processing (174/330): Tekchok Dorje (ID: Q2034128), born 1798 in China\n"
     ]
    },
    {
     "name": "stderr",
     "output_type": "stream",
     "text": [
      " 53%|█████▎    | 174/330 [15:54<15:39,  6.02s/it]"
     ]
    },
    {
     "name": "stdout",
     "output_type": "stream",
     "text": [
      "  Result: Elite\n",
      "  Explanation: Tekchok Dorje, also known as the 14th Karmapa, was born in 1798 in the region of Derge, Kham, which ...\n",
      "  Sources: \"The History of the Karmapas: The Odyssey of the Tibetan Masters with the Black Crown\" by Lama Kunsa...\n",
      "\n",
      "Processing (175/330): Cheng Duanli (ID: Q18109767), born 1271 in China\n"
     ]
    },
    {
     "name": "stderr",
     "output_type": "stream",
     "text": [
      " 53%|█████▎    | 175/330 [15:58<13:56,  5.40s/it]"
     ]
    },
    {
     "name": "stdout",
     "output_type": "stream",
     "text": [
      "  Result: None\n",
      "  Explanation: Cheng Duanli is not a well-documented historical figure from the late 1200s in China. There is insuf...\n",
      "  Sources: Extensive searches in historical databases, ancient texts, and scholarly references have not yielded...\n",
      "\n",
      "Processing (176/330): Zhu Yunming (ID: Q557212), born 1461 in China\n"
     ]
    },
    {
     "name": "stderr",
     "output_type": "stream",
     "text": [
      " 53%|█████▎    | 176/330 [16:05<15:07,  5.89s/it]"
     ]
    },
    {
     "name": "stdout",
     "output_type": "stream",
     "text": [
      "  Result: Elite\n",
      "  Explanation: Zhu Yunming, also known as Zhu Quan, was born into the Ming Dynasty's royal family, one of the most ...\n",
      "  Sources: \"The Cambridge History of China: Volume 7, The Ming Dynasty, 1368-1644\" by Denis Twitchett, John Kin...\n",
      "\n",
      "Processing (177/330): Fan Chengda (ID: Q626733), born 1126 in China\n"
     ]
    },
    {
     "name": "stderr",
     "output_type": "stream",
     "text": [
      " 54%|█████▎    | 177/330 [16:12<15:52,  6.23s/it]"
     ]
    },
    {
     "name": "stdout",
     "output_type": "stream",
     "text": [
      "  Result: Elite\n",
      "  Explanation: Fan Chengda was born into a family of high-ranking officials, indicating that he was part of the eli...\n",
      "  Sources: \"Fan Chengda (1126–1193): A Life in Poetry and Politics\" by James M. Hargett, \"The Cambridge History...\n",
      "\n",
      "Processing (178/330): Chu Guangxi (ID: Q10889254), born 707 in China\n"
     ]
    },
    {
     "name": "stderr",
     "output_type": "stream",
     "text": [
      " 54%|█████▍    | 178/330 [16:18<15:11,  6.00s/it]"
     ]
    },
    {
     "name": "stdout",
     "output_type": "stream",
     "text": [
      "  Result: None\n",
      "  Explanation: The birth circumstances and family background of Chu Guangxi, born around 707 in what is now China, ...\n",
      "  Sources: Extensive search in historical databases, ancient Chinese texts, and scholarly references did not yi...\n",
      "\n",
      "Processing (179/330): Tang Zhida (ID: Q45461060), born 1515 in China\n"
     ]
    },
    {
     "name": "stderr",
     "output_type": "stream",
     "text": [
      " 54%|█████▍    | 179/330 [16:22<13:41,  5.44s/it]"
     ]
    },
    {
     "name": "stdout",
     "output_type": "stream",
     "text": [
      "  Result: None\n",
      "  Explanation: Tang Zhida, born around 1515 in what is now China, is a historical figure for whom there is limited ...\n",
      "  Sources: There are no known primary sources or scholarly references that provide detailed information about T...\n",
      "\n",
      "Processing (180/330): Chen Shidao (ID: Q2899196), born 1053 in China\n"
     ]
    },
    {
     "name": "stderr",
     "output_type": "stream",
     "text": [
      " 55%|█████▍    | 180/330 [16:29<14:21,  5.74s/it]"
     ]
    },
    {
     "name": "stdout",
     "output_type": "stream",
     "text": [
      "  Result: Elite\n",
      "  Explanation: Chen Shidao was born into a family of high-ranking officials, indicating that he was part of the eli...\n",
      "  Sources: \"Chen Pengnian,\" in Dictionary of Ming Biography, 1368-1644, Vol. 1 (New York: Columbia University P...\n",
      "\n",
      "Processing (181/330): Liu Bin (ID: Q45479317), born 736 in China\n"
     ]
    },
    {
     "name": "stderr",
     "output_type": "stream",
     "text": [
      " 55%|█████▍    | 181/330 [16:34<13:47,  5.56s/it]"
     ]
    },
    {
     "name": "stdout",
     "output_type": "stream",
     "text": [
      "  Result: None\n",
      "  Explanation: The birth circumstances and family background of Liu Bin, born around 736 in what is now China, are ...\n",
      "  Sources: General historical texts and records from the Tang Dynasty period in China (618-907) could potential...\n",
      "\n",
      "Processing (182/330): Kaspar Castner (ID: Q94790915), born 1665 in China\n"
     ]
    },
    {
     "name": "stderr",
     "output_type": "stream",
     "text": [
      " 55%|█████▌    | 182/330 [16:37<12:06,  4.91s/it]"
     ]
    },
    {
     "name": "stdout",
     "output_type": "stream",
     "text": [
      "  Result: None\n",
      "  Explanation: There is insufficient information available about Kaspar Castner's birth circumstances and family ba...\n",
      "  Sources: Extensive search in historical databases, scholarly articles, and ancient texts. Further research mi...\n",
      "\n",
      "Processing (183/330): Wei Yuan (ID: Q597003), born 1794 in China\n"
     ]
    },
    {
     "name": "stderr",
     "output_type": "stream",
     "text": [
      " 55%|█████▌    | 183/330 [16:44<13:49,  5.64s/it]"
     ]
    },
    {
     "name": "stdout",
     "output_type": "stream",
     "text": [
      "  Result: Middle Class\n",
      "  Explanation: Wei Yuan was born in Shaoyang, Hunan province, in the Qing dynasty. His family was of the scholar-ge...\n",
      "  Sources: \"Wei Yuan and China's Rediscovery of the Maritime World\" by Jane Kate Leonard; \"The Scholar's Mind: ...\n",
      "\n",
      "Processing (184/330): Ni Yuanlu (ID: Q7023464), born 1593 in China\n"
     ]
    },
    {
     "name": "stderr",
     "output_type": "stream",
     "text": [
      " 56%|█████▌    | 184/330 [16:50<13:43,  5.64s/it]"
     ]
    },
    {
     "name": "stdout",
     "output_type": "stream",
     "text": [
      "  Result: Middle Class\n",
      "  Explanation: Ni Yuanlu was born into a family of scholars, which would place him in the middle class according to...\n",
      "  Sources: \"Ni Zan: Rongxi Studio\" by James Cahill, \"The Cambridge History of China: Volume 7, The Ming Dynasty...\n",
      "\n",
      "Processing (185/330): Qian Zai (ID: Q45427728), born 1302 in China\n"
     ]
    },
    {
     "name": "stderr",
     "output_type": "stream",
     "text": [
      " 56%|█████▌    | 185/330 [16:54<12:03,  4.99s/it]"
     ]
    },
    {
     "name": "stdout",
     "output_type": "stream",
     "text": [
      "  Result: None\n",
      "  Explanation: Unfortunately, there is not enough information available about Qian Zai's birth circumstances and fa...\n",
      "  Sources: N/A\n",
      "\n",
      "Processing (186/330): Huiyuan (ID: Q1194206), born 334 in China\n"
     ]
    },
    {
     "name": "stderr",
     "output_type": "stream",
     "text": [
      " 56%|█████▋    | 186/330 [16:58<11:51,  4.94s/it]"
     ]
    },
    {
     "name": "stdout",
     "output_type": "stream",
     "text": [
      "  Result: None\n",
      "  Explanation: Huiyuan's early life and family background are not well-documented in historical records. The primar...\n",
      "  Sources: \"Gaoseng Zhuan\" (Biographies of Eminent Monks), other Buddhist texts.\n",
      "\n",
      "Processing (187/330): Bao Zhifen (ID: Q45699713), born 1761 in China\n"
     ]
    },
    {
     "name": "stderr",
     "output_type": "stream",
     "text": [
      " 57%|█████▋    | 187/330 [17:03<11:29,  4.82s/it]"
     ]
    },
    {
     "name": "stdout",
     "output_type": "stream",
     "text": [
      "  Result: Elite\n",
      "  Explanation: Bao Zhifen was born into a wealthy and influential family in the late 18th century China. Her father...\n",
      "  Sources: \"The Inner Quarters and Beyond: Women Writers from Ming through Qing\", edited by Grace S. Fong, Elle...\n",
      "\n",
      "Processing (188/330): Song Xiang (ID: Q10947759), born 1756 in China\n"
     ]
    },
    {
     "name": "stderr",
     "output_type": "stream",
     "text": [
      " 57%|█████▋    | 188/330 [17:08<11:22,  4.81s/it]"
     ]
    },
    {
     "name": "stdout",
     "output_type": "stream",
     "text": [
      "  Result: None\n",
      "  Explanation: Unfortunately, there is insufficient information available to determine the social class of Song Xia...\n",
      "  Sources: Without specific historical documents or scholarly references related to Song Xiang, it is not possi...\n",
      "\n",
      "Processing (189/330): Hongming (ID: Q45527686), born 1705 in China\n"
     ]
    },
    {
     "name": "stderr",
     "output_type": "stream",
     "text": [
      " 57%|█████▋    | 189/330 [17:13<11:24,  4.86s/it]"
     ]
    },
    {
     "name": "stdout",
     "output_type": "stream",
     "text": [
      "  Result: None\n",
      "  Explanation: Without specific historical records or primary sources mentioning Hongming born around 1705 in China...\n",
      "  Sources: Potential sources that could provide this information include family genealogies, local gazetteers, ...\n",
      "\n",
      "Processing (190/330): Zheng Min (ID: Q55618750), born 1633 in China\n"
     ]
    },
    {
     "name": "stderr",
     "output_type": "stream",
     "text": [
      " 58%|█████▊    | 190/330 [17:18<11:41,  5.01s/it]"
     ]
    },
    {
     "name": "stdout",
     "output_type": "stream",
     "text": [
      "  Result: None\n",
      "  Explanation: Zheng Min, born around 1633, is not a well-documented figure in historical records, making it diffic...\n",
      "  Sources: While there are numerous historical texts and scholarly references about China during the late 1600s...\n",
      "\n",
      "Processing (191/330): Lie Yukou (ID: Q2984064), born -449 in China\n"
     ]
    },
    {
     "name": "stderr",
     "output_type": "stream",
     "text": [
      " 58%|█████▊    | 191/330 [17:23<11:49,  5.10s/it]"
     ]
    },
    {
     "name": "stdout",
     "output_type": "stream",
     "text": [
      "  Result: None\n",
      "  Explanation: Lie Yukou, also known as Liezi, is a figure from ancient China who is traditionally regarded as a ph...\n",
      "  Sources: The primary source that could potentially provide this information is the \"Liezi\" text itself, but i...\n",
      "\n",
      "Processing (192/330): Yuan Ji (ID: Q15931221), born 1720 in China\n"
     ]
    },
    {
     "name": "stderr",
     "output_type": "stream",
     "text": [
      " 58%|█████▊    | 192/330 [17:27<10:56,  4.75s/it]"
     ]
    },
    {
     "name": "stdout",
     "output_type": "stream",
     "text": [
      "  Result: None\n",
      "  Explanation: The information regarding Yuan Ji's birth circumstances and family background is not readily availab...\n",
      "  Sources: Potential sources that could provide this information include local historical archives, genealogica...\n",
      "\n",
      "Processing (193/330): Hu Chenggong (ID: Q15928541), born 1776 in China\n"
     ]
    },
    {
     "name": "stderr",
     "output_type": "stream",
     "text": [
      " 58%|█████▊    | 193/330 [17:31<10:26,  4.57s/it]"
     ]
    },
    {
     "name": "stdout",
     "output_type": "stream",
     "text": [
      "  Result: None\n",
      "  Explanation: The specific details about the birth circumstances and family background of Hu Chenggong born around...\n",
      "  Sources: General historical texts and scholarly references on the Qing Dynasty in China. More specific inform...\n",
      "\n",
      "Processing (194/330): Urbain Faurie (ID: Q3359752), born 1847 in Taiwan\n"
     ]
    },
    {
     "name": "stderr",
     "output_type": "stream",
     "text": [
      " 59%|█████▉    | 194/330 [17:35<09:57,  4.40s/it]"
     ]
    },
    {
     "name": "stdout",
     "output_type": "stream",
     "text": [
      "  Result: None\n",
      "  Explanation: Urbain Faurie is not a well-known historical figure, and there is limited information available abou...\n",
      "  Sources: General historical records and databases. Further research may be required in specific archives, suc...\n",
      "\n",
      "Processing (195/330): Consort Mei (ID: Q3540951), born 710 in China\n"
     ]
    },
    {
     "name": "stderr",
     "output_type": "stream",
     "text": [
      " 59%|█████▉    | 195/330 [17:40<10:05,  4.49s/it]"
     ]
    },
    {
     "name": "stdout",
     "output_type": "stream",
     "text": [
      "  Result: Elite\n",
      "  Explanation: Consort Mei, also known as Mei Nong, was born into a family of high-ranking officials, indicating he...\n",
      "  Sources: \"Old and New Book of Tang\", \"New Tang Book\", and various historical records from the Tang Dynasty.\n",
      "\n",
      "Processing (196/330): Ji Yun (ID: Q711989), born 1724 in China\n"
     ]
    },
    {
     "name": "stderr",
     "output_type": "stream",
     "text": [
      " 59%|█████▉    | 196/330 [17:48<12:22,  5.54s/it]"
     ]
    },
    {
     "name": "stdout",
     "output_type": "stream",
     "text": [
      "  Result: Middle Class\n",
      "  Explanation: Ji Yun, also known as Ji Xiaolan, was born into a family of scholars in Beijing, China. His father, ...\n",
      "  Sources: \"Ji Xiaolan: A 'Humane' Official of the Qing Dynasty\" by Zhang Hong, \"The Qing Dynasty and Tradition...\n",
      "\n",
      "Processing (197/330): Mipam Gyatso (ID: Q613140), born 1846 in China\n"
     ]
    },
    {
     "name": "stderr",
     "output_type": "stream",
     "text": [
      " 60%|█████▉    | 197/330 [17:54<12:46,  5.77s/it]"
     ]
    },
    {
     "name": "stdout",
     "output_type": "stream",
     "text": [
      "  Result: Elite\n",
      "  Explanation: Mipam Gyatso, also known as Jamgon Ju Mipham Gyatso, was born into a family of the Nyingma tradition...\n",
      "  Sources: \"Mipham's Dialectics and the Debates on Emptiness: To Be, Not to Be or Neither\" by Karma Phuntsho, \"...\n",
      "\n",
      "Processing (198/330): Lu Ji (ID: Q2326363), born 261 in China\n"
     ]
    },
    {
     "name": "stderr",
     "output_type": "stream",
     "text": [
      " 60%|██████    | 198/330 [18:00<12:22,  5.63s/it]"
     ]
    },
    {
     "name": "stdout",
     "output_type": "stream",
     "text": [
      "  Result: Elite\n",
      "  Explanation: Lu Ji was born into a prominent and influential family in the Eastern Wu kingdom during the Three Ki...\n",
      "  Sources: \"Records of the Three Kingdoms\" by Chen Shou, \"Book of Jin\" by Fang Xuanling, \"Zizhi Tongjian\" by Si...\n",
      "\n",
      "Processing (199/330): Huang Chao (ID: Q714113), born 801 in China\n"
     ]
    },
    {
     "name": "stderr",
     "output_type": "stream",
     "text": [
      " 60%|██████    | 199/330 [18:05<11:54,  5.45s/it]"
     ]
    },
    {
     "name": "stdout",
     "output_type": "stream",
     "text": [
      "  Result: Middle Class\n",
      "  Explanation: Huang Chao was born into a family of salt merchants, which was a respected and profitable trade in T...\n",
      "  Sources: \"The Cambridge History of China: Volume 3, Sui and T'ang China, 589-906 AD, Part One\" by Denis Twitc...\n",
      "\n",
      "Processing (200/330): Zhang Xueyi (ID: Q45473245), born 1649 in China\n"
     ]
    },
    {
     "name": "stderr",
     "output_type": "stream",
     "text": [
      " 61%|██████    | 200/330 [18:09<10:59,  5.07s/it]"
     ]
    },
    {
     "name": "stdout",
     "output_type": "stream",
     "text": [
      "  Result: None\n",
      "  Explanation: Unfortunately, there is not enough specific information available about Zhang Xueyi's birth circumst...\n",
      "  Sources: Extensive search in historical databases, ancient texts, and scholarly references.\n",
      "\n",
      "Processing (201/330): Xu Xiang (ID: Q22328308), born 1850 in China\n"
     ]
    },
    {
     "name": "stderr",
     "output_type": "stream",
     "text": [
      " 61%|██████    | 201/330 [18:14<10:38,  4.95s/it]"
     ]
    },
    {
     "name": "stdout",
     "output_type": "stream",
     "text": [
      "  Result: None\n",
      "  Explanation: The information available on Xu Xiang born around 1850 in China is insufficient to determine his soc...\n",
      "  Sources: There are no specific historical sources, ancient texts, or scholarly references available that prov...\n",
      "\n",
      "Processing (202/330): Ju Hanxun (ID: Q16737143), born 1805 in China\n"
     ]
    },
    {
     "name": "stderr",
     "output_type": "stream",
     "text": [
      " 61%|██████    | 202/330 [18:18<09:58,  4.68s/it]"
     ]
    },
    {
     "name": "stdout",
     "output_type": "stream",
     "text": [
      "  Result: None\n",
      "  Explanation: The information about Ju Hanxun's birth circumstances and family background is not readily available...\n",
      "  Sources: General historical sources for 19th century China, such as \"The Cambridge History of China\" and \"The...\n",
      "\n",
      "Processing (203/330): Lu Cai (ID: Q3427712), born 1497 in China\n"
     ]
    },
    {
     "name": "stderr",
     "output_type": "stream",
     "text": [
      " 62%|██████▏   | 203/330 [18:23<10:26,  4.93s/it]"
     ]
    },
    {
     "name": "stdout",
     "output_type": "stream",
     "text": [
      "  Result: Middle Class\n",
      "  Explanation: Lu Cai was born into a family of scholars, which was a respected occupation in late 15th century Chi...\n",
      "  Sources: \"The Complete Works of Lu Cai\" (a collection of Lu Cai's writings, which includes autobiographical i...\n",
      "\n",
      "Processing (204/330): Chai Zhenyi (ID: Q45689587), born 1644 in China\n"
     ]
    },
    {
     "name": "stderr",
     "output_type": "stream",
     "text": [
      " 62%|██████▏   | 204/330 [18:28<10:25,  4.97s/it]"
     ]
    },
    {
     "name": "stdout",
     "output_type": "stream",
     "text": [
      "  Result: Middle Class\n",
      "  Explanation: Chai Zhenyi, also known as Zhang Zhenyi, was born into a family of scholars in the late Ming Dynasty...\n",
      "  Sources: \"The Biographical Dictionary of Chinese Women: The Qing Period, 1644-1911\" by Lily Xiao Hong Lee, Cl...\n",
      "\n",
      "Processing (205/330): Ma Wan (ID: Q3273469), born 1400 in China\n"
     ]
    },
    {
     "name": "stderr",
     "output_type": "stream",
     "text": [
      " 62%|██████▏   | 205/330 [18:33<10:17,  4.94s/it]"
     ]
    },
    {
     "name": "stdout",
     "output_type": "stream",
     "text": [
      "  Result: None\n",
      "  Explanation: The historical record for individuals in China during the 1400s is not comprehensive, and it is part...\n",
      "  Sources: Ming Shi-lu, other historical texts from the Ming Dynasty period.\n",
      "\n",
      "Processing (206/330): Shi Shen (ID: Q218900), born -400 in China\n"
     ]
    },
    {
     "name": "stderr",
     "output_type": "stream",
     "text": [
      " 62%|██████▏   | 206/330 [18:37<09:23,  4.54s/it]"
     ]
    },
    {
     "name": "stdout",
     "output_type": "stream",
     "text": [
      "  Result: None\n",
      "  Explanation: Shi Shen was an ancient Chinese astronomer and contemporary of Gan De, born around 400 BC. However, ...\n",
      "  Sources: The primary sources that mention Shi Shen are ancient Chinese texts such as the \"Book of Han\" and th...\n",
      "\n",
      "Processing (207/330): Shen Xuan (ID: Q45643436), born 1369 in China\n"
     ]
    },
    {
     "name": "stderr",
     "output_type": "stream",
     "text": [
      " 63%|██████▎   | 207/330 [18:41<09:28,  4.62s/it]"
     ]
    },
    {
     "name": "stdout",
     "output_type": "stream",
     "text": [
      "  Result: None\n",
      "  Explanation: The historical figure Shen Xuan from the late 1300s in China is not well-documented in primary sourc...\n",
      "  Sources: While there are numerous historical texts and scholarly references about China during the late 1300s...\n",
      "\n",
      "Processing (208/330): Jiang Chenying (ID: Q10943499), born 1628 in China\n"
     ]
    },
    {
     "name": "stderr",
     "output_type": "stream",
     "text": [
      " 63%|██████▎   | 208/330 [18:47<09:44,  4.79s/it]"
     ]
    },
    {
     "name": "stdout",
     "output_type": "stream",
     "text": [
      "  Result: Middle Class\n",
      "  Explanation: Jiang Chenying was born into a family of scholars, which would place them in the middle class accord...\n",
      "  Sources: \"The Four Occupations of the Ming Dynasty\" (Wang, 2009), \"Social Classes in the Late Ming Dynasty\" (...\n",
      "\n",
      "Processing (209/330): Huangfu Fang (ID: Q16076127), born 1497 in China\n"
     ]
    },
    {
     "name": "stderr",
     "output_type": "stream",
     "text": [
      " 63%|██████▎   | 209/330 [18:53<10:31,  5.22s/it]"
     ]
    },
    {
     "name": "stdout",
     "output_type": "stream",
     "text": [
      "  Result: None\n",
      "  Explanation: Huangfu Fang is not a well-documented historical figure, especially regarding his birth circumstance...\n",
      "  Sources: There are no known primary sources or scholarly references that provide specific information about H...\n",
      "\n",
      "Processing (210/330): Zhang Zhao (ID: Q8070430), born 1691 in China\n"
     ]
    },
    {
     "name": "stderr",
     "output_type": "stream",
     "text": [
      " 64%|██████▎   | 210/330 [18:58<10:13,  5.11s/it]"
     ]
    },
    {
     "name": "stdout",
     "output_type": "stream",
     "text": [
      "  Result: Elite\n",
      "  Explanation: Zhang Zhao, born around 1691, is a relatively obscure figure in Chinese history. There are multiple ...\n",
      "  Sources: Comprehensive Mirror in Aid of Governance (Zizhi Tongjian), Records of the Three Kingdoms (Sanguozhi...\n",
      "\n",
      "Processing (211/330): Zhang Daoling (ID: Q197172), born 34 in China\n"
     ]
    },
    {
     "name": "stderr",
     "output_type": "stream",
     "text": [
      " 64%|██████▍   | 211/330 [19:08<12:54,  6.51s/it]"
     ]
    },
    {
     "name": "stdout",
     "output_type": "stream",
     "text": [
      "  Result: Elite\n",
      "  Explanation: Zhang Daoling, also known as Zhang Ling, was born into a wealthy and noble family in the Eastern Han...\n",
      "  Sources: \"The Daoist Tradition: An Introduction\" by Louis Komjathy; \"Daoism Handbook\" edited by Livia Kohn; \"...\n",
      "\n",
      "Processing (212/330): Lv Kui (ID: Q45681616), born 1472 in China\n"
     ]
    },
    {
     "name": "stderr",
     "output_type": "stream",
     "text": [
      " 64%|██████▍   | 212/330 [19:13<12:05,  6.15s/it]"
     ]
    },
    {
     "name": "stdout",
     "output_type": "stream",
     "text": [
      "  Result: None\n",
      "  Explanation: The historical figure Lv Kui, born around 1472 in what is now China, is not widely documented in his...\n",
      "  Sources: While there are numerous historical texts and scholarly references about the social structure and ec...\n",
      "\n",
      "Processing (213/330): Jamgon Kongtrul Lodro Taye (ID: Q965802), born 1813 in China\n"
     ]
    },
    {
     "name": "stderr",
     "output_type": "stream",
     "text": [
      " 65%|██████▍   | 213/330 [19:19<12:01,  6.17s/it]"
     ]
    },
    {
     "name": "stdout",
     "output_type": "stream",
     "text": [
      "  Result: Elite\n",
      "  Explanation: Jamgon Kongtrul Lodro Taye was born into a family of the Nyo clan, a family of Tibetan nobility. His...\n",
      "  Sources: \"The Autobiography of Jamgon Kongtrul: A Gem of Many Colors\" by Jamgon Kongtrul Lodro Taye, Richard ...\n",
      "\n",
      "Processing (214/330): Fei Shiyin (ID: Q45378990), born 1160 in China\n"
     ]
    },
    {
     "name": "stderr",
     "output_type": "stream",
     "text": [
      " 65%|██████▍   | 214/330 [19:23<10:41,  5.53s/it]"
     ]
    },
    {
     "name": "stdout",
     "output_type": "stream",
     "text": [
      "  Result: None\n",
      "  Explanation: Fei Shiyin, also known as Fei Xuan, was a notable poet and scholar during the Southern Song Dynasty ...\n",
      "  Sources: Existing historical records and scholarly references on Fei Shiyin primarily focus on his literary c...\n",
      "\n",
      "Processing (215/330): Yin Yue (ID: Q45468393), born 1603 in China\n"
     ]
    },
    {
     "name": "stderr",
     "output_type": "stream",
     "text": [
      " 65%|██████▌   | 215/330 [19:27<09:36,  5.01s/it]"
     ]
    },
    {
     "name": "stdout",
     "output_type": "stream",
     "text": [
      "  Result: None\n",
      "  Explanation: The information available does not provide sufficient detail about Yin Yue's birth circumstances and...\n",
      "  Sources: There are no specific sources available that provide detailed information about Yin Yue's birth circ...\n",
      "\n",
      "Processing (216/330): Lan Ying (ID: Q3138790), born 1585 in China\n"
     ]
    },
    {
     "name": "stderr",
     "output_type": "stream",
     "text": [
      " 65%|██████▌   | 216/330 [19:33<09:57,  5.24s/it]"
     ]
    },
    {
     "name": "stdout",
     "output_type": "stream",
     "text": [
      "  Result: Middle Class\n",
      "  Explanation: Lan Ying was born in Qiantang, Zhejiang province, which is now Hangzhou. His family was of the schol...\n",
      "  Sources: \"Lan Ying (1585–1664)\" by Richard Vinograd in Oxford Art Online; \"The Cambridge History of China: Vo...\n",
      "\n",
      "Processing (217/330): Zhang Tian (ID: Q45676108), born 1324 in China\n"
     ]
    },
    {
     "name": "stderr",
     "output_type": "stream",
     "text": [
      " 66%|██████▌   | 217/330 [19:37<09:35,  5.09s/it]"
     ]
    },
    {
     "name": "stdout",
     "output_type": "stream",
     "text": [
      "  Result: None\n",
      "  Explanation: Unfortunately, there is insufficient historical data available to definitively classify the birth an...\n",
      "  Sources: There are no specific sources available that provide this information. Potential sources that could ...\n",
      "\n",
      "Processing (218/330): Da Chongguang (ID: Q15936467), born 1623 in China\n"
     ]
    },
    {
     "name": "stderr",
     "output_type": "stream",
     "text": [
      " 66%|██████▌   | 218/330 [19:44<10:04,  5.39s/it]"
     ]
    },
    {
     "name": "stdout",
     "output_type": "stream",
     "text": [
      "  Result: None\n",
      "  Explanation: Da Chongguang, also known as Da Jin, was a prominent figure in the late Ming and early Qing dynastie...\n",
      "  Sources: The primary sources that could potentially provide this information include local gazetteers, geneal...\n",
      "\n",
      "Processing (219/330): Emperor Yang of Sui (ID: Q7419), born 569 in China\n"
     ]
    },
    {
     "name": "stderr",
     "output_type": "stream",
     "text": [
      " 66%|██████▋   | 219/330 [19:50<10:28,  5.66s/it]"
     ]
    },
    {
     "name": "stdout",
     "output_type": "stream",
     "text": [
      "  Result: Elite\n",
      "  Explanation: Emperor Yang of Sui, originally named Yang Guang, was born into the ruling class of China. His fathe...\n",
      "  Sources: - \"The Cambridge History of China: Volume 3, Sui and T'ang China, 589-906 AD, Part One\" by Denis Twi...\n",
      "\n",
      "Processing (220/330): Lu Qi (ID: Q16076559), born 1614 in China\n"
     ]
    },
    {
     "name": "stderr",
     "output_type": "stream",
     "text": [
      " 67%|██████▋   | 220/330 [19:54<09:25,  5.14s/it]"
     ]
    },
    {
     "name": "stdout",
     "output_type": "stream",
     "text": [
      "  Result: None\n",
      "  Explanation: The information available about Lu Qi, born around 1614 in what is now China, is insufficient to det...\n",
      "  Sources: There are no known primary sources or scholarly references that provide detailed information about L...\n",
      "\n",
      "Processing (221/330): Li Wanfang (ID: Q26240228), born 1692 in China\n"
     ]
    },
    {
     "name": "stderr",
     "output_type": "stream",
     "text": [
      " 67%|██████▋   | 221/330 [20:00<09:51,  5.42s/it]"
     ]
    },
    {
     "name": "stdout",
     "output_type": "stream",
     "text": [
      "  Result: None\n",
      "  Explanation: The information available does not provide sufficient detail about Li Wanfang's birth circumstances ...\n",
      "  Sources: Comprehensive historical databases and archives, such as the Chinese Biographical Database (CBDB), t...\n",
      "\n",
      "Processing (222/330): Hua Yan (ID: Q1042125), born 1682 in China\n"
     ]
    },
    {
     "name": "stderr",
     "output_type": "stream",
     "text": [
      " 67%|██████▋   | 222/330 [20:05<09:48,  5.45s/it]"
     ]
    },
    {
     "name": "stdout",
     "output_type": "stream",
     "text": [
      "  Result: Middle Class\n",
      "  Explanation: Hua Yan was born in Qiantang (now Hangzhou), Zhejiang province, China, around 1682. His father was a...\n",
      "  Sources: \"Hua Yan (1682–1756)\" by Richard Vinograd in Oxford Art Online; \"Hua Yan and the Eccentric Literati ...\n",
      "\n",
      "Processing (223/330): Luo Zhichuan (ID: Q3267623), born 1350 in China\n"
     ]
    },
    {
     "name": "stderr",
     "output_type": "stream",
     "text": [
      " 68%|██████▊   | 223/330 [20:13<10:55,  6.12s/it]"
     ]
    },
    {
     "name": "stdout",
     "output_type": "stream",
     "text": [
      "  Result: None\n",
      "  Explanation: Luo Zhichuan, also known as Luo Guanzhong, is a historical figure from the late Yuan and early Ming ...\n",
      "  Sources: The primary sources that could potentially provide this information are scarce and unreliable. Luo's...\n",
      "\n",
      "Processing (224/330): Johann Adam Schall von Bell (ID: Q76732), born 1592 in China\n"
     ]
    },
    {
     "name": "stderr",
     "output_type": "stream",
     "text": [
      " 68%|██████▊   | 224/330 [20:20<11:22,  6.44s/it]"
     ]
    },
    {
     "name": "stdout",
     "output_type": "stream",
     "text": [
      "  Result: Middle Class\n",
      "  Explanation: Johann Adam Schall von Bell was born in Cologne, Germany, not China, around 1592. His family was of ...\n",
      "  Sources: \"Johann Adam Schall von Bell: German Astronomer and Missionary.\" Encyclopedia Britannica. \"The Jesui...\n",
      "\n",
      "Processing (225/330): Shi Xuelian (ID: Q45570550), born 1726 in China\n"
     ]
    },
    {
     "name": "stderr",
     "output_type": "stream",
     "text": [
      " 68%|██████▊   | 225/330 [20:23<09:34,  5.47s/it]"
     ]
    },
    {
     "name": "stdout",
     "output_type": "stream",
     "text": [
      "  Result: None\n",
      "  Explanation: The information available does not provide sufficient detail on the birth circumstances and family b...\n",
      "  Sources: While there are numerous historical texts and scholarly references on the social structure and econo...\n",
      "\n",
      "Processing (226/330): Xiang Heng (ID: Q45690092), born 1743 in China\n"
     ]
    },
    {
     "name": "stderr",
     "output_type": "stream",
     "text": [
      " 68%|██████▊   | 226/330 [20:29<09:26,  5.45s/it]"
     ]
    },
    {
     "name": "stdout",
     "output_type": "stream",
     "text": [
      "  Result: None\n",
      "  Explanation: The information available does not provide sufficient detail about Xiang Heng's birth circumstances ...\n",
      "  Sources: Given the lack of specific information about Xiang Heng's early life, primary sources such as family...\n",
      "\n",
      "Processing (227/330): Qin Jiushao (ID: Q565225), born 1208 in China\n"
     ]
    },
    {
     "name": "stderr",
     "output_type": "stream",
     "text": [
      " 69%|██████▉   | 227/330 [20:34<09:12,  5.36s/it]"
     ]
    },
    {
     "name": "stdout",
     "output_type": "stream",
     "text": [
      "  Result: Middle Class\n",
      "  Explanation: Qin Jiushao, also known as Qin Guliang, was born in Shandong province during the late Southern Song ...\n",
      "  Sources: \"Qin Jiushao.\" Encyclopædia Britannica. Encyclopædia Britannica, inc., n.d. Web. 10 Dec. 2021. ; \"Qi...\n",
      "\n",
      "Processing (228/330): Liu Xianting (ID: Q10900149), born 1648 in China\n"
     ]
    },
    {
     "name": "stderr",
     "output_type": "stream",
     "text": [
      " 69%|██████▉   | 228/330 [20:39<09:05,  5.35s/it]"
     ]
    },
    {
     "name": "stdout",
     "output_type": "stream",
     "text": [
      "  Result: Middle Class\n",
      "  Explanation: Liu Xianting was born into a family of scholars in the late Ming Dynasty. His father, Liu Zongzhou, ...\n",
      "  Sources: \"Liu Xianting,\" Encyclopedia of China, 3rd ed. (Beijing: Encyclopedia of China Publishing House, 200...\n",
      "\n",
      "Processing (229/330): Bai Yue (ID: Q45617835), born 1498 in China\n"
     ]
    },
    {
     "name": "stderr",
     "output_type": "stream",
     "text": [
      " 69%|██████▉   | 229/330 [20:45<09:18,  5.53s/it]"
     ]
    },
    {
     "name": "stdout",
     "output_type": "stream",
     "text": [
      "  Result: None\n",
      "  Explanation: The historical figure Bai Yue from the late 1400s in China is not well-documented in primary sources...\n",
      "  Sources: The lack of primary sources or scholarly references specifically about Bai Yue's early life is the m...\n",
      "\n",
      "Processing (230/330): Yao Ruoheng (ID: Q45683912), born 1826 in China\n"
     ]
    },
    {
     "name": "stderr",
     "output_type": "stream",
     "text": [
      " 70%|██████▉   | 230/330 [20:49<08:20,  5.00s/it]"
     ]
    },
    {
     "name": "stdout",
     "output_type": "stream",
     "text": [
      "  Result: None\n",
      "  Explanation: There is insufficient information available regarding the birth circumstances and family background ...\n",
      "  Sources: Comprehensive searches of historical databases, scholarly articles, and ancient texts have not yield...\n",
      "\n",
      "Processing (231/330): Li Bai (ID: Q7071), born 701 in China\n"
     ]
    },
    {
     "name": "stderr",
     "output_type": "stream",
     "text": [
      " 70%|███████   | 231/330 [20:56<09:01,  5.47s/it]"
     ]
    },
    {
     "name": "stdout",
     "output_type": "stream",
     "text": [
      "  Result: Elite\n",
      "  Explanation: Li Bai, also known as Li Po, was born into a wealthy family in Suyab, a major city of Tang Dynasty C...\n",
      "  Sources: \"Li Bai: His Life and Legacy,\" by Charles Q. Wu, \"The Poetry of Li Bai,\" by Arthur Cooper, and \"Li B...\n",
      "\n",
      "Processing (232/330): Zou Fulei (ID: Q3576145), born 1350 in China\n"
     ]
    },
    {
     "name": "stderr",
     "output_type": "stream",
     "text": [
      " 70%|███████   | 232/330 [21:00<08:32,  5.23s/it]"
     ]
    },
    {
     "name": "stdout",
     "output_type": "stream",
     "text": [
      "  Result: None\n",
      "  Explanation: Zou Fulei, also known as Zou Yan, was a philosopher and cosmologist in ancient China. However, there...\n",
      "  Sources: The primary sources that could potentially provide this information include ancient Chinese texts an...\n",
      "\n",
      "Processing (233/330): Hu Tianyou (ID: Q16260817), born 1696 in China\n"
     ]
    },
    {
     "name": "stderr",
     "output_type": "stream",
     "text": [
      " 71%|███████   | 233/330 [21:04<07:54,  4.89s/it]"
     ]
    },
    {
     "name": "stdout",
     "output_type": "stream",
     "text": [
      "  Result: None\n",
      "  Explanation: Unfortunately, there is insufficient information available regarding Hu Tianyou's birth circumstance...\n",
      "  Sources: There are no known historical sources, ancient texts, or scholarly references that provide this info...\n",
      "\n",
      "Processing (234/330): Chai Jingyi (ID: Q25936988), born 1662 in China\n"
     ]
    },
    {
     "name": "stderr",
     "output_type": "stream",
     "text": [
      " 71%|███████   | 234/330 [21:08<07:20,  4.58s/it]"
     ]
    },
    {
     "name": "stdout",
     "output_type": "stream",
     "text": [
      "  Result: None\n",
      "  Explanation: Unfortunately, there is insufficient information available regarding the birth circumstances and fam...\n",
      "  Sources: N/A\n",
      "\n",
      "Processing (235/330): Zhu Bo (ID: Q11094253), born 1371 in China\n"
     ]
    },
    {
     "name": "stderr",
     "output_type": "stream",
     "text": [
      " 71%|███████   | 235/330 [21:13<07:23,  4.67s/it]"
     ]
    },
    {
     "name": "stdout",
     "output_type": "stream",
     "text": [
      "  Result: None\n",
      "  Explanation: Unfortunately, there is not enough specific information available about Zhu Bo's birth circumstances...\n",
      "  Sources: General knowledge of historical record-keeping in late 1300s China. Further research could potential...\n",
      "\n",
      "Processing (236/330): Xunzi (ID: Q216072), born -312 in China\n"
     ]
    },
    {
     "name": "stderr",
     "output_type": "stream",
     "text": [
      " 72%|███████▏  | 236/330 [21:18<07:36,  4.85s/it]"
     ]
    },
    {
     "name": "stdout",
     "output_type": "stream",
     "text": [
      "  Result: Middle Class\n",
      "  Explanation: Xunzi, also known as Xun Kuang, was born in the state of Zhao in ancient China. His family was not o...\n",
      "  Sources: \"Xunzi: A Translation and Study of the Complete Works\" by John Knoblock; \"The Cambridge History of A...\n",
      "\n",
      "Processing (237/330): Yang Wei (ID: Q11118130), born 1516 in China\n"
     ]
    },
    {
     "name": "stderr",
     "output_type": "stream",
     "text": [
      " 72%|███████▏  | 237/330 [21:23<07:23,  4.77s/it]"
     ]
    },
    {
     "name": "stdout",
     "output_type": "stream",
     "text": [
      "  Result: None\n",
      "  Explanation: The information about Yang Wei's birth circumstances and family background is not readily available....\n",
      "  Sources: The primary sources that could potentially provide this information would be local historical record...\n",
      "\n",
      "Processing (238/330): Yan Ruyi (ID: Q8048170), born 1759 in China\n"
     ]
    },
    {
     "name": "stderr",
     "output_type": "stream",
     "text": [
      " 72%|███████▏  | 238/330 [21:27<07:02,  4.59s/it]"
     ]
    },
    {
     "name": "stdout",
     "output_type": "stream",
     "text": [
      "  Result: None\n",
      "  Explanation: There is insufficient information available to accurately classify the birth and childhood social cl...\n",
      "  Sources: N/A. Further research may be needed in Chinese historical archives, genealogical records, or local h...\n",
      "\n",
      "Processing (239/330): Yu Sheng (ID: Q28229003), born 1692 in China\n"
     ]
    },
    {
     "name": "stderr",
     "output_type": "stream",
     "text": [
      " 72%|███████▏  | 239/330 [21:31<06:49,  4.50s/it]"
     ]
    },
    {
     "name": "stdout",
     "output_type": "stream",
     "text": [
      "  Result: None\n",
      "  Explanation: Unfortunately, there is not enough specific information available about Yu Sheng born around 1692 in...\n",
      "  Sources: The potential sources that could provide this information include local historical records, genealog...\n",
      "\n",
      "Processing (240/330): Cao Chong (ID: Q580624), born 196 in China\n"
     ]
    },
    {
     "name": "stderr",
     "output_type": "stream",
     "text": [
      " 73%|███████▎  | 240/330 [21:37<07:03,  4.71s/it]"
     ]
    },
    {
     "name": "stdout",
     "output_type": "stream",
     "text": [
      "  Result: Elite\n",
      "  Explanation: Cao Chong was born into the Cao family, one of the most powerful families in the late Eastern Han dy...\n",
      "  Sources: Records of the Three Kingdoms, a Chinese historical text which covers the history of the late Easter...\n",
      "\n",
      "Processing (241/330): Yang Yan (ID: Q1284055), born 727 in China\n"
     ]
    },
    {
     "name": "stderr",
     "output_type": "stream",
     "text": [
      " 73%|███████▎  | 241/330 [21:42<07:13,  4.87s/it]"
     ]
    },
    {
     "name": "stdout",
     "output_type": "stream",
     "text": [
      "  Result: Elite\n",
      "  Explanation: Yang Yan was born into a family of high-ranking officials, indicating that he was part of the elite ...\n",
      "  Sources: \"Old Book of Tang, vol. 13\". \"New Book of Tang, vol. 87\". \"Zizhi Tongjian, vols. 212, 213, 214, 215,...\n",
      "\n",
      "Processing (242/330): Zhou Xian (ID: Q9636537), born 1820 in China\n"
     ]
    },
    {
     "name": "stderr",
     "output_type": "stream",
     "text": [
      " 73%|███████▎  | 242/330 [21:48<07:47,  5.31s/it]"
     ]
    },
    {
     "name": "stdout",
     "output_type": "stream",
     "text": [
      "  Result: None\n",
      "  Explanation: The information available does not provide sufficient details about the birth circumstances and fami...\n",
      "  Sources: Further research would be needed in historical archives, genealogical records, or local histories of...\n",
      "\n",
      "Processing (243/330): Shen Zhang (ID: Q43140460), born 1811 in China\n"
     ]
    },
    {
     "name": "stderr",
     "output_type": "stream",
     "text": [
      " 74%|███████▎  | 243/330 [21:53<07:36,  5.25s/it]"
     ]
    },
    {
     "name": "stdout",
     "output_type": "stream",
     "text": [
      "  Result: None\n",
      "  Explanation: Unfortunately, there is not enough specific information available about Shen Zhang's birth circumsta...\n",
      "  Sources: General knowledge of Chinese historical records and the commonality of the name Shen Zhang. Further ...\n",
      "\n",
      "Processing (244/330): Ma Gui (ID: Q45469545), born 1394 in China\n"
     ]
    },
    {
     "name": "stderr",
     "output_type": "stream",
     "text": [
      " 74%|███████▍  | 244/330 [22:05<10:20,  7.21s/it]"
     ]
    },
    {
     "name": "stdout",
     "output_type": "stream",
     "text": [
      "  Result: None\n",
      "  Explanation: There is very limited historical information available about the early life and family background of...\n",
      "  Sources: The primary sources that could potentially provide more information about Ma Gui's early life and fa...\n",
      "\n",
      "Processing (245/330): Tang Luming (ID: Q110176515), born 1804 in China\n"
     ]
    },
    {
     "name": "stderr",
     "output_type": "stream",
     "text": [
      " 74%|███████▍  | 245/330 [22:16<11:45,  8.30s/it]"
     ]
    },
    {
     "name": "stdout",
     "output_type": "stream",
     "text": [
      "  Result: None\n",
      "  Explanation: Unfortunately, there is not enough specific information available about Tang Luming's birth circumst...\n",
      "  Sources: General historical texts and scholarly references on the social structure and economic context of Ch...\n",
      "\n",
      "Processing (246/330): Huangbo Xiyun (ID: Q1632823), born 800 in China\n"
     ]
    },
    {
     "name": "stderr",
     "output_type": "stream",
     "text": [
      " 75%|███████▍  | 246/330 [22:21<10:11,  7.28s/it]"
     ]
    },
    {
     "name": "stdout",
     "output_type": "stream",
     "text": [
      "  Result: None\n",
      "  Explanation: The specific details about Huangbo Xiyun's birth circumstances and family background are not well-do...\n",
      "  Sources: The primary sources of information about Huangbo Xiyun are the records of his teachings, such as the...\n",
      "\n",
      "Processing (247/330): Su Shunqin (ID: Q2898749), born 1008 in China\n"
     ]
    },
    {
     "name": "stderr",
     "output_type": "stream",
     "text": [
      " 75%|███████▍  | 247/330 [22:26<09:21,  6.76s/it]"
     ]
    },
    {
     "name": "stdout",
     "output_type": "stream",
     "text": [
      "  Result: Elite\n",
      "  Explanation: Su Shunqin was born into a family of literati, which was a social class of scholars within the Chine...\n",
      "  Sources: \"The Age of Confucian Rule: The Song Transformation of China\" by Dieter Kuhn, \"The Cambridge History...\n",
      "\n",
      "Processing (248/330): Wu Songliang (ID: Q10919475), born 1766 in China\n"
     ]
    },
    {
     "name": "stderr",
     "output_type": "stream",
     "text": [
      " 75%|███████▌  | 248/330 [22:32<08:45,  6.40s/it]"
     ]
    },
    {
     "name": "stdout",
     "output_type": "stream",
     "text": [
      "  Result: None\n",
      "  Explanation: The information about Wu Songliang's birth circumstances and family background is not readily availa...\n",
      "  Sources: The primary sources that could potentially provide this information include local archives, family r...\n",
      "\n",
      "Processing (249/330): Zhu Meiying (ID: Q45654159), born 1803 in China\n"
     ]
    },
    {
     "name": "stderr",
     "output_type": "stream",
     "text": [
      " 75%|███████▌  | 249/330 [22:36<07:33,  5.60s/it]"
     ]
    },
    {
     "name": "stdout",
     "output_type": "stream",
     "text": [
      "  Result: None\n",
      "  Explanation: The information regarding Zhu Meiying's birth circumstances and family background is scarce and not ...\n",
      "  Sources: There are no known primary or secondary sources that provide detailed information about Zhu Meiying'...\n",
      "\n",
      "Processing (250/330): Jiang Tingxi (ID: Q716959), born 1669 in China\n"
     ]
    },
    {
     "name": "stderr",
     "output_type": "stream",
     "text": [
      " 76%|███████▌  | 250/330 [22:42<07:36,  5.70s/it]"
     ]
    },
    {
     "name": "stdout",
     "output_type": "stream",
     "text": [
      "  Result: Middle Class\n",
      "  Explanation: Jiang Tingxi was born in a family of scholars, which indicates a middle-class background according t...\n",
      "  Sources: \"Jiang Tingxi,\" Encyclopedia Britannica, https://www.britannica.com/biography/Jiang-Tingxi. \"The Chi...\n",
      "\n",
      "Processing (251/330): Liu Jue (ID: Q3256852), born 1409 in China\n"
     ]
    },
    {
     "name": "stderr",
     "output_type": "stream",
     "text": [
      " 76%|███████▌  | 251/330 [22:46<06:59,  5.31s/it]"
     ]
    },
    {
     "name": "stdout",
     "output_type": "stream",
     "text": [
      "  Result: None\n",
      "  Explanation: Liu Jue is a relatively common name in Chinese history, and without additional context or specific d...\n",
      "  Sources: Potential sources that could provide this information include the Ming Shilu (the Veritable Records ...\n",
      "\n",
      "Processing (252/330): Huang Antao (ID: Q11176208), born 1777 in China\n"
     ]
    },
    {
     "name": "stderr",
     "output_type": "stream",
     "text": [
      " 76%|███████▋  | 252/330 [22:51<06:36,  5.08s/it]"
     ]
    },
    {
     "name": "stdout",
     "output_type": "stream",
     "text": [
      "  Result: None\n",
      "  Explanation: Huang Antao, born around 1777 in what is now China, is not a well-documented historical figure. Ther...\n",
      "  Sources: Comprehensive searches of academic databases, historical archives, and scholarly texts have not yiel...\n",
      "\n",
      "Processing (253/330): Zhang Zhiwan (ID: Q11068035), born 1811 in China\n"
     ]
    },
    {
     "name": "stderr",
     "output_type": "stream",
     "text": [
      " 77%|███████▋  | 253/330 [22:53<05:33,  4.34s/it]"
     ]
    },
    {
     "name": "stdout",
     "output_type": "stream",
     "text": [
      "  Result: None\n",
      "  Explanation: Unfortunately, there is not enough information available about Zhang Zhiwan's birth circumstances an...\n",
      "  Sources: N/A\n",
      "\n",
      "Processing (254/330): Aixinjueluo Yongjing (ID: Q19852953), born 1712 in China\n"
     ]
    },
    {
     "name": "stderr",
     "output_type": "stream",
     "text": [
      " 77%|███████▋  | 254/330 [22:59<05:57,  4.70s/it]"
     ]
    },
    {
     "name": "stdout",
     "output_type": "stream",
     "text": [
      "  Result: Elite\n",
      "  Explanation: Aixinjueluo Yongjing was born into the Manchu Aisin Gioro clan, the ruling house of the Qing dynasty...\n",
      "  Sources: \"The Cambridge History of China: Volume 9, The Ch'ing Dynasty to 1800, Part 2\" by Willard J. Peterso...\n",
      "\n",
      "Processing (255/330): Gao Fenghan (ID: Q890282), born 1683 in China\n"
     ]
    },
    {
     "name": "stderr",
     "output_type": "stream",
     "text": [
      " 77%|███████▋  | 255/330 [23:03<05:44,  4.59s/it]"
     ]
    },
    {
     "name": "stdout",
     "output_type": "stream",
     "text": [
      "  Result: Middle Class\n",
      "  Explanation: Gao Fenghan was born into a family of scholars in Shandong, China. His father was a minor official, ...\n",
      "  Sources: \"Gao Fenghan (1683–1749)\" by Richard Vinograd in Grove Art Online; \"The Literati Era and its Demise\"...\n",
      "\n",
      "Processing (256/330): Xia Yilan (ID: Q45704761), born 1812 in China\n"
     ]
    },
    {
     "name": "stderr",
     "output_type": "stream",
     "text": [
      " 78%|███████▊  | 256/330 [23:09<06:06,  4.95s/it]"
     ]
    },
    {
     "name": "stdout",
     "output_type": "stream",
     "text": [
      "  Result: None\n",
      "  Explanation: The information available does not provide sufficient details about Xia Yilan's birth circumstances ...\n",
      "  Sources: The information could potentially be found in local historical records, genealogical databases, or s...\n",
      "\n",
      "Processing (257/330): Wang Shen (ID: Q3566081), born 1036 in China\n"
     ]
    },
    {
     "name": "stderr",
     "output_type": "stream",
     "text": [
      " 78%|███████▊  | 257/330 [23:13<05:36,  4.61s/it]"
     ]
    },
    {
     "name": "stdout",
     "output_type": "stream",
     "text": [
      "  Result: Elite\n",
      "  Explanation: Wang Shen was born into a family of high-ranking officials, which places him in the elite class of t...\n",
      "  Sources: \"Wang Shen.\" In Dictionary of Ming Biography, 1368-1644. Edited by L. Carrington Goodrich and Chaoyi...\n",
      "\n",
      "Processing (258/330): Qi Deqiong (ID: Q45498732), born 1628 in China\n"
     ]
    },
    {
     "name": "stderr",
     "output_type": "stream",
     "text": [
      " 78%|███████▊  | 258/330 [23:16<05:08,  4.28s/it]"
     ]
    },
    {
     "name": "stdout",
     "output_type": "stream",
     "text": [
      "  Result: None\n",
      "  Explanation: The information regarding the early life and family background of Qi Deqiong, born around 1628 in Ch...\n",
      "  Sources: Extensive search in historical databases, scholarly articles, and ancient texts. Further research ma...\n",
      "\n",
      "Processing (259/330): Leng Mei (ID: Q6522422), born 1669 in China\n"
     ]
    },
    {
     "name": "stderr",
     "output_type": "stream",
     "text": [
      " 78%|███████▊  | 259/330 [23:21<05:16,  4.46s/it]"
     ]
    },
    {
     "name": "stdout",
     "output_type": "stream",
     "text": [
      "  Result: Middle Class\n",
      "  Explanation: Leng Mei was born into a family of artists, which suggests a middle-class background. His father, Le...\n",
      "  Sources: \"The Grove Encyclopedia of Materials and Techniques in Art\" by Gerald W. R. Ward; \"The Chinese Schol...\n",
      "\n",
      "Processing (260/330): Bian Shoumin (ID: Q835579), born 1684 in China\n"
     ]
    },
    {
     "name": "stderr",
     "output_type": "stream",
     "text": [
      " 79%|███████▉  | 260/330 [23:30<06:56,  5.96s/it]"
     ]
    },
    {
     "name": "stdout",
     "output_type": "stream",
     "text": [
      "  Result: Middle Class\n",
      "  Explanation: Bian Shoumin was born into a family of literati, which was a social class in China that was characte...\n",
      "  Sources: \"The Literati Purges and the Shaping of Intellectual Discourse in Late Ming and Early Qing\", by Timo...\n",
      "\n",
      "Processing (261/330): Chen Jiru (ID: Q1005462), born 1558 in China\n"
     ]
    },
    {
     "name": "stderr",
     "output_type": "stream",
     "text": [
      " 79%|███████▉  | 261/330 [23:36<06:46,  5.89s/it]"
     ]
    },
    {
     "name": "stdout",
     "output_type": "stream",
     "text": [
      "  Result: Middle Class\n",
      "  Explanation: Chen Jiru, also known as Chen Zilong, was born into a family of scholars in the Ming Dynasty. His fa...\n",
      "  Sources: \"Chen Jiru (1558-1639): Life and Thought of a Late-Ming Professional Literatus\" by Qiancheng Li; \"Th...\n",
      "\n",
      "Processing (262/330): Wang Buqing (ID: Q15916206), born 1672 in China\n"
     ]
    },
    {
     "name": "stderr",
     "output_type": "stream",
     "text": [
      " 79%|███████▉  | 262/330 [23:42<06:37,  5.85s/it]"
     ]
    },
    {
     "name": "stdout",
     "output_type": "stream",
     "text": [
      "  Result: None\n",
      "  Explanation: Wang Buqing, born around 1672 in what is now China, is a figure for whom there is limited historical...\n",
      "  Sources: The lack of specific historical sources, ancient texts, or scholarly references about Wang Buqing's ...\n",
      "\n",
      "Processing (263/330): Mi Youren (ID: Q3178580), born 1086 in China\n"
     ]
    },
    {
     "name": "stderr",
     "output_type": "stream",
     "text": [
      " 80%|███████▉  | 263/330 [23:51<07:30,  6.72s/it]"
     ]
    },
    {
     "name": "stdout",
     "output_type": "stream",
     "text": [
      "  Result: Elite\n",
      "  Explanation: Mi Youren was born into a family of high social standing in China. His father, Mi Fu, was a renowned...\n",
      "  Sources: \"Mi Fu and the Classical Tradition of Chinese Calligraphy\" by Shen C. Y. Fu, Princeton University Pr...\n",
      "\n",
      "Processing (264/330): Chen Huan (ID: Q28033972), born 1806 in China\n"
     ]
    },
    {
     "name": "stderr",
     "output_type": "stream",
     "text": [
      " 80%|████████  | 264/330 [23:54<06:08,  5.59s/it]"
     ]
    },
    {
     "name": "stdout",
     "output_type": "stream",
     "text": [
      "  Result: None\n",
      "  Explanation: The information available does not provide specific details on the birth circumstances and family ba...\n",
      "  Sources: N/A\n",
      "\n",
      "Processing (265/330): Xu Yue (ID: Q12159141), born 160 in China\n"
     ]
    },
    {
     "name": "stderr",
     "output_type": "stream",
     "text": [
      " 80%|████████  | 265/330 [23:57<05:20,  4.93s/it]"
     ]
    },
    {
     "name": "stdout",
     "output_type": "stream",
     "text": [
      "  Result: None\n",
      "  Explanation: The birth circumstances and family background of Xu Yue, born around 160 in what is now China, are n...\n",
      "  Sources: Existing historical records and scholarly works on Xu Yue primarily focus on his later life and achi...\n",
      "\n",
      "Processing (266/330): Yong Rong (ID: Q110176636), born 1743 in China\n"
     ]
    },
    {
     "name": "stderr",
     "output_type": "stream",
     "text": [
      " 81%|████████  | 266/330 [24:03<05:36,  5.27s/it]"
     ]
    },
    {
     "name": "stdout",
     "output_type": "stream",
     "text": [
      "  Result: Elite\n",
      "  Explanation: Yong Rong was born into the Qing Dynasty's royal family, specifically as the 23rd son of the Qianlon...\n",
      "  Sources: \"The Draft History of Qing\" (Qing Shi Gao), \"The Complete Genealogy of the Aisin Gioro Clan\" (Aisin ...\n",
      "\n",
      "Processing (267/330): Sun Zhiwei (ID: Q10945563), born 1631 in China\n"
     ]
    },
    {
     "name": "stderr",
     "output_type": "stream",
     "text": [
      " 81%|████████  | 267/330 [24:08<05:23,  5.14s/it]"
     ]
    },
    {
     "name": "stdout",
     "output_type": "stream",
     "text": [
      "  Result: None\n",
      "  Explanation: There is insufficient information available regarding the birth circumstances and family background ...\n",
      "  Sources: Without more specific information about the individual in question, it is not possible to provide re...\n",
      "\n",
      "Processing (268/330): Nicolas Fiva (ID: Q118467), born 1609 in China\n"
     ]
    },
    {
     "name": "stderr",
     "output_type": "stream",
     "text": [
      " 81%|████████  | 268/330 [24:12<04:49,  4.67s/it]"
     ]
    },
    {
     "name": "stdout",
     "output_type": "stream",
     "text": [
      "  Result: None\n",
      "  Explanation: Unfortunately, there is insufficient information available regarding the birth circumstances and fam...\n",
      "  Sources: N/A\n",
      "\n",
      "Processing (269/330): Pei Xiu (ID: Q706887), born 224 in China\n"
     ]
    },
    {
     "name": "stderr",
     "output_type": "stream",
     "text": [
      " 82%|████████▏ | 269/330 [24:16<04:36,  4.53s/it]"
     ]
    },
    {
     "name": "stdout",
     "output_type": "stream",
     "text": [
      "  Result: Elite\n",
      "  Explanation: Pei Xiu was born into a family of high social standing in the Eastern Han dynasty. His father, Pei G...\n",
      "  Sources: \"Book of Jin\" (Jin Shu), a historical text that covers the history of the Jin dynasty and its predec...\n",
      "\n",
      "Processing (270/330): Sun  Caifu (ID: Q45617803), born 1825 in China\n"
     ]
    },
    {
     "name": "stderr",
     "output_type": "stream",
     "text": [
      " 82%|████████▏ | 270/330 [24:20<04:18,  4.30s/it]"
     ]
    },
    {
     "name": "stdout",
     "output_type": "stream",
     "text": [
      "  Result: None\n",
      "  Explanation: Unfortunately, there is insufficient information available regarding the birth circumstances and fam...\n",
      "  Sources: Comprehensive search of historical databases and scholarly references.\n",
      "\n",
      "Processing (271/330): Zu Gengzhi (ID: Q1292375), born 480 in China\n"
     ]
    },
    {
     "name": "stderr",
     "output_type": "stream",
     "text": [
      " 82%|████████▏ | 271/330 [24:26<04:48,  4.89s/it]"
     ]
    },
    {
     "name": "stdout",
     "output_type": "stream",
     "text": [
      "  Result: Elite\n",
      "  Explanation: Zu Gengzhi was born into a family of high social standing. His father, Zu Chongzhi, was a prominent ...\n",
      "  Sources: \"Zu Gengzhi.\" Complete Dictionary of Scientific Biography. . Encyclopedia.com. (March 31, 2021). htt...\n",
      "\n",
      "Processing (272/330): Bai Juyi (ID: Q313324), born 772 in China\n"
     ]
    },
    {
     "name": "stderr",
     "output_type": "stream",
     "text": [
      " 82%|████████▏ | 272/330 [24:30<04:34,  4.74s/it]"
     ]
    },
    {
     "name": "stdout",
     "output_type": "stream",
     "text": [
      "  Result: Middle Class\n",
      "  Explanation: Bai Juyi was born into a family of moderate means, which would place them in the middle class accord...\n",
      "  Sources: \"Bai Juyi\" in Encyclopedia Britannica; \"Bai Juyi\" in The Columbia Encyclopedia, 6th ed.; \"Bai Juyi\" ...\n",
      "\n",
      "Processing (273/330): Ye Mengde (ID: Q8050756), born 1077 in China\n"
     ]
    },
    {
     "name": "stderr",
     "output_type": "stream",
     "text": [
      " 83%|████████▎ | 273/330 [24:36<04:51,  5.11s/it]"
     ]
    },
    {
     "name": "stdout",
     "output_type": "stream",
     "text": [
      "  Result: Elite\n",
      "  Explanation: Ye Mengde was born into a family of high social standing. His father, Ye Tinggui, was a high-ranking...\n",
      "  Sources: \"The Poems of Ye Mengde\" (translated by Richard John Lynn), \"The Chinese Literati on Painting: Su Sh...\n",
      "\n",
      "Processing (274/330): sangs rgyas, pha Dam pa (ID: Q2084684), born 1100 in China\n"
     ]
    },
    {
     "name": "stderr",
     "output_type": "stream",
     "text": [
      " 83%|████████▎ | 274/330 [24:41<04:43,  5.06s/it]"
     ]
    },
    {
     "name": "stdout",
     "output_type": "stream",
     "text": [
      "  Result: None\n",
      "  Explanation: Pha Dam pa Sangs rgyas, also known as Dampa Sangye, was a renowned figure in Tibetan Buddhism, speci...\n",
      "  Sources: The Blue Annals, a historical survey of Tibetan Buddhism written by Gö Lotsawa Zhönnu Pel, could pot...\n",
      "\n",
      "Processing (275/330): He Shaoji (ID: Q10886374), born 1799 in China\n"
     ]
    },
    {
     "name": "stderr",
     "output_type": "stream",
     "text": [
      " 83%|████████▎ | 275/330 [24:47<04:57,  5.42s/it]"
     ]
    },
    {
     "name": "stdout",
     "output_type": "stream",
     "text": [
      "  Result: Middle Class\n",
      "  Explanation: He Shaoji was born into a family of scholars in Guangdong, China. His father, He Zhen, was a juren, ...\n",
      "  Sources: \"He Shaoji and the Chinese Literati Painting Tradition\" by Richard Vinograd, \"The Scholar-Gentry Cla...\n",
      "\n",
      "Processing (276/330): Zhu Yun (ID: Q11094574), born 1729 in China\n"
     ]
    },
    {
     "name": "stderr",
     "output_type": "stream",
     "text": [
      " 84%|████████▎ | 276/330 [24:54<05:17,  5.88s/it]"
     ]
    },
    {
     "name": "stdout",
     "output_type": "stream",
     "text": [
      "  Result: Elite\n",
      "  Explanation: Zhu Yun was born into a family of the literati class, which was the ruling class in China during the...\n",
      "  Sources: \"The Cambridge History of China: Volume 9, The Ch'ing Dynasty to 1800, Part 2\" by Willard J. Peterso...\n",
      "\n",
      "Processing (277/330): Chen Li (ID: Q11658289), born 1810 in China\n"
     ]
    },
    {
     "name": "stderr",
     "output_type": "stream",
     "text": [
      " 84%|████████▍ | 277/330 [24:58<04:40,  5.28s/it]"
     ]
    },
    {
     "name": "stdout",
     "output_type": "stream",
     "text": [
      "  Result: None\n",
      "  Explanation: Without specific historical records or sources mentioning Chen Li born around 1810 in China, it is i...\n",
      "  Sources: Potential sources that could provide this information include family genealogical records, local his...\n",
      "\n",
      "Processing (278/330): Dou Wei (ID: Q1079643), born 550 in China\n"
     ]
    },
    {
     "name": "stderr",
     "output_type": "stream",
     "text": [
      " 84%|████████▍ | 278/330 [25:03<04:34,  5.27s/it]"
     ]
    },
    {
     "name": "stdout",
     "output_type": "stream",
     "text": [
      "  Result: Elite\n",
      "  Explanation: Dou Wei was born into a family of high social standing. His father, Dou Tai, was a high-ranking offi...\n",
      "  Sources: \"Book of Zhou,\" a historical text that covers the history of the Northern Zhou dynasty, including th...\n",
      "\n",
      "Processing (279/330): Luo Lun (ID: Q15936820), born 1431 in China\n"
     ]
    },
    {
     "name": "stderr",
     "output_type": "stream",
     "text": [
      " 85%|████████▍ | 279/330 [25:09<04:39,  5.47s/it]"
     ]
    },
    {
     "name": "stdout",
     "output_type": "stream",
     "text": [
      "  Result: None\n",
      "  Explanation: Luo Lun, also known as Luo Zhenyu, was a prominent figure in Chinese history, particularly known for...\n",
      "  Sources: Potential sources that could provide this information include Chinese historical texts, genealogical...\n",
      "\n",
      "Processing (280/330): Wu Ping (ID: Q10919020), born 1595 in China\n"
     ]
    },
    {
     "name": "stderr",
     "output_type": "stream",
     "text": [
      " 85%|████████▍ | 280/330 [25:14<04:19,  5.19s/it]"
     ]
    },
    {
     "name": "stdout",
     "output_type": "stream",
     "text": [
      "  Result: None\n",
      "  Explanation: The information regarding Wu Ping's birth circumstances and family background is not readily availab...\n",
      "  Sources: Potential sources that could provide this information include Ming Dynasty records, local historical...\n",
      "\n",
      "Processing (281/330): Wang Bao (ID: Q2119204), born -100 in China\n"
     ]
    },
    {
     "name": "stderr",
     "output_type": "stream",
     "text": [
      " 85%|████████▌ | 281/330 [25:20<04:31,  5.54s/it]"
     ]
    },
    {
     "name": "stdout",
     "output_type": "stream",
     "text": [
      "  Result: Middle Class\n",
      "  Explanation: Wang Bao was born in the late Western Han Dynasty, around 80 BC, in the region of today's Jiangsu Pr...\n",
      "  Sources: \"The Book of Han\", \"The Book of Later Han\", and various scholarly articles on the social structure o...\n",
      "\n",
      "Processing (282/330): Huang You (ID: Q10567264), born 1150 in China\n"
     ]
    },
    {
     "name": "stderr",
     "output_type": "stream",
     "text": [
      " 85%|████████▌ | 282/330 [25:26<04:31,  5.67s/it]"
     ]
    },
    {
     "name": "stdout",
     "output_type": "stream",
     "text": [
      "  Result: None\n",
      "  Explanation: The information regarding Huang You's birth circumstances and family background is not readily avail...\n",
      "  Sources: The primary sources that could potentially provide this information would be local records or family...\n",
      "\n",
      "Processing (283/330): Emperor Renzong of Song (ID: Q7477), born 1010 in China\n"
     ]
    },
    {
     "name": "stderr",
     "output_type": "stream",
     "text": [
      " 86%|████████▌ | 283/330 [25:30<04:04,  5.19s/it]"
     ]
    },
    {
     "name": "stdout",
     "output_type": "stream",
     "text": [
      "  Result: Elite\n",
      "  Explanation: Emperor Renzong of Song, born Zhao Zhen, was born into the ruling Song Dynasty of China. His father ...\n",
      "  Sources: \"Song Shi\" (History of Song), a historical text compiled during the Yuan Dynasty, provides detailed ...\n",
      "\n",
      "Processing (284/330): Shen Qinhan (ID: Q11138853), born 1775 in China\n"
     ]
    },
    {
     "name": "stderr",
     "output_type": "stream",
     "text": [
      " 86%|████████▌ | 284/330 [25:35<03:52,  5.05s/it]"
     ]
    },
    {
     "name": "stdout",
     "output_type": "stream",
     "text": [
      "  Result: Middle Class\n",
      "  Explanation: Shen Qinhan was born into a family of scholars, which suggests a middle-class background according t...\n",
      "  Sources: \"The World of a Chinese Scholar: Shen Qinhan and His Milieu in the Late Eighteenth Century\" by Susan...\n",
      "\n",
      "Processing (285/330): Zhang Cang (ID: Q11067613), born -252 in China\n"
     ]
    },
    {
     "name": "stderr",
     "output_type": "stream",
     "text": [
      " 86%|████████▋ | 285/330 [25:41<03:54,  5.21s/it]"
     ]
    },
    {
     "name": "stdout",
     "output_type": "stream",
     "text": [
      "  Result: Elite\n",
      "  Explanation: Zhang Cang was born into a noble family in the state of Han during the Warring States period of anci...\n",
      "  Sources: \"Records of the Grand Historian\" by Sima Qian, \"The Cambridge History of Ancient China\" by Michael L...\n",
      "\n",
      "Processing (286/330): Liu Guandao (ID: Q10900422), born 1258 in China\n"
     ]
    },
    {
     "name": "stderr",
     "output_type": "stream",
     "text": [
      " 87%|████████▋ | 286/330 [25:45<03:35,  4.90s/it]"
     ]
    },
    {
     "name": "stdout",
     "output_type": "stream",
     "text": [
      "  Result: None\n",
      "  Explanation: Liu Guandao was a prominent figure in Chinese history, known for his role as a painter in the Yuan D...\n",
      "  Sources: Existing historical records and scholarly references on Liu Guandao primarily focus on his contribut...\n",
      "\n",
      "Processing (287/330): Sheng Jiang (ID: Q11134121), born 1721 in China\n"
     ]
    },
    {
     "name": "stderr",
     "output_type": "stream",
     "text": [
      " 87%|████████▋ | 287/330 [25:50<03:34,  4.99s/it]"
     ]
    },
    {
     "name": "stdout",
     "output_type": "stream",
     "text": [
      "  Result: None\n",
      "  Explanation: Unfortunately, there is not enough specific information available about Sheng Jiang's birth circumst...\n",
      "  Sources: General knowledge of historical record-keeping in 18th century China. Further research would require...\n",
      "\n",
      "Processing (288/330): Peng Dingqiu (ID: Q11069763), born 1645 in China\n"
     ]
    },
    {
     "name": "stderr",
     "output_type": "stream",
     "text": [
      " 87%|████████▋ | 288/330 [25:56<03:40,  5.24s/it]"
     ]
    },
    {
     "name": "stdout",
     "output_type": "stream",
     "text": [
      "  Result: Middle Class\n",
      "  Explanation: Peng Dingqiu was born into a family of scholars in the late Ming and early Qing dynasties. His fathe...\n",
      "  Sources: \"The Cambridge History of China: Volume 9, The Ch'ing Dynasty to 1800, Part 2\" by Willard J. Peterso...\n",
      "\n",
      "Processing (289/330): Yan Yu (ID: Q8048192), born 1191 in China\n"
     ]
    },
    {
     "name": "stderr",
     "output_type": "stream",
     "text": [
      " 88%|████████▊ | 289/330 [26:01<03:35,  5.26s/it]"
     ]
    },
    {
     "name": "stdout",
     "output_type": "stream",
     "text": [
      "  Result: None\n",
      "  Explanation: The historical records and primary sources from the late 1100s in China are not comprehensive and of...\n",
      "  Sources: The primary sources that could potentially provide this information would be local administrative re...\n",
      "\n",
      "Processing (290/330): Qu Yuan (ID: Q313330), born -342 in China\n"
     ]
    },
    {
     "name": "stderr",
     "output_type": "stream",
     "text": [
      " 88%|████████▊ | 290/330 [26:05<03:18,  4.97s/it]"
     ]
    },
    {
     "name": "stdout",
     "output_type": "stream",
     "text": [
      "  Result: Elite\n",
      "  Explanation: Qu Yuan was born into a high-ranking aristocratic family in the ancient state of Chu during the Warr...\n",
      "  Sources: \"The Songs of Chu: An Anthology of Ancient Chinese Poetry by Qu Yuan and Others\", translated by Davi...\n",
      "\n",
      "Processing (291/330): Ju Chao (ID: Q3425272), born 1811 in China\n"
     ]
    },
    {
     "name": "stderr",
     "output_type": "stream",
     "text": [
      " 88%|████████▊ | 291/330 [26:10<03:14,  4.98s/it]"
     ]
    },
    {
     "name": "stdout",
     "output_type": "stream",
     "text": [
      "  Result: Middle Class\n",
      "  Explanation: Ju Chao, also known as Ju Lian, was born into a family of painters in Panyu, Guangdong Province, Chi...\n",
      "  Sources: \"Ju Chao and Ju Lian: Two Cantonese Masters of the Lingnan School of Painting\" by Yeewan Koon, \"The ...\n",
      "\n",
      "Processing (292/330): Ban Chao (ID: Q366132), born 32 in China\n"
     ]
    },
    {
     "name": "stderr",
     "output_type": "stream",
     "text": [
      " 88%|████████▊ | 292/330 [26:17<03:23,  5.35s/it]"
     ]
    },
    {
     "name": "stdout",
     "output_type": "stream",
     "text": [
      "  Result: Elite\n",
      "  Explanation: Ban Chao was born into a family of high social standing. His father, Ban Biao, was a prominent histo...\n",
      "  Sources: \"Book of the Later Han\", a Chinese court document and history compiled by Fan Ye in the 5th century,...\n",
      "\n",
      "Processing (293/330): Sixiao Zheng (ID: Q10557609), born 1241 in China\n"
     ]
    },
    {
     "name": "stderr",
     "output_type": "stream",
     "text": [
      " 89%|████████▉ | 293/330 [26:23<03:30,  5.69s/it]"
     ]
    },
    {
     "name": "stdout",
     "output_type": "stream",
     "text": [
      "  Result: None\n",
      "  Explanation: Sixiao Zheng, also known as Zheng Sixiao, was a notable figure in Chinese history, particularly know...\n",
      "  Sources: The primary sources that could potentially provide this information include ancient Chinese texts an...\n",
      "\n",
      "Processing (294/330): Guo Shangxian (ID: Q16076087), born 1785 in China\n"
     ]
    },
    {
     "name": "stderr",
     "output_type": "stream",
     "text": [
      " 89%|████████▉ | 294/330 [26:27<03:07,  5.21s/it]"
     ]
    },
    {
     "name": "stdout",
     "output_type": "stream",
     "text": [
      "  Result: None\n",
      "  Explanation: The information about Guo Shangxian's birth circumstances and family background is scarce and not we...\n",
      "  Sources: The main source of information about Guo Shangxian is likely to be Chinese historical records and ar...\n",
      "\n",
      "Processing (295/330): Sun Peilan (ID: Q45571548), born 1826 in China\n"
     ]
    },
    {
     "name": "stderr",
     "output_type": "stream",
     "text": [
      " 89%|████████▉ | 295/330 [26:31<02:51,  4.90s/it]"
     ]
    },
    {
     "name": "stdout",
     "output_type": "stream",
     "text": [
      "  Result: None\n",
      "  Explanation: The information about Sun Peilan's birth circumstances and family background is not readily availabl...\n",
      "  Sources: There are no known primary sources or scholarly references that provide specific information about S...\n",
      "\n",
      "Processing (296/330): Liang Peilan (ID: Q11113680), born 1629 in China\n"
     ]
    },
    {
     "name": "stderr",
     "output_type": "stream",
     "text": [
      " 90%|████████▉ | 296/330 [26:37<02:52,  5.08s/it]"
     ]
    },
    {
     "name": "stdout",
     "output_type": "stream",
     "text": [
      "  Result: Middle Class\n",
      "  Explanation: Liang Peilan was born into a family of scholars, which was a respected occupation in China during th...\n",
      "  Sources: \"Liang Peilan and Her Family in the Late Ming and Early Qing\" by Zhang Hong, Journal of Chinese Wome...\n",
      "\n",
      "Processing (297/330): Shen Cai (ID: Q45544546), born 1736 in China\n"
     ]
    },
    {
     "name": "stderr",
     "output_type": "stream",
     "text": [
      " 90%|█████████ | 297/330 [26:40<02:30,  4.57s/it]"
     ]
    },
    {
     "name": "stdout",
     "output_type": "stream",
     "text": [
      "  Result: None\n",
      "  Explanation: The information available does not provide sufficient details about Shen Cai's birth circumstances a...\n",
      "  Sources: Potential sources that could provide this information include historical records from the Qing Dynas...\n",
      "\n",
      "Processing (298/330): Wang Yi (ID: Q10417558), born 1433 in China\n"
     ]
    },
    {
     "name": "stderr",
     "output_type": "stream",
     "text": [
      " 90%|█████████ | 298/330 [26:44<02:16,  4.27s/it]"
     ]
    },
    {
     "name": "stdout",
     "output_type": "stream",
     "text": [
      "  Result: None\n",
      "  Explanation: Wang Yi is a common name in China, and without additional context or specific details, it's challeng...\n",
      "  Sources: General knowledge of Chinese history and the frequency of the name Wang Yi. Further research would r...\n",
      "\n",
      "Processing (299/330): Wei Xiaqing (ID: Q45450974), born 743 in China\n"
     ]
    },
    {
     "name": "stderr",
     "output_type": "stream",
     "text": [
      " 91%|█████████ | 299/330 [26:48<02:12,  4.27s/it]"
     ]
    },
    {
     "name": "stdout",
     "output_type": "stream",
     "text": [
      "  Result: Elite\n",
      "  Explanation: Wei Xiaqing was born into a family of high-ranking officials, which places him in the elite class of...\n",
      "  Sources: The Old Book of Tang and the New Book of Tang, both of which are official historical texts of the Ta...\n",
      "\n",
      "Processing (300/330): Lu Guangzu (ID: Q16076626), born 1521 in China\n"
     ]
    },
    {
     "name": "stderr",
     "output_type": "stream",
     "text": [
      " 91%|█████████ | 300/330 [26:51<01:58,  3.96s/it]"
     ]
    },
    {
     "name": "stdout",
     "output_type": "stream",
     "text": [
      "  Result: None\n",
      "  Explanation: Unfortunately, there is insufficient information available to determine the social class of Lu Guang...\n",
      "  Sources: N/A\n",
      "\n",
      "Processing (301/330): Wang E (ID: Q330206), born 1465 in China\n"
     ]
    },
    {
     "name": "stderr",
     "output_type": "stream",
     "text": [
      " 91%|█████████ | 301/330 [26:59<02:25,  5.01s/it]"
     ]
    },
    {
     "name": "stdout",
     "output_type": "stream",
     "text": [
      "  Result: Middle Class\n",
      "  Explanation: Wang E was born into a family of literati, a social group that was part of the middle class in China...\n",
      "  Sources: \"The Inner Quarters: Marriage and the Lives of Chinese Women in the Sung Period\" by Patricia Buckley...\n",
      "\n",
      "Processing (302/330): Shen Quan (ID: Q2351090), born 1682 in China\n"
     ]
    },
    {
     "name": "stderr",
     "output_type": "stream",
     "text": [
      " 92%|█████████▏| 302/330 [27:05<02:29,  5.33s/it]"
     ]
    },
    {
     "name": "stdout",
     "output_type": "stream",
     "text": [
      "  Result: Middle Class\n",
      "  Explanation: Shen Quan, also known as Nanpin, was born in Deqing, Zhejiang province, China, around 1682. His fami...\n",
      "  Sources: \"Shen Quan (1682–1760)\" by Richard Vinograd in Oxford Art Online; \"The Flowering of the Renaissance\"...\n",
      "\n",
      "Processing (303/330): Heling Zhu (ID: Q11094966), born 1606 in China\n"
     ]
    },
    {
     "name": "stderr",
     "output_type": "stream",
     "text": [
      " 92%|█████████▏| 303/330 [27:11<02:31,  5.63s/it]"
     ]
    },
    {
     "name": "stdout",
     "output_type": "stream",
     "text": [
      "  Result: None\n",
      "  Explanation: The information about Heling Zhu's birth circumstances and family background is not readily availabl...\n",
      "  Sources: Potential sources that could provide this information include Chinese historical texts, genealogical...\n",
      "\n",
      "Processing (304/330): Fang Weize (ID: Q45444060), born 1585 in China\n"
     ]
    },
    {
     "name": "stderr",
     "output_type": "stream",
     "text": [
      " 92%|█████████▏| 304/330 [27:16<02:22,  5.48s/it]"
     ]
    },
    {
     "name": "stdout",
     "output_type": "stream",
     "text": [
      "  Result: None\n",
      "  Explanation: There is insufficient historical data available to determine the birth circumstances and family back...\n",
      "  Sources: The primary sources that could potentially provide this information include Ming Dynasty court recor...\n",
      "\n",
      "Processing (305/330): Sun Yingpei (ID: Q45511316), born 1821 in China\n"
     ]
    },
    {
     "name": "stderr",
     "output_type": "stream",
     "text": [
      " 92%|█████████▏| 305/330 [27:21<02:08,  5.13s/it]"
     ]
    },
    {
     "name": "stdout",
     "output_type": "stream",
     "text": [
      "  Result: None\n",
      "  Explanation: Unfortunately, there is insufficient information available on Sun Yingpei's early life and family ba...\n",
      "  Sources: Comprehensive search of available historical databases and scholarly articles on 19th century China.\n",
      "\n",
      "Processing (306/330): Gö Lotsawa Zhönnu-pel (ID: Q947874), born 1392 in China\n"
     ]
    },
    {
     "name": "stderr",
     "output_type": "stream",
     "text": [
      " 93%|█████████▎| 306/330 [27:26<02:05,  5.24s/it]"
     ]
    },
    {
     "name": "stdout",
     "output_type": "stream",
     "text": [
      "  Result: Elite\n",
      "  Explanation: Gö Lotsawa Zhönnu-pel, also known as Gölo Zhönnu-pel, was born into a family of the Nyo clan, a prom...\n",
      "  Sources: \"Blue Annals\" by Gö Lotsawa Zhönnu-pel himself, where he mentions his family background and early li...\n",
      "\n",
      "Processing (307/330): Feng Zizhen (ID: Q45414781), born 1257 in China\n"
     ]
    },
    {
     "name": "stderr",
     "output_type": "stream",
     "text": [
      " 93%|█████████▎| 307/330 [27:32<02:07,  5.52s/it]"
     ]
    },
    {
     "name": "stdout",
     "output_type": "stream",
     "text": [
      "  Result: Middle Class\n",
      "  Explanation: Feng Zizhen was born in Suzhou, Jiangsu province, during the late Song Dynasty. His father, Feng Gon...\n",
      "  Sources: \"Feng Zizhen,\" Encyclopedia of China, 3rd ed.; \"The Song Dynasty in China,\" Asia for Educators, Colu...\n",
      "\n",
      "Processing (308/330): Wang Su (ID: Q28190233), born 1794 in China\n"
     ]
    },
    {
     "name": "stderr",
     "output_type": "stream",
     "text": [
      " 93%|█████████▎| 308/330 [27:37<01:55,  5.27s/it]"
     ]
    },
    {
     "name": "stdout",
     "output_type": "stream",
     "text": [
      "  Result: None\n",
      "  Explanation: There is a lack of specific historical records or primary sources that provide detailed information ...\n",
      "  Sources: While there are numerous historical texts and scholarly references that provide general information ...\n",
      "\n",
      "Processing (309/330): Liu Changqing (ID: Q717981), born 726 in China\n"
     ]
    },
    {
     "name": "stderr",
     "output_type": "stream",
     "text": [
      " 94%|█████████▎| 309/330 [27:40<01:39,  4.74s/it]"
     ]
    },
    {
     "name": "stdout",
     "output_type": "stream",
     "text": [
      "  Result: None\n",
      "  Explanation: The specific details about the early life and family background of Liu Changqing, a poet during the ...\n",
      "  Sources: Existing historical records and scholarly works on Liu Changqing and the Tang Dynasty. Further resea...\n",
      "\n",
      "Processing (310/330): Zhang Youxiang (ID: Q45496808), born 1628 in China\n"
     ]
    },
    {
     "name": "stderr",
     "output_type": "stream",
     "text": [
      " 94%|█████████▍| 310/330 [27:46<01:38,  4.95s/it]"
     ]
    },
    {
     "name": "stdout",
     "output_type": "stream",
     "text": [
      "  Result: None\n",
      "  Explanation: Unfortunately, there is insufficient information available regarding the birth circumstances and fam...\n",
      "  Sources: The primary sources that could potentially provide this information would be local records or family...\n",
      "\n",
      "Processing (311/330): Xiang Xiu (ID: Q1147782), born 250 in China\n"
     ]
    },
    {
     "name": "stderr",
     "output_type": "stream",
     "text": [
      " 94%|█████████▍| 311/330 [27:51<01:35,  5.00s/it]"
     ]
    },
    {
     "name": "stdout",
     "output_type": "stream",
     "text": [
      "  Result: None\n",
      "  Explanation: The birth circumstances and family background of Xiang Xiu, also known as Xiang Ji, are not well-doc...\n",
      "  Sources: The primary sources that mention Xiang Xiu, such as the \"Book of Jin\" (Jin Shu) and \"History of the ...\n",
      "\n",
      "Processing (312/330): Zhu Changfang (ID: Q4515500), born 1608 in China\n"
     ]
    },
    {
     "name": "stderr",
     "output_type": "stream",
     "text": [
      " 95%|█████████▍| 312/330 [27:55<01:24,  4.72s/it]"
     ]
    },
    {
     "name": "stdout",
     "output_type": "stream",
     "text": [
      "  Result: Elite\n",
      "  Explanation: Zhu Changfang was born into the Ming Dynasty's royal family, making him a member of the ruling class...\n",
      "  Sources: \"The Cambridge History of China: Volume 7, The Ming Dynasty, 1368-1644, Part 1\" by Denis Twitchett, ...\n",
      "\n",
      "Processing (313/330): Long Qianjie (ID: Q45465901), born 1654 in China\n"
     ]
    },
    {
     "name": "stderr",
     "output_type": "stream",
     "text": [
      " 95%|█████████▍| 313/330 [27:59<01:17,  4.53s/it]"
     ]
    },
    {
     "name": "stdout",
     "output_type": "stream",
     "text": [
      "  Result: None\n",
      "  Explanation: The information available does not provide sufficient details about Long Qianjie's birth circumstanc...\n",
      "  Sources: The primary sources for this period would be historical texts and records from the Qing Dynasty, as ...\n",
      "\n",
      "Processing (314/330): Huang Zhirou (ID: Q45501877), born 1628 in China\n"
     ]
    },
    {
     "name": "stderr",
     "output_type": "stream",
     "text": [
      " 95%|█████████▌| 314/330 [28:04<01:15,  4.71s/it]"
     ]
    },
    {
     "name": "stdout",
     "output_type": "stream",
     "text": [
      "  Result: None\n",
      "  Explanation: Huang Zhirou, also known as Huang Taiji, was a significant figure in Chinese history, but the specif...\n",
      "  Sources: Extensive search in historical databases, ancient texts, and scholarly references did not yield spec...\n",
      "\n",
      "Processing (315/330): Wu Lingyi (ID: Q45582191), born 1593 in China\n"
     ]
    },
    {
     "name": "stderr",
     "output_type": "stream",
     "text": [
      " 95%|█████████▌| 315/330 [28:08<01:06,  4.45s/it]"
     ]
    },
    {
     "name": "stdout",
     "output_type": "stream",
     "text": [
      "  Result: None\n",
      "  Explanation: Wu Lingyi, born around 1593 in what is now China, is not a well-documented historical figure. There ...\n",
      "  Sources: A thorough search of historical databases, ancient texts, and scholarly references did not yield spe...\n",
      "\n",
      "Processing (316/330): Guo  Zhenshun (ID: Q45470611), born 1312 in China\n"
     ]
    },
    {
     "name": "stderr",
     "output_type": "stream",
     "text": [
      " 96%|█████████▌| 316/330 [28:11<00:54,  3.91s/it]"
     ]
    },
    {
     "name": "stdout",
     "output_type": "stream",
     "text": [
      "  Result: None\n",
      "  Explanation: Unfortunately, there is not enough information available to confidently classify the birth and child...\n",
      "  Sources: N/A\n",
      "\n",
      "Processing (317/330): Shi Shenyi (ID: Q10916161), born 1661 in China\n"
     ]
    },
    {
     "name": "stderr",
     "output_type": "stream",
     "text": [
      " 96%|█████████▌| 317/330 [28:16<00:55,  4.26s/it]"
     ]
    },
    {
     "name": "stdout",
     "output_type": "stream",
     "text": [
      "  Result: None\n",
      "  Explanation: The birth and childhood social class of Shi Shenyi, born around 1661 in what is now China, cannot be...\n",
      "  Sources: While there are no specific sources available that provide detailed information about Shi Shenyi's b...\n",
      "\n",
      "Processing (318/330): Chen Huajiang (ID: Q45457952), born 1630 in China\n"
     ]
    },
    {
     "name": "stderr",
     "output_type": "stream",
     "text": [
      " 96%|█████████▋| 318/330 [28:21<00:55,  4.66s/it]"
     ]
    },
    {
     "name": "stdout",
     "output_type": "stream",
     "text": [
      "  Result: None\n",
      "  Explanation: Chen Huajiang, born around 1630, is not a well-documented historical figure. There is not enough inf...\n",
      "  Sources: There are no known primary sources or scholarly references that provide information about Chen Huaji...\n",
      "\n",
      "Processing (319/330): Li Shuzheng (ID: Q45491066), born 1319 in China\n"
     ]
    },
    {
     "name": "stderr",
     "output_type": "stream",
     "text": [
      " 97%|█████████▋| 319/330 [28:28<00:57,  5.27s/it]"
     ]
    },
    {
     "name": "stdout",
     "output_type": "stream",
     "text": [
      "  Result: None\n",
      "  Explanation: Li Shuzheng, born around 1319, is not a well-documented historical figure, especially regarding his ...\n",
      "  Sources: The primary sources that could potentially provide this information include local historical records...\n",
      "\n",
      "Processing (320/330): Wang Suwen (ID: Q45705100), born 1796 in China\n"
     ]
    },
    {
     "name": "stderr",
     "output_type": "stream",
     "text": [
      " 97%|█████████▋| 320/330 [28:34<00:55,  5.50s/it]"
     ]
    },
    {
     "name": "stdout",
     "output_type": "stream",
     "text": [
      "  Result: None\n",
      "  Explanation: Unfortunately, there is not enough information available to determine the social class of Wang Suwen...\n",
      "  Sources: The primary sources that could potentially provide this information would be historical records from...\n",
      "\n",
      "Processing (321/330): Liu Hong (ID: Q10897757), born 130 in China\n"
     ]
    },
    {
     "name": "stderr",
     "output_type": "stream",
     "text": [
      " 97%|█████████▋| 321/330 [28:39<00:48,  5.36s/it]"
     ]
    },
    {
     "name": "stdout",
     "output_type": "stream",
     "text": [
      "  Result: Elite\n",
      "  Explanation: Liu Hong, also known as Liu Xiang, was born into a noble family in the Eastern Han Dynasty. His fath...\n",
      "  Sources: The primary source for information about Liu Hong's early life is the \"Book of the Later Han,\" a his...\n",
      "\n",
      "Processing (322/330): Zhang Xuedian (ID: Q45473373), born 1649 in China\n"
     ]
    },
    {
     "name": "stderr",
     "output_type": "stream",
     "text": [
      " 98%|█████████▊| 322/330 [28:43<00:38,  4.78s/it]"
     ]
    },
    {
     "name": "stdout",
     "output_type": "stream",
     "text": [
      "  Result: None\n",
      "  Explanation: Unfortunately, there is insufficient information available to determine the social class of Zhang Xu...\n",
      "  Sources: N/A\n",
      "\n",
      "Processing (323/330): Sun Yuanhua (ID: Q10945451), born 1582 in China\n"
     ]
    },
    {
     "name": "stderr",
     "output_type": "stream",
     "text": [
      " 98%|█████████▊| 323/330 [28:50<00:38,  5.46s/it]"
     ]
    },
    {
     "name": "stdout",
     "output_type": "stream",
     "text": [
      "  Result: Middle Class\n",
      "  Explanation: Sun Yuanhua was born into a scholarly family in Shandong, China, around 1582. His father, Sun Xingya...\n",
      "  Sources: \"Sun Yuanhua\" in \"Dictionary of Ming Biography, 1368-1644\". L. Carrington Goodrich, Chaoying Fang (1...\n",
      "\n",
      "Processing (324/330): Zu Xiaosun (ID: Q8074892), born 501 in China\n"
     ]
    },
    {
     "name": "stderr",
     "output_type": "stream",
     "text": [
      " 98%|█████████▊| 324/330 [28:54<00:31,  5.23s/it]"
     ]
    },
    {
     "name": "stdout",
     "output_type": "stream",
     "text": [
      "  Result: Elite\n",
      "  Explanation: Zu Xiaosun was born into a prominent and wealthy family in the Southern Qi dynasty. His father, Zu T...\n",
      "  Sources: \"Book of Qi\" (a historical text from the Tang Dynasty that records the history of the Southern Qi Dy...\n",
      "\n",
      "Processing (325/330): Bayan of the Baarin (ID: Q846112), born 1236 in China\n"
     ]
    },
    {
     "name": "stderr",
     "output_type": "stream",
     "text": [
      " 98%|█████████▊| 325/330 [29:01<00:28,  5.67s/it]"
     ]
    },
    {
     "name": "stdout",
     "output_type": "stream",
     "text": [
      "  Result: Elite\n",
      "  Explanation: Bayan of the Baarin was born into the Mongol aristocracy, which would place him in the elite class a...\n",
      "  Sources: The Secret History of the Mongols, a 13th-century Mongol text; \"The Mongol Empire: Its Rise and Lega...\n",
      "\n",
      "Processing (326/330): Wu Tingzhen (ID: Q10918808), born 1785 in China\n"
     ]
    },
    {
     "name": "stderr",
     "output_type": "stream",
     "text": [
      " 99%|█████████▉| 326/330 [29:04<00:19,  4.94s/it]"
     ]
    },
    {
     "name": "stdout",
     "output_type": "stream",
     "text": [
      "  Result: None\n",
      "  Explanation: Wu Tingzhen, born around 1785 in China, is not a well-documented historical figure. There is insuffi...\n",
      "  Sources: No specific historical sources, ancient texts, or scholarly references available. Further research m...\n",
      "\n",
      "Processing (327/330): Wang Mu (ID: Q16260501), born 1646 in China\n"
     ]
    },
    {
     "name": "stderr",
     "output_type": "stream",
     "text": [
      " 99%|█████████▉| 327/330 [29:09<00:14,  4.71s/it]"
     ]
    },
    {
     "name": "stdout",
     "output_type": "stream",
     "text": [
      "  Result: None\n",
      "  Explanation: Wang Mu is a common name in Chinese history and without specific details about the individual's life...\n",
      "  Sources: Potential sources that could provide this information include local gazetteers, family genealogies, ...\n",
      "\n",
      "Processing (328/330): Zuo Xixuan (ID: Q45474931), born 1829 in China\n"
     ]
    },
    {
     "name": "stderr",
     "output_type": "stream",
     "text": [
      " 99%|█████████▉| 328/330 [29:16<00:10,  5.43s/it]"
     ]
    },
    {
     "name": "stdout",
     "output_type": "stream",
     "text": [
      "  Result: None\n",
      "  Explanation: Unfortunately, there is not enough information available to accurately classify the birth and childh...\n",
      "  Sources: A thorough search of historical databases, scholarly articles, and primary sources did not yield any...\n",
      "\n",
      "Processing (329/330): Zai Yang (ID: Q11102161), born 1271 in China\n"
     ]
    },
    {
     "name": "stderr",
     "output_type": "stream",
     "text": [
      "100%|█████████▉| 329/330 [29:19<00:04,  4.94s/it]"
     ]
    },
    {
     "name": "stdout",
     "output_type": "stream",
     "text": [
      "  Result: None\n",
      "  Explanation: There is insufficient information available regarding the birth circumstances and family background ...\n",
      "  Sources: Existing historical records and scholarly texts on the Yuan Dynasty and Song Dynasty. Further resear...\n",
      "\n",
      "Processing (330/330): Wang Meng (ID: Q700903), born 1308 in China\n"
     ]
    },
    {
     "name": "stderr",
     "output_type": "stream",
     "text": [
      "100%|██████████| 330/330 [29:24<00:00,  5.35s/it]"
     ]
    },
    {
     "name": "stdout",
     "output_type": "stream",
     "text": [
      "  Result: Elite\n",
      "  Explanation: Wang Meng was born into a family of high social standing in China. His family was part of the elite ...\n",
      "  Sources: \"Wang Meng (painter)\" in Encyclopædia Britannica, \"Wang Meng\" in China Online Museum, \"Wang Meng\" in...\n"
     ]
    },
    {
     "name": "stderr",
     "output_type": "stream",
     "text": [
      "\n"
     ]
    }
   ],
   "source": [
    "df_final = df_final.reset_index(drop=True)\n",
    "set(df_final['region_name'])\n",
    "\n",
    "\n",
    "keep = ['Chinese world',\n",
    " 'Italy',\n",
    " 'Japan',\n",
    " 'United Kingdom']\n",
    "\n",
    "df_final = df_final[df_final['region_name'].isin(keep)]\n",
    "# df_final.to_csv('data/social_origins/final_sample_to_annotate.csv')\n",
    "df_final = pd.read_csv('data/social_origins/final_sample_to_annotate.csv')\n",
    "\n",
    "df_api = df_final.copy()\n",
    "df_api = df_api[5670:]\n",
    "\n",
    "batch_results = process_authors(df_api)"
   ]
  },
  {
   "cell_type": "code",
   "execution_count": 11,
   "metadata": {},
   "outputs": [],
   "source": [
    "# Convert results to dataframe\n",
    "batch_df_results = pd.DataFrame(batch_results).T.reset_index()\n",
    "batch_df_results = batch_df_results.rename(columns={'index': 'individual_wikidata_id'})"
   ]
  },
  {
   "cell_type": "code",
   "execution_count": 12,
   "metadata": {},
   "outputs": [
    {
     "data": {
      "text/html": [
       "<div>\n",
       "<style scoped>\n",
       "    .dataframe tbody tr th:only-of-type {\n",
       "        vertical-align: middle;\n",
       "    }\n",
       "\n",
       "    .dataframe tbody tr th {\n",
       "        vertical-align: top;\n",
       "    }\n",
       "\n",
       "    .dataframe thead th {\n",
       "        text-align: right;\n",
       "    }\n",
       "</style>\n",
       "<table border=\"1\" class=\"dataframe\">\n",
       "  <thead>\n",
       "    <tr style=\"text-align: right;\">\n",
       "      <th></th>\n",
       "      <th>individual_wikidata_id</th>\n",
       "      <th>individual_name</th>\n",
       "      <th>individual_wikidata_id</th>\n",
       "      <th>birth_year</th>\n",
       "      <th>country</th>\n",
       "      <th>classification</th>\n",
       "      <th>explanation</th>\n",
       "      <th>sources</th>\n",
       "    </tr>\n",
       "  </thead>\n",
       "  <tbody>\n",
       "    <tr>\n",
       "      <th>0</th>\n",
       "      <td>Q5369940</td>\n",
       "      <td>Kong Yingda</td>\n",
       "      <td>Q5369940</td>\n",
       "      <td>574</td>\n",
       "      <td>China</td>\n",
       "      <td>Elite</td>\n",
       "      <td>Kong Yingda was born into a family of the Conf...</td>\n",
       "      <td>\"The Cambridge History of China: Volume 1, The...</td>\n",
       "    </tr>\n",
       "    <tr>\n",
       "      <th>1</th>\n",
       "      <td>Q15914766</td>\n",
       "      <td>Jiang Lian</td>\n",
       "      <td>Q15914766</td>\n",
       "      <td>1675</td>\n",
       "      <td>China</td>\n",
       "      <td>None</td>\n",
       "      <td>The information about Jiang Lian's birth circu...</td>\n",
       "      <td>Primary sources from the Qing Dynasty period, ...</td>\n",
       "    </tr>\n",
       "    <tr>\n",
       "      <th>2</th>\n",
       "      <td>Q45594089</td>\n",
       "      <td>Hua Shu</td>\n",
       "      <td>Q45594089</td>\n",
       "      <td>1589</td>\n",
       "      <td>China</td>\n",
       "      <td>None</td>\n",
       "      <td>The information available does not provide suf...</td>\n",
       "      <td>Potential sources that could provide this info...</td>\n",
       "    </tr>\n",
       "    <tr>\n",
       "      <th>3</th>\n",
       "      <td>Q25712558</td>\n",
       "      <td>Fang Wanyi</td>\n",
       "      <td>Q25712558</td>\n",
       "      <td>1732</td>\n",
       "      <td>China</td>\n",
       "      <td>None</td>\n",
       "      <td>Unfortunately, there is insufficient informati...</td>\n",
       "      <td>A thorough search of available historical data...</td>\n",
       "    </tr>\n",
       "    <tr>\n",
       "      <th>4</th>\n",
       "      <td>Q5291163</td>\n",
       "      <td>Dominique Parrenin</td>\n",
       "      <td>Q5291163</td>\n",
       "      <td>1665</td>\n",
       "      <td>China</td>\n",
       "      <td>None</td>\n",
       "      <td>Dominique Parrenin was a French Jesuit mission...</td>\n",
       "      <td>The main sources of information about Parrenin...</td>\n",
       "    </tr>\n",
       "    <tr>\n",
       "      <th>...</th>\n",
       "      <td>...</td>\n",
       "      <td>...</td>\n",
       "      <td>...</td>\n",
       "      <td>...</td>\n",
       "      <td>...</td>\n",
       "      <td>...</td>\n",
       "      <td>...</td>\n",
       "      <td>...</td>\n",
       "    </tr>\n",
       "    <tr>\n",
       "      <th>325</th>\n",
       "      <td>Q10918808</td>\n",
       "      <td>Wu Tingzhen</td>\n",
       "      <td>Q10918808</td>\n",
       "      <td>1785</td>\n",
       "      <td>China</td>\n",
       "      <td>None</td>\n",
       "      <td>Wu Tingzhen, born around 1785 in China, is not...</td>\n",
       "      <td>No specific historical sources, ancient texts,...</td>\n",
       "    </tr>\n",
       "    <tr>\n",
       "      <th>326</th>\n",
       "      <td>Q16260501</td>\n",
       "      <td>Wang Mu</td>\n",
       "      <td>Q16260501</td>\n",
       "      <td>1646</td>\n",
       "      <td>China</td>\n",
       "      <td>None</td>\n",
       "      <td>Wang Mu is a common name in Chinese history an...</td>\n",
       "      <td>Potential sources that could provide this info...</td>\n",
       "    </tr>\n",
       "    <tr>\n",
       "      <th>327</th>\n",
       "      <td>Q45474931</td>\n",
       "      <td>Zuo Xixuan</td>\n",
       "      <td>Q45474931</td>\n",
       "      <td>1829</td>\n",
       "      <td>China</td>\n",
       "      <td>None</td>\n",
       "      <td>Unfortunately, there is not enough information...</td>\n",
       "      <td>A thorough search of historical databases, sch...</td>\n",
       "    </tr>\n",
       "    <tr>\n",
       "      <th>328</th>\n",
       "      <td>Q11102161</td>\n",
       "      <td>Zai Yang</td>\n",
       "      <td>Q11102161</td>\n",
       "      <td>1271</td>\n",
       "      <td>China</td>\n",
       "      <td>None</td>\n",
       "      <td>There is insufficient information available re...</td>\n",
       "      <td>Existing historical records and scholarly text...</td>\n",
       "    </tr>\n",
       "    <tr>\n",
       "      <th>329</th>\n",
       "      <td>Q700903</td>\n",
       "      <td>Wang Meng</td>\n",
       "      <td>Q700903</td>\n",
       "      <td>1308</td>\n",
       "      <td>China</td>\n",
       "      <td>Elite</td>\n",
       "      <td>Wang Meng was born into a family of high socia...</td>\n",
       "      <td>\"Wang Meng (painter)\" in Encyclopædia Britanni...</td>\n",
       "    </tr>\n",
       "  </tbody>\n",
       "</table>\n",
       "<p>330 rows × 8 columns</p>\n",
       "</div>"
      ],
      "text/plain": [
       "    individual_wikidata_id     individual_name individual_wikidata_id  \\\n",
       "0                 Q5369940         Kong Yingda               Q5369940   \n",
       "1                Q15914766          Jiang Lian              Q15914766   \n",
       "2                Q45594089             Hua Shu              Q45594089   \n",
       "3                Q25712558          Fang Wanyi              Q25712558   \n",
       "4                 Q5291163  Dominique Parrenin               Q5291163   \n",
       "..                     ...                 ...                    ...   \n",
       "325              Q10918808         Wu Tingzhen              Q10918808   \n",
       "326              Q16260501             Wang Mu              Q16260501   \n",
       "327              Q45474931          Zuo Xixuan              Q45474931   \n",
       "328              Q11102161            Zai Yang              Q11102161   \n",
       "329                Q700903           Wang Meng                Q700903   \n",
       "\n",
       "    birth_year country classification  \\\n",
       "0          574   China          Elite   \n",
       "1         1675   China           None   \n",
       "2         1589   China           None   \n",
       "3         1732   China           None   \n",
       "4         1665   China           None   \n",
       "..         ...     ...            ...   \n",
       "325       1785   China           None   \n",
       "326       1646   China           None   \n",
       "327       1829   China           None   \n",
       "328       1271   China           None   \n",
       "329       1308   China          Elite   \n",
       "\n",
       "                                           explanation  \\\n",
       "0    Kong Yingda was born into a family of the Conf...   \n",
       "1    The information about Jiang Lian's birth circu...   \n",
       "2    The information available does not provide suf...   \n",
       "3    Unfortunately, there is insufficient informati...   \n",
       "4    Dominique Parrenin was a French Jesuit mission...   \n",
       "..                                                 ...   \n",
       "325  Wu Tingzhen, born around 1785 in China, is not...   \n",
       "326  Wang Mu is a common name in Chinese history an...   \n",
       "327  Unfortunately, there is not enough information...   \n",
       "328  There is insufficient information available re...   \n",
       "329  Wang Meng was born into a family of high socia...   \n",
       "\n",
       "                                               sources  \n",
       "0    \"The Cambridge History of China: Volume 1, The...  \n",
       "1    Primary sources from the Qing Dynasty period, ...  \n",
       "2    Potential sources that could provide this info...  \n",
       "3    A thorough search of available historical data...  \n",
       "4    The main sources of information about Parrenin...  \n",
       "..                                                 ...  \n",
       "325  No specific historical sources, ancient texts,...  \n",
       "326  Potential sources that could provide this info...  \n",
       "327  A thorough search of historical databases, sch...  \n",
       "328  Existing historical records and scholarly text...  \n",
       "329  \"Wang Meng (painter)\" in Encyclopædia Britanni...  \n",
       "\n",
       "[330 rows x 8 columns]"
      ]
     },
     "execution_count": 12,
     "metadata": {},
     "output_type": "execute_result"
    }
   ],
   "source": [
    "batch_df_results"
   ]
  },
  {
   "cell_type": "code",
   "execution_count": 13,
   "metadata": {},
   "outputs": [],
   "source": [
    "\n",
    "\n",
    "# Save the batch results to a CSV file\n",
    "batch_save_path = f\"data/social_origins/sample_regions/final_badly_extracted.csv\"\n",
    "batch_df_results.to_csv(batch_save_path)"
   ]
  }
 ],
 "metadata": {
  "kernelspec": {
   "display_name": ".venv",
   "language": "python",
   "name": "python3"
  },
  "language_info": {
   "codemirror_mode": {
    "name": "ipython",
    "version": 3
   },
   "file_extension": ".py",
   "mimetype": "text/x-python",
   "name": "python",
   "nbconvert_exporter": "python",
   "pygments_lexer": "ipython3",
   "version": "3.11.7"
  }
 },
 "nbformat": 4,
 "nbformat_minor": 2
}
