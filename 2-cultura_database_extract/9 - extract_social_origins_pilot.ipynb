{
 "cells": [
  {
   "cell_type": "markdown",
   "metadata": {},
   "source": [
    "- donner à GPT plus d'infos (pour donner plus d'infos), donner la date de naissance, pays d'origine\n",
    "- le faire sur le top des individus\n",
    "- monter que la proportion de gens modeste augmente quand l'indice culturel augmente\n",
    "- sampler 200 personnes, puis piocher dedans pour avoir une répartiiton égale de chaque classe (puis envoyer à Nicolas)\n",
    "- la propbablité d^'etre de classe sociale défavorisé augmente"
   ]
  },
  {
   "cell_type": "code",
   "execution_count": 60,
   "metadata": {},
   "outputs": [],
   "source": [
    "import openai\n",
    "import time\n",
    "import pandas as pd\n",
    "import os\n",
    "import re\n",
    "from typing import List, Dict, Optional, Tuple\n",
    "from tqdm import tqdm\n",
    "\n",
    "\n",
    "def get_social_origin(author_name: str) -> Tuple[Optional[str], str, str]:\n",
    "    \"\"\"\n",
    "    Query OpenAI API to determine the social origin of a cultural producer.\n",
    "    Returns a tuple of (classification, explanation, sources) where classification is\n",
    "    'Elite', 'Middle Class', 'Subsistence', or None if not found.\n",
    "    \"\"\"\n",
    "    try:\n",
    "        # Create the prompt for the API with request for sources\n",
    "        prompt = f\"\"\"I'm researching the BIRTH CIRCUMSTANCES and FAMILY BACKGROUND of {author_name}. Please focus ONLY on their social origin and family circumstances BEFORE they became famous.\n",
    "\n",
    "Classify their BIRTH and CHILDHOOD social class according to this specific typology:\n",
    "\n",
    "1. Elite (wealthy aristocrats, ruling class, nobility)\n",
    "2. Middle Class (merchants, artisans, skilled craftspeople, landowners, teachers)\n",
    "3. Subsistence (people with minimal resources, peasants, laborers, slaves)\n",
    "\n",
    "DO NOT consider their later accomplishments or fame. ONLY consider:\n",
    "- Parents' occupations and social standing\n",
    "- Family wealth at the time of birth and childhood\n",
    "- Access to education BECAUSE of family background (not merit)\n",
    "- Early life housing and living conditions\n",
    "- Inherited privileges or disadvantages\n",
    "\n",
    "Format your answer as:\n",
    "Classification: [Elite/Middle Class/Subsistence]\n",
    "Explanation: [Evidence specifically about family origins, NOT later achievements]\n",
    "Sources: [List historical sources, ancient texts, or scholarly references]\n",
    "\n",
    "If you cannot determine with reasonable confidence, respond with:\n",
    "Classification: Unknown\n",
    "Explanation: [Why it's unknown]\n",
    "Sources: [Any potential sources that could provide this information]\"\"\"\n",
    "        \n",
    "        # Call the OpenAI API\n",
    "        response = openai.chat.completions.create(\n",
    "            model=\"gpt-4\",  # or another appropriate model\n",
    "            messages=[\n",
    "                {\"role\": \"system\", \"content\": \"You are a historical researcher specializing in social class origins. Focus exclusively on birth circumstances and family backgrounds, NOT on later accomplishments or acquired status. Provide evidence from primary sources whenever possible.\"},\n",
    "                {\"role\": \"user\", \"content\": prompt}\n",
    "            ],\n",
    "            temperature=0.2,  # Low temperature for more consistent answers\n",
    "            max_tokens=300    # Increased to allow for explanation and sources\n",
    "        )\n",
    "        \n",
    "        # Extract the response text\n",
    "        answer = response.choices[0].message.content.strip()\n",
    "        \n",
    "        # Process the answer to extract classification, explanation, and sources\n",
    "        classification = None\n",
    "        explanation = \"No explanation provided\"\n",
    "        sources = \"No sources provided\"\n",
    "        \n",
    "        # Try to parse the structured response\n",
    "        try:\n",
    "            # First check if there's a Sources section\n",
    "            if \"Sources:\" in answer:\n",
    "                parts = answer.split(\"Sources:\", 1)\n",
    "                main_text = parts[0].strip()\n",
    "                sources = parts[1].strip()\n",
    "                \n",
    "                # Now parse the main text for Classification and Explanation\n",
    "                if \"Explanation:\" in main_text:\n",
    "                    sections = main_text.split(\"Explanation:\", 1)\n",
    "                    class_line = sections[0].strip()\n",
    "                    explanation = sections[1].strip()\n",
    "                    \n",
    "                    if \"Classification:\" in class_line:\n",
    "                        classification_text = class_line.split(\"Classification:\")[1].strip()\n",
    "                        if \"Elite\" in classification_text:\n",
    "                            classification = \"Elite\"\n",
    "                        elif \"Middle Class\" in classification_text:\n",
    "                            classification = \"Middle Class\"\n",
    "                        elif \"Subsistence\" in classification_text:\n",
    "                            classification = \"Subsistence\"\n",
    "            else:\n",
    "                # If no Sources section, just parse for Classification and Explanation\n",
    "                if \"Explanation:\" in answer:\n",
    "                    parts = answer.split(\"Explanation:\", 1)\n",
    "                    class_line = parts[0].strip()\n",
    "                    explanation = parts[1].strip()\n",
    "                    \n",
    "                    if \"Classification:\" in class_line:\n",
    "                        classification_text = class_line.split(\"Classification:\")[1].strip()\n",
    "                        if \"Elite\" in classification_text:\n",
    "                            classification = \"Elite\"\n",
    "                        elif \"Middle Class\" in classification_text:\n",
    "                            classification = \"Middle Class\"\n",
    "                        elif \"Subsistence\" in classification_text:\n",
    "                            classification = \"Subsistence\"\n",
    "                \n",
    "                # Look for sources in the explanation\n",
    "                if \"source\" in explanation.lower() or \"according to\" in explanation.lower() or \"mentioned in\" in explanation.lower():\n",
    "                    # Try to extract likely source statements\n",
    "                    source_patterns = [\n",
    "                        r\"according to [^.]*\\.\",\n",
    "                        r\"mentioned (?:by|in) [^.]*\\.\",\n",
    "                        r\"sources? (?:such as|like|including) [^.]*\\.\",\n",
    "                        r\"(?:historical|ancient) (?:records|texts|documents) [^.]*\\.\"\n",
    "                    ]\n",
    "                    potential_sources = []\n",
    "                    for pattern in source_patterns:\n",
    "                        matches = re.findall(pattern, explanation, re.IGNORECASE)\n",
    "                        potential_sources.extend(matches)\n",
    "                    \n",
    "                    if potential_sources:\n",
    "                        sources = \" \".join(potential_sources)\n",
    "                    \n",
    "            # Fallback to simpler parsing if structured parsing failed\n",
    "            if classification is None:\n",
    "                if \"Elite\" in answer:\n",
    "                    classification = \"Elite\"\n",
    "                elif \"Middle Class\" in answer:\n",
    "                    classification = \"Middle Class\"\n",
    "                elif \"Subsistence\" in answer:\n",
    "                    classification = \"Subsistence\"\n",
    "        \n",
    "        except Exception as parsing_error:\n",
    "            print(f\"Error parsing response for {author_name}: {parsing_error}\")\n",
    "            \n",
    "            # Simple classification extraction as fallback\n",
    "            if \"Elite\" in answer:\n",
    "                classification = \"Elite\"\n",
    "            elif \"Middle Class\" in answer:\n",
    "                classification = \"Middle Class\"\n",
    "            elif \"Subsistence\" in answer:\n",
    "                classification = \"Subsistence\"\n",
    "            \n",
    "            # Just use the full answer as explanation if parsing failed\n",
    "            explanation = answer\n",
    "        \n",
    "        return classification, explanation, sources\n",
    "            \n",
    "    except Exception as e:\n",
    "        print(f\"Error processing {author_name}: {e}\")\n",
    "        return None, f\"Error: {str(e)}\", \"No sources due to error\"\n",
    "\n",
    "def process_authors(authors: List[str]) -> Dict[str, Dict[str, str]]:\n",
    "    \"\"\"Process a list of authors and return their social origins with explanations and sources.\"\"\"\n",
    "    results = {}\n",
    "    \n",
    "    for i, author in tqdm(enumerate(authors), total=len(authors)):\n",
    "        print(f\"\\nProcessing ({i+1}/{len(authors)}): {author}\")\n",
    "        classification, explanation, sources = get_social_origin(author)\n",
    "        \n",
    "        results[author] = {\n",
    "            \"classification\": classification,\n",
    "            \"explanation\": explanation,\n",
    "            \"sources\": sources\n",
    "        }\n",
    "        \n",
    "        # Print immediate result\n",
    "        print(f\"  Result: {classification if classification else 'None'}\")\n",
    "        print(f\"  Explanation: {explanation}\")\n",
    "        print(f\"  Sources: {sources}\")\n",
    "        \n",
    "        # Add a delay to avoid rate limiting\n",
    "        # time.sleep(1)\n",
    "    \n",
    "    return results\n"
   ]
  },
  {
   "cell_type": "code",
   "execution_count": 72,
   "metadata": {},
   "outputs": [],
   "source": [
    "import openai\n",
    "import time\n",
    "import pandas as pd\n",
    "import os\n",
    "import re\n",
    "from typing import List, Dict, Optional, Tuple\n",
    "from tqdm import tqdm\n",
    "\n",
    "\n",
    "def get_social_origin(author_name: str, birth_year: int, country: str) -> Tuple[Optional[str], str, str]:\n",
    "    \"\"\"\n",
    "    Query OpenAI API to determine the social origin of a cultural producer.\n",
    "    Returns a tuple of (classification, explanation, sources) where classification is\n",
    "    'Elite', 'Middle Class', 'Subsistence', or None if not found.\n",
    "    \n",
    "    Parameters:\n",
    "    - author_name: The name of the author to research\n",
    "    - birth_year: The approximate year of birth \n",
    "    - country: The modern equivalent country in which the individual was likely born\n",
    "    \"\"\"\n",
    "    try:\n",
    "        # Create the prompt for the API with request for sources and include birth year and country\n",
    "        prompt = f\"\"\"I'm researching the BIRTH CIRCUMSTANCES and FAMILY BACKGROUND of {author_name}, born around {birth_year} in what is now {country}. Please focus ONLY on their social origin and family circumstances BEFORE they became famous.\n",
    "\n",
    "Classify their BIRTH and CHILDHOOD social class according to this specific typology:\n",
    "\n",
    "1. Elite (wealthy aristocrats, ruling class, nobility)\n",
    "2. Middle Class (merchants, artisans, skilled craftspeople, landowners, teachers)\n",
    "3. Subsistence (people with minimal resources, peasants, laborers, slaves)\n",
    "\n",
    "Consider the social structure and economic context of {country} in the late {birth_year//100}00s.\n",
    "\n",
    "DO NOT consider their later accomplishments or fame. ONLY consider:\n",
    "- Parents' occupations and social standing\n",
    "- Family wealth at the time of birth and childhood\n",
    "- Access to education BECAUSE of family background (not merit)\n",
    "- Early life housing and living conditions\n",
    "- Inherited privileges or disadvantages\n",
    "\n",
    "Format your answer as:\n",
    "Classification: [Elite/Middle Class/Subsistence]\n",
    "Explanation: [Evidence specifically about family origins, NOT later achievements]\n",
    "Sources: [List historical sources, ancient texts, or scholarly references]\n",
    "\n",
    "If you cannot determine with reasonable confidence, respond with:\n",
    "Classification: Unknown\n",
    "Explanation: [Why it's unknown]\n",
    "Sources: [Any potential sources that could provide this information]\"\"\"\n",
    "        \n",
    "        # Call the OpenAI API\n",
    "        response = openai.chat.completions.create(\n",
    "            model=\"gpt-4\",  # or another appropriate model\n",
    "            messages=[\n",
    "                {\"role\": \"system\", \"content\": \"You are a historical researcher specializing in social class origins. Focus exclusively on birth circumstances and family backgrounds, NOT on later accomplishments or acquired status. Provide evidence from primary sources whenever possible.\"},\n",
    "                {\"role\": \"user\", \"content\": prompt}\n",
    "            ],\n",
    "            temperature=0.2,  # Low temperature for more consistent answers\n",
    "            max_tokens=300    # Increased to allow for explanation and sources\n",
    "        )\n",
    "        \n",
    "        # Extract the response text\n",
    "        answer = response.choices[0].message.content.strip()\n",
    "        \n",
    "        # Process the answer to extract classification, explanation, and sources\n",
    "        classification = None\n",
    "        explanation = \"No explanation provided\"\n",
    "        sources = \"No sources provided\"\n",
    "        \n",
    "        # Try to parse the structured response\n",
    "        try:\n",
    "            # First check if there's a Sources section\n",
    "            if \"Sources:\" in answer:\n",
    "                parts = answer.split(\"Sources:\", 1)\n",
    "                main_text = parts[0].strip()\n",
    "                sources = parts[1].strip()\n",
    "                \n",
    "                # Now parse the main text for Classification and Explanation\n",
    "                if \"Explanation:\" in main_text:\n",
    "                    sections = main_text.split(\"Explanation:\", 1)\n",
    "                    class_line = sections[0].strip()\n",
    "                    explanation = sections[1].strip()\n",
    "                    \n",
    "                    if \"Classification:\" in class_line:\n",
    "                        classification_text = class_line.split(\"Classification:\")[1].strip()\n",
    "                        if \"Elite\" in classification_text:\n",
    "                            classification = \"Elite\"\n",
    "                        elif \"Middle Class\" in classification_text:\n",
    "                            classification = \"Middle Class\"\n",
    "                        elif \"Subsistence\" in classification_text:\n",
    "                            classification = \"Subsistence\"\n",
    "            else:\n",
    "                # If no Sources section, just parse for Classification and Explanation\n",
    "                if \"Explanation:\" in answer:\n",
    "                    parts = answer.split(\"Explanation:\", 1)\n",
    "                    class_line = parts[0].strip()\n",
    "                    explanation = parts[1].strip()\n",
    "                    \n",
    "                    if \"Classification:\" in class_line:\n",
    "                        classification_text = class_line.split(\"Classification:\")[1].strip()\n",
    "                        if \"Elite\" in classification_text:\n",
    "                            classification = \"Elite\"\n",
    "                        elif \"Middle Class\" in classification_text:\n",
    "                            classification = \"Middle Class\"\n",
    "                        elif \"Subsistence\" in classification_text:\n",
    "                            classification = \"Subsistence\"\n",
    "                \n",
    "                # Look for sources in the explanation\n",
    "                if \"source\" in explanation.lower() or \"according to\" in explanation.lower() or \"mentioned in\" in explanation.lower():\n",
    "                    # Try to extract likely source statements\n",
    "                    source_patterns = [\n",
    "                        r\"according to [^.]*\\.\",\n",
    "                        r\"mentioned (?:by|in) [^.]*\\.\",\n",
    "                        r\"sources? (?:such as|like|including) [^.]*\\.\",\n",
    "                        r\"(?:historical|ancient) (?:records|texts|documents) [^.]*\\.\"\n",
    "                    ]\n",
    "                    potential_sources = []\n",
    "                    for pattern in source_patterns:\n",
    "                        matches = re.findall(pattern, explanation, re.IGNORECASE)\n",
    "                        potential_sources.extend(matches)\n",
    "                    \n",
    "                    if potential_sources:\n",
    "                        sources = \" \".join(potential_sources)\n",
    "                    \n",
    "            # Fallback to simpler parsing if structured parsing failed\n",
    "            if classification is None:\n",
    "                if \"Elite\" in answer:\n",
    "                    classification = \"Elite\"\n",
    "                elif \"Middle Class\" in answer:\n",
    "                    classification = \"Middle Class\"\n",
    "                elif \"Subsistence\" in answer:\n",
    "                    classification = \"Subsistence\"\n",
    "        \n",
    "        except Exception as parsing_error:\n",
    "            print(f\"Error parsing response for {author_name}: {parsing_error}\")\n",
    "            \n",
    "            # Simple classification extraction as fallback\n",
    "            if \"Elite\" in answer:\n",
    "                classification = \"Elite\"\n",
    "            elif \"Middle Class\" in answer:\n",
    "                classification = \"Middle Class\"\n",
    "            elif \"Subsistence\" in answer:\n",
    "                classification = \"Subsistence\"\n",
    "            \n",
    "            # Just use the full answer as explanation if parsing failed\n",
    "            explanation = answer\n",
    "        \n",
    "        return classification, explanation, sources\n",
    "            \n",
    "    except Exception as e:\n",
    "        print(f\"Error processing {author_name}: {e}\")\n",
    "        return None, f\"Error: {str(e)}\", \"No sources due to error\"\n",
    "\n",
    "\n",
    "def process_authors(author_data: pd.DataFrame) -> Dict[str, Dict[str, str]]:\n",
    "    \"\"\"\n",
    "    Process authors from a DataFrame and return their social origins with explanations and sources.\n",
    "    \n",
    "    Parameters:\n",
    "    - author_data: DataFrame containing columns 'individual_name', 'birthyear', 'country_name', \n",
    "                  and 'individual_wikidata_id'\n",
    "    \n",
    "    Returns:\n",
    "    - Dictionary with author names as keys, and dictionaries of classification, explanation, sources,\n",
    "      and metadata as values\n",
    "    \"\"\"\n",
    "    results = {}\n",
    "    \n",
    "    for i, row in tqdm(enumerate(author_data.itertuples()), total=len(author_data)):\n",
    "        try:\n",
    "            author = row.individual_name\n",
    "            birth_year = int(row.birthyear) if not pd.isna(row.birthyear) else None\n",
    "            country = row.country_name if not pd.isna(row.country_name) else \"unknown location\"\n",
    "            wikidata_id = row.individual_wikidata_id\n",
    "            \n",
    "            print(f\"\\nProcessing ({i+1}/{len(author_data)}): {author} (ID: {wikidata_id}), born {birth_year} in {country}\")\n",
    "            \n",
    "            # Skip if missing critical information\n",
    "            if birth_year is None:\n",
    "                print(f\"  Skipping {author} (ID: {wikidata_id}) - missing birth year\")\n",
    "                continue\n",
    "                \n",
    "            classification, explanation, sources = get_social_origin(author, birth_year, country)\n",
    "            \n",
    "            # Use Wikidata ID as the key for more reliable identification\n",
    "            results[wikidata_id] = {\n",
    "                \"individual_name\": author,\n",
    "                \"individual_wikidata_id\": wikidata_id,\n",
    "                \"birth_year\": birth_year,\n",
    "                \"country\": country,\n",
    "                \"classification\": classification,\n",
    "                \"explanation\": explanation,\n",
    "                \"sources\": sources\n",
    "            }\n",
    "            \n",
    "            # Print immediate result\n",
    "            print(f\"  Result: {classification if classification else 'None'}\")\n",
    "            print(f\"  Explanation: {explanation[:100]}...\" if len(explanation) > 100 else f\"  Explanation: {explanation}\")\n",
    "            print(f\"  Sources: {sources[:100]}...\" if len(sources) > 100 else f\"  Sources: {sources}\")\n",
    "            \n",
    "            # Add a delay to avoid rate limiting\n",
    "            # time.sleep(1)\n",
    "            \n",
    "        except Exception as e:\n",
    "            print(f\"Error processing row {i} ({getattr(row, 'individual_name', 'unknown')}): {e}\")\n",
    "            # Continue with the next author rather than stopping the entire process\n",
    "            continue\n",
    "    \n",
    "    return results"
   ]
  },
  {
   "cell_type": "code",
   "execution_count": 5,
   "metadata": {},
   "outputs": [],
   "source": [
<<<<<<< HEAD
    "import os\n",
=======
>>>>>>> 5adae16 (remove API key)
    "from dotenv import load_dotenv\n",
    "\n",
    "# Load environment variables from .env file\n",
    "load_dotenv()\n",
    "\n",
    "# Get API key from environment variables\n",
<<<<<<< HEAD
    "openai.api_key = os.environ.get(\"OPENAI_API_KEY\")\n",
    "\n"
=======
    "openai.api_key = os.environ.get(\"OPENAI_API_KEY\")"
>>>>>>> 5adae16 (remove API key)
   ]
  },
  {
   "cell_type": "code",
   "execution_count": null,
   "metadata": {},
   "outputs": [],
   "source": []
  },
  {
   "cell_type": "code",
   "execution_count": 73,
   "metadata": {},
   "outputs": [],
   "source": [
    "import os\n",
    "import sqlite3\n",
    "\n",
    "from dotenv import load_dotenv\n",
    "load_dotenv()\n",
    "\n",
    "\n",
    "DB_PATH = os.getenv(\"DB_PATH\")\n",
    "\n",
    "conn = sqlite3.connect(DB_PATH)\n",
    "pd.options.mode.chained_assignment = None\n",
    "\n",
    "only_country = False\n",
    "\n",
    "# Individuals Regions\n",
    "df_ind = pd.read_sql_query(\"SELECT * FROM individuals_main_information\", conn)\n",
    "df_ind = df_ind[['individual_wikidata_id', 'birthyear', 'country_name']]\n",
    "\n"
   ]
  },
  {
   "cell_type": "code",
   "execution_count": 127,
   "metadata": {},
   "outputs": [],
   "source": [
    "df = pd.read_csv('db_extract/df_individuals_score.csv', index_col=[0])\n",
    "data = df.sort_values('score', ascending=False)\n",
    "data = data[['individual_wikidata_id', 'individual_name', 'score', 'productive_year']].drop_duplicates()\n",
    "\n",
    "data = pd.merge(data, df_ind, on = 'individual_wikidata_id')\n",
    "\n",
    "data = data.reset_index(drop=True)\n",
    "data = data.head(3000)\n",
    "\n",
    "# Define historical periods based on productive_year\n",
    "data['period'] = pd.cut(\n",
    "    data['productive_year'],\n",
    "    bins=[-500, 500, 1500, 3000],  # Adjust these boundaries as needed\n",
    "    labels=['Antiquity', 'Middle Ages', 'Pre-Modern']\n",
    ")"
   ]
  },
  {
   "cell_type": "code",
   "execution_count": 130,
   "metadata": {},
   "outputs": [],
   "source": [
    "def create_diverse_sample(data, n_per_period=30):\n",
    "    \"\"\"\n",
    "    Create a sample of authors from each time period with exactly 1/3 from Europe,\n",
    "    1/3 from Middle East/North Africa, and 1/3 from Asia. If one non-European region\n",
    "    has insufficient data, compensate from the other non-European region.\n",
    "    \n",
    "    Parameters:\n",
    "    - data: DataFrame containing author information with period column\n",
    "    - n_per_period: Number of authors to sample from each time period\n",
    "    \n",
    "    Returns:\n",
    "    - DataFrame with the diverse sample\n",
    "    \"\"\"\n",
    "    # Get unique periods\n",
    "    periods = data['period'].unique()\n",
    "    \n",
    "    # Container for our samples\n",
    "    samples = []\n",
    "    \n",
    "    for period in periods:\n",
    "        period_data = data[data['period'] == period]\n",
    "        \n",
    "        # Get regions in this period (based on country_name)\n",
    "        def categorize_region(country):\n",
    "            if pd.isna(country):\n",
    "                return \"Unknown\"\n",
    "            \n",
    "            # European countries\n",
    "            european_countries = ['United Kingdom', 'Germany', 'France', 'Italy', 'Spain', \n",
    "                                 'Netherlands', 'Switzerland', 'Belgium', 'Austria', 'Greece',\n",
    "                                 'Sweden', 'Norway', 'Denmark', 'Finland', 'Portugal', 'Ireland',\n",
    "                                 'Poland', 'Russia', 'Czech Republic', 'Hungary', 'Romania']\n",
    "            \n",
    "            # Middle Eastern and North African countries\n",
    "            middle_eastern = ['Turkey', 'Iran', 'Iraq', 'Egypt', 'Saudi Arabia', 'Syria', \n",
    "                             'Lebanon', 'Jordan', 'Israel', 'Palestine', 'Yemen', 'Oman',\n",
    "                             'United Arab Emirates', 'Qatar', 'Kuwait', 'Bahrain',\n",
    "                             'Morocco', 'Algeria', 'Tunisia', 'Libya']\n",
    "            \n",
    "            # Asian countries\n",
    "            asian = ['China', 'Japan', 'India', 'Korea', 'Thailand', 'Vietnam', 'Indonesia',\n",
    "                    'Malaysia', 'Philippines', 'Singapore', 'Taiwan', 'Cambodia', 'Laos',\n",
    "                    'Myanmar', 'Nepal', 'Sri Lanka', 'Mongolia', 'Afghanistan', 'Pakistan']\n",
    "            \n",
    "            if country in european_countries:\n",
    "                return \"Europe\"\n",
    "            elif country in middle_eastern:\n",
    "                return \"Middle East/North Africa\"\n",
    "            elif country in asian:\n",
    "                return \"Asia\"\n",
    "            else:\n",
    "                return \"Other\"\n",
    "        \n",
    "        # Add a region category column\n",
    "        period_data['region_category'] = period_data['country_name'].apply(categorize_region)\n",
    "        \n",
    "        # Get counts by region\n",
    "        region_counts = period_data['region_category'].value_counts()\n",
    "\n",
    "        \n",
    "        # Target regions and samples per region (exactly 1/3 each)\n",
    "        target_regions = ['Europe', 'Middle East/North Africa', 'Asia']\n",
    "        samples_per_region = n_per_period // 3  # Should be 10 if n_per_period is 30\n",
    "        \n",
    "        # First, determine how many we can take from each region\n",
    "        available_from_region = {}\n",
    "        for region in target_regions:\n",
    "            available_from_region[region] = len(period_data[period_data['region_category'] == region])\n",
    "        \n",
    "    \n",
    "        \n",
    "        # Check if we have enough from Europe\n",
    "        europe_samples = min(samples_per_region, available_from_region['Europe'])\n",
    "        \n",
    "        # Calculate deficits for non-European regions\n",
    "        mena_deficit = max(0, samples_per_region - available_from_region['Middle East/North Africa'])\n",
    "        asia_deficit = max(0, samples_per_region - available_from_region['Asia'])\n",
    "        \n",
    "        # Determine how many to take from each non-European region\n",
    "        if mena_deficit > 0 and asia_deficit > 0:\n",
    "            # Both regions have deficits - take what's available\n",
    "            mena_samples = available_from_region['Middle East/North Africa']\n",
    "            asia_samples = available_from_region['Asia']\n",
    "            print(f\"Both MENA and Asia have deficits. Taking all available: MENA={mena_samples}, Asia={asia_samples}\")\n",
    "        elif mena_deficit > 0:\n",
    "            # MENA has deficit, compensate from Asia if possible\n",
    "            mena_samples = available_from_region['Middle East/North Africa']\n",
    "            # Take regular sample + as much of the deficit as possible from Asia\n",
    "            extra_from_asia = min(mena_deficit, available_from_region['Asia'] - samples_per_region)\n",
    "            asia_samples = samples_per_region + extra_from_asia\n",
    "            print(f\"MENA deficit: {mena_deficit}. Taking {extra_from_asia} extra from Asia.\")\n",
    "        elif asia_deficit > 0:\n",
    "            # Asia has deficit, compensate from MENA if possible\n",
    "            asia_samples = available_from_region['Asia']\n",
    "            # Take regular sample + as much of the deficit as possible from MENA\n",
    "            extra_from_mena = min(asia_deficit, available_from_region['Middle East/North Africa'] - samples_per_region)\n",
    "            mena_samples = samples_per_region + extra_from_mena\n",
    "            print(f\"Asia deficit: {asia_deficit}. Taking {extra_from_mena} extra from MENA.\")\n",
    "        else:\n",
    "            # No deficits\n",
    "            mena_samples = samples_per_region\n",
    "            asia_samples = samples_per_region\n",
    "        \n",
    "        print(f\"Final sample distribution - Europe: {europe_samples}, MENA: {mena_samples}, Asia: {asia_samples}\")\n",
    "        \n",
    "        # Sample from each region\n",
    "        period_sample = pd.DataFrame()\n",
    "        \n",
    "        # Europe\n",
    "        europe_data = period_data[period_data['region_category'] == 'Europe']\n",
    "        if europe_samples > 0:\n",
    "            europe_sample = europe_data.sample(n=europe_samples, random_state=42)\n",
    "            period_sample = pd.concat([period_sample, europe_sample])\n",
    "        \n",
    "        # Middle East/North Africa\n",
    "        mena_data = period_data[period_data['region_category'] == 'Middle East/North Africa']\n",
    "        if mena_samples > 0:\n",
    "            mena_sample = mena_data.sample(n=mena_samples, random_state=42)\n",
    "            period_sample = pd.concat([period_sample, mena_sample])\n",
    "        \n",
    "        # Asia\n",
    "        asia_data = period_data[period_data['region_category'] == 'Asia']\n",
    "        if asia_samples > 0:\n",
    "            asia_sample = asia_data.sample(n=asia_samples, random_state=42)\n",
    "            period_sample = pd.concat([period_sample, asia_sample])\n",
    "        \n",
    "        # Verify sample size for this period\n",
    "        print(f\"Sample size for {period}: {len(period_sample)}\")\n",
    "        \n",
    "        samples.append(period_sample)\n",
    "    \n",
    "    # Combine all samples\n",
    "    final_sample = pd.concat(samples)\n",
    "    \n",
    "    # Reset index\n",
    "    final_sample = final_sample.reset_index(drop=True)\n",
    "    \n",
    "    \n",
    "    return final_sample"
   ]
  },
  {
   "cell_type": "code",
   "execution_count": 137,
   "metadata": {},
   "outputs": [
    {
     "name": "stdout",
     "output_type": "stream",
     "text": [
      "MENA deficit: 4. Taking 4 extra from Asia.\n",
      "Final sample distribution - Europe: 10, MENA: 6, Asia: 14\n",
      "Sample size for Pre-Modern: 30\n",
      "Final sample distribution - Europe: 10, MENA: 10, Asia: 10\n",
      "Sample size for Middle Ages: 30\n",
      "Asia deficit: 8. Taking 8 extra from MENA.\n",
      "Final sample distribution - Europe: 10, MENA: 18, Asia: 2\n",
      "Sample size for Antiquity: 30\n",
      "Both MENA and Asia have deficits. Taking all available: MENA=0, Asia=0\n",
      "Final sample distribution - Europe: 0, MENA: 0, Asia: 0\n",
      "Sample size for nan: 0\n"
     ]
    }
   ],
   "source": [
    "\n",
    "\n",
    "balanced_sample = create_diverse_sample(data, n_per_period=30)\n",
    "\n",
    "#balanced_sample = balanced_sample[:2]\n",
    "\n",
    "# # Get count of each period\n",
    "# antiquity_count = len(data[data['period'] == 'Antiquity'])\n",
    "# middle_ages_count = len(data[data['period'] == 'Middle Ages'])\n",
    "# pre_modern_count = len(data[data['period'] == 'Pre-Modern'])\n",
    "\n"
   ]
  },
  {
   "cell_type": "code",
   "execution_count": 138,
   "metadata": {},
   "outputs": [
    {
     "name": "stderr",
     "output_type": "stream",
     "text": [
      "  0%|          | 0/90 [00:00<?, ?it/s]"
     ]
    },
    {
     "name": "stdout",
     "output_type": "stream",
     "text": [
      "\n",
      "Processing (1/90): Carl Friedrich Philipp von Martius (ID: Q77131), born 1794 in Germany\n"
     ]
    },
    {
     "name": "stderr",
     "output_type": "stream",
     "text": [
      "  1%|          | 1/90 [00:09<14:44,  9.94s/it]"
     ]
    },
    {
     "name": "stdout",
     "output_type": "stream",
     "text": [
      "  Result: Middle Class\n",
      "  Explanation: Carl Friedrich Philipp von Martius was born on April 17, 1794, in Erlangen, Bavaria, Germany. His fa...\n",
      "  Sources: \"Martius, Carl Friedrich Philipp von.\" Complete Dictionary of Scientific Biography. . Encyclopedia.c...\n",
      "\n",
      "Processing (2/90): Huldrych Zwingli (ID: Q123034), born 1484 in Switzerland\n"
     ]
    },
    {
     "name": "stderr",
     "output_type": "stream",
     "text": [
      "  2%|▏         | 2/90 [00:22<16:40, 11.37s/it]"
     ]
    },
    {
     "name": "stdout",
     "output_type": "stream",
     "text": [
      "  Result: Middle Class\n",
      "  Explanation: Huldrych Zwingli was born in Wildhaus, in the Swiss canton of St. Gallen, to a relatively prosperous...\n",
      "  Sources: \"Zwingli, Huldrych.\" Encyclopædia Britannica, Encyclopædia Britannica, Inc., 2020; \"Huldrych Zwingli...\n",
      "\n",
      "Processing (3/90): Louis Daguerre (ID: Q131405), born 1787 in France\n"
     ]
    },
    {
     "name": "stderr",
     "output_type": "stream",
     "text": [
      "  3%|▎         | 3/90 [00:29<13:45,  9.49s/it]"
     ]
    },
    {
     "name": "stdout",
     "output_type": "stream",
     "text": [
      "  Result: Middle Class\n",
      "  Explanation: Louis Daguerre was born on November 18, 1787, in Cormeilles-en-Parisis, France. His father, Claude D...\n",
      "  Sources: \"Louis Daguerre (1787–1851) and the Invention of Photography\". Department of Photographs. The Metrop...\n",
      "\n",
      "Processing (4/90): Arnold Houbraken (ID: Q514276), born 1660 in Netherlands\n"
     ]
    },
    {
     "name": "stderr",
     "output_type": "stream",
     "text": [
      "  4%|▍         | 4/90 [00:41<15:07, 10.55s/it]"
     ]
    },
    {
     "name": "stdout",
     "output_type": "stream",
     "text": [
      "  Result: Middle Class\n",
      "  Explanation: Arnold Houbraken was born in Dordrecht, Netherlands, in 1660. His father was a timber merchant, whic...\n",
      "  Sources: Arnold Houbraken's biography in the \"Nieuw Nederlandsch Biografisch Woordenboek\" (New Dutch Biograph...\n",
      "\n",
      "Processing (5/90): Heinrich Heine (ID: Q44403), born 1797 in France\n"
     ]
    },
    {
     "name": "stderr",
     "output_type": "stream",
     "text": [
      "  6%|▌         | 5/90 [00:52<15:11, 10.72s/it]"
     ]
    },
    {
     "name": "stdout",
     "output_type": "stream",
     "text": [
      "  Result: Middle Class\n",
      "  Explanation: Heinrich Heine was born into a Jewish family in Düsseldorf, Germany, which was under French rule at ...\n",
      "  Sources: \"Heinrich Heine: A Modern Biography\" by Jeffrey L. Sammons; \"Heinrich Heine: His Life and Works\" by ...\n",
      "\n",
      "Processing (6/90): William Etty (ID: Q766362), born 1787 in United Kingdom\n"
     ]
    },
    {
     "name": "stderr",
     "output_type": "stream",
     "text": [
      "  7%|▋         | 6/90 [01:05<16:01, 11.45s/it]"
     ]
    },
    {
     "name": "stdout",
     "output_type": "stream",
     "text": [
      "  Result: Middle Class\n",
      "  Explanation: William Etty was born on 10 March 1787 in York, England. His father, Matthew Etty, was a baker and m...\n",
      "  Sources: \"William Etty: Art and Controversy\" by Sarah Burnage, Mark Hallett, Laura Turner; \"William Etty: The...\n",
      "\n",
      "Processing (7/90): José-Maria de Heredia (ID: Q334970), born 1842 in France\n"
     ]
    },
    {
     "name": "stderr",
     "output_type": "stream",
     "text": [
      "  8%|▊         | 7/90 [01:13<14:18, 10.34s/it]"
     ]
    },
    {
     "name": "stdout",
     "output_type": "stream",
     "text": [
      "  Result: Elite\n",
      "  Explanation: José-Maria de Heredia was born into a wealthy and influential family of Spanish origin. His father, ...\n",
      "  Sources: \"José-Maria de Heredia (1842–1905): A Cuban Poet in the French Academy\" by Gustavo Pellón, \"José-Mar...\n",
      "\n",
      "Processing (8/90): Alessandro Stradella (ID: Q314765), born 1643 in Italy\n"
     ]
    },
    {
     "name": "stderr",
     "output_type": "stream",
     "text": [
      "  9%|▉         | 8/90 [01:26<15:10, 11.10s/it]"
     ]
    },
    {
     "name": "stdout",
     "output_type": "stream",
     "text": [
      "  Result: Elite\n",
      "  Explanation: Alessandro Stradella was born into a noble family in the region of Lombardy, Italy, around 1643. His...\n",
      "  Sources: \"Alessandro Stradella (1639-1682): A Thematic Catalogue of His Compositions\" by Carolyn Gianturco an...\n",
      "\n",
      "Processing (9/90): Sarah Bernhardt (ID: Q4605), born 1844 in France\n"
     ]
    },
    {
     "name": "stderr",
     "output_type": "stream",
     "text": [
      " 10%|█         | 9/90 [01:37<15:03, 11.16s/it]"
     ]
    },
    {
     "name": "stdout",
     "output_type": "stream",
     "text": [
      "  Result: Middle Class\n",
      "  Explanation: Sarah Bernhardt was born in Paris, France, around 1844 to a Dutch courtesan named Youle Bernard, als...\n",
      "  Sources: Gottlieb, Robert. \"Sarah: The Life of Sarah Bernhardt.\" Yale University Press, 2010. Skerrett, Josep...\n",
      "\n",
      "Processing (10/90): Jakob Böhme (ID: Q77017), born 1575 in Germany\n"
     ]
    },
    {
     "name": "stderr",
     "output_type": "stream",
     "text": [
      " 11%|█         | 10/90 [01:50<15:21, 11.52s/it]"
     ]
    },
    {
     "name": "stdout",
     "output_type": "stream",
     "text": [
      "  Result: Middle Class\n",
      "  Explanation: Jakob Böhme was born in Alt Seidenberg (now Stary Zawidów, Poland), a small village near Görlitz in ...\n",
      "  Sources: \"The Life and Doctrines of Jacob Boehme\" by Franz Hartmann, \"Jacob Boehme: The Teutonic Philosopher\"...\n",
      "\n",
      "Processing (11/90): Hans von Bülow (ID: Q155540), born 1830 in Egypt\n"
     ]
    },
    {
     "name": "stderr",
     "output_type": "stream",
     "text": [
      " 12%|█▏        | 11/90 [02:05<16:39, 12.66s/it]"
     ]
    },
    {
     "name": "stdout",
     "output_type": "stream",
     "text": [
      "  Result: Elite\n",
      "  Explanation: Hans von Bülow was born into a noble family, as indicated by the \"von\" in his name, which was a prep...\n",
      "  Sources: \"Hans von Bülow: A Life and Times\" by Alan Walker; \"The Great Pianists from Mozart to the Present\" b...\n",
      "\n",
      "Processing (12/90): Aleksander Griboyedov (ID: Q15001), born 1795 in Iran\n"
     ]
    },
    {
     "name": "stderr",
     "output_type": "stream",
     "text": [
      " 13%|█▎        | 12/90 [02:16<15:46, 12.14s/it]"
     ]
    },
    {
     "name": "stdout",
     "output_type": "stream",
     "text": [
      "  Result: Elite\n",
      "  Explanation: Aleksander Griboyedov was born into a noble family in Moscow, Russia, not Iran. His father, Sergey G...\n",
      "  Sources: \"Aleksandr Sergeyevich Griboyedov.\" Encyclopædia Britannica. https://www.britannica.com/biography/Al...\n",
      "\n",
      "Processing (13/90): Johann Ludwig Burckhardt (ID: Q39691), born 1784 in Egypt\n"
     ]
    },
    {
     "name": "stderr",
     "output_type": "stream",
     "text": [
      " 14%|█▍        | 13/90 [02:25<14:30, 11.30s/it]"
     ]
    },
    {
     "name": "stdout",
     "output_type": "stream",
     "text": [
      "  Result: Elite\n",
      "  Explanation: Johann Ludwig Burckhardt was born in Lausanne, Switzerland, not Egypt, in 1784 into a wealthy and in...\n",
      "  Sources: \"Johann Ludwig Burckhardt: A View of His Extraordinary Travels 1788-1817\" by William Desborough Cool...\n",
      "\n",
      "Processing (14/90): Henri Vieuxtemps (ID: Q312790), born 1820 in Algeria\n"
     ]
    },
    {
     "name": "stderr",
     "output_type": "stream",
     "text": [
      " 16%|█▌        | 14/90 [02:38<14:46, 11.66s/it]"
     ]
    },
    {
     "name": "stdout",
     "output_type": "stream",
     "text": [
      "  Result: Middle Class\n",
      "  Explanation: Henri Vieuxtemps was born into a family of weavers, a skilled craft occupation, which would place th...\n",
      "  Sources: \"Henri Vieuxtemps: Life and Works\" by Lev Ginsburg, \"The Great Violinists\" by Margaret Campbell.\n",
      "\n",
      "Processing (15/90): Henry Thomas Buckle (ID: Q435699), born 1821 in Syria\n"
     ]
    },
    {
     "name": "stderr",
     "output_type": "stream",
     "text": [
      " 17%|█▋        | 15/90 [02:50<14:56, 11.95s/it]"
     ]
    },
    {
     "name": "stdout",
     "output_type": "stream",
     "text": [
      "  Result: Middle Class\n",
      "  Explanation: Henry Thomas Buckle was born in Lee, Kent, England, not Syria, on 24th November 1821. His father, Th...\n",
      "  Sources: \"Henry Thomas Buckle: A Rational Victorian\" by Cyril Bibby; \"The Miscellaneous and Posthumous Works ...\n",
      "\n",
      "Processing (16/90): Auguste Mariette (ID: Q311850), born 1821 in Egypt\n"
     ]
    },
    {
     "name": "stderr",
     "output_type": "stream",
     "text": [
      " 18%|█▊        | 16/90 [03:03<15:08, 12.27s/it]"
     ]
    },
    {
     "name": "stdout",
     "output_type": "stream",
     "text": [
      "  Result: Middle Class\n",
      "  Explanation: Auguste Mariette was born in Boulogne-sur-Mer, France, not Egypt, around 1821. His father, François ...\n",
      "  Sources: \"Auguste Mariette (1821–1881)\" by Terence DuQuesne in the Journal of the American Research Center in...\n",
      "\n",
      "Processing (17/90): Katsushika Hokusai (ID: Q5586), born 1760 in Japan\n"
     ]
    },
    {
     "name": "stderr",
     "output_type": "stream",
     "text": [
      " 19%|█▉        | 17/90 [03:16<15:11, 12.48s/it]"
     ]
    },
    {
     "name": "stdout",
     "output_type": "stream",
     "text": [
      "  Result: Middle Class\n",
      "  Explanation: Katsushika Hokusai was born in Edo (now Tokyo), Japan, around 1760. His father is believed to have b...\n",
      "  Sources: \"Hokusai: Beyond the Great Wave\" by Timothy Clark (2017); \"Hokusai\" by Gian Carlo Calza (2003); \"Hok...\n",
      "\n",
      "Processing (18/90): Babur (ID: Q797848), born 1483 in India\n"
     ]
    },
    {
     "name": "stderr",
     "output_type": "stream",
     "text": [
      " 20%|██        | 18/90 [03:27<14:28, 12.06s/it]"
     ]
    },
    {
     "name": "stdout",
     "output_type": "stream",
     "text": [
      "  Result: Elite\n",
      "  Explanation: Babur, whose full name was Zahir-ud-din Muhammad Babur, was born into the Timurid dynasty, a Turko-M...\n",
      "  Sources: \"Babur: Founder of the Mughal Empire in India\" by Stephen F. Dale, \"The Baburnama: Memoirs of Babur,...\n",
      "\n",
      "Processing (19/90): Utagawa Kunisada (ID: Q467427), born 1786 in Japan\n"
     ]
    },
    {
     "name": "stderr",
     "output_type": "stream",
     "text": [
      " 21%|██        | 19/90 [03:42<15:21, 12.98s/it]"
     ]
    },
    {
     "name": "stdout",
     "output_type": "stream",
     "text": [
      "  Result: Middle Class\n",
      "  Explanation: Utagawa Kunisada, also known as Toyokuni III, was born in 1786 in Honjo, an eastern district of Edo ...\n",
      "  Sources: \"Utagawa Kunisada (1786–1865)\" by Shigeru Oikawa, in \"Great Masters of Ukiyo-e: Kunisada, Kuniyoshi,...\n",
      "\n",
      "Processing (20/90): Utagawa Hiroshige (ID: Q200798), born 1797 in Japan\n"
     ]
    },
    {
     "name": "stderr",
     "output_type": "stream",
     "text": [
      " 22%|██▏       | 20/90 [03:55<15:10, 13.01s/it]"
     ]
    },
    {
     "name": "stdout",
     "output_type": "stream",
     "text": [
      "  Result: Middle Class\n",
      "  Explanation: Utagawa Hiroshige, also known as Andō Hiroshige, was born in Edo (now Tokyo), Japan, in 1797. His fa...\n",
      "  Sources: \"Hiroshige: From Edo to Kyoto—A Journey through Japan.\" (2009). In Heilbrunn Timeline of Art History...\n",
      "\n",
      "Processing (21/90): Vasco da Gama (ID: Q7328), born 1469 in India\n"
     ]
    },
    {
     "name": "stderr",
     "output_type": "stream",
     "text": [
      " 23%|██▎       | 21/90 [04:04<13:28, 11.72s/it]"
     ]
    },
    {
     "name": "stdout",
     "output_type": "stream",
     "text": [
      "  Result: Elite\n",
      "  Explanation: Vasco da Gama was born into a noble family in Sines, Portugal, not India. His father, Estevão da Gam...\n",
      "  Sources: \"Vasco da Gama: Round Africa to India, 1497-1498 CE,\" from the Fordham University Internet History S...\n",
      "\n",
      "Processing (22/90): Ferdinand Magellan (ID: Q1496), born 1480 in Philippines\n"
     ]
    },
    {
     "name": "stderr",
     "output_type": "stream",
     "text": [
      " 24%|██▍       | 22/90 [04:19<14:28, 12.77s/it]"
     ]
    },
    {
     "name": "stdout",
     "output_type": "stream",
     "text": [
      "  Result: Elite\n",
      "  Explanation: Ferdinand Magellan was born into a family of minor Portuguese nobility. His parents were members of ...\n",
      "  Sources: 1. Zweig, Stefan. \"Conqueror of the Seas: The Story of Magellan.\" Viking Press, 1938.\n",
      "2. Parr, Charl...\n",
      "\n",
      "Processing (23/90): William Jones (ID: Q273969), born 1746 in India\n"
     ]
    },
    {
     "name": "stderr",
     "output_type": "stream",
     "text": [
      " 26%|██▌       | 23/90 [04:31<13:59, 12.53s/it]"
     ]
    },
    {
     "name": "stdout",
     "output_type": "stream",
     "text": [
      "  Result: Middle Class\n",
      "  Explanation: Sir William Jones was born in London in 1746 to William Jones, a mathematician from Anglesey in Wale...\n",
      "  Sources: Cannon, Garland. \"Sir William Jones: A Study in Eighteenth-century British Attitudes to India.\" Camb...\n",
      "\n",
      "Processing (24/90): Matsuo Bashō (ID: Q5676), born 1644 in Japan\n"
     ]
    },
    {
     "name": "stderr",
     "output_type": "stream",
     "text": [
      " 27%|██▋       | 24/90 [04:46<14:32, 13.22s/it]"
     ]
    },
    {
     "name": "stdout",
     "output_type": "stream",
     "text": [
      "  Result: Middle Class\n",
      "  Explanation: Matsuo Bashō was born in Ueno, in Iga Province, to a low-ranking samurai family. His father was like...\n",
      "  Sources: Ueda, Makoto. Matsuo Bashō. Kodansha International, 1982; Qiu, Peipei. Bashō and the Dao: The Zhuang...\n",
      "\n",
      "Processing (25/90): Empress Dowager Cixi (ID: Q47842), born 1835 in China\n"
     ]
    },
    {
     "name": "stderr",
     "output_type": "stream",
     "text": [
      " 28%|██▊       | 25/90 [05:00<14:36, 13.48s/it]"
     ]
    },
    {
     "name": "stdout",
     "output_type": "stream",
     "text": [
      "  Result: Middle Class\n",
      "  Explanation: Empress Dowager Cixi, originally named Yehenara Xingzhen, was born into the Manchu Yehe Nara clan, a...\n",
      "  Sources: - \"Empress Dowager Cixi: China's Last Dynasty and the Long Reign of a Formidable Concubine: Legends ...\n",
      "\n",
      "Processing (26/90): Kangxi Emperor (ID: Q17790), born 1654 in China\n"
     ]
    },
    {
     "name": "stderr",
     "output_type": "stream",
     "text": [
      " 29%|██▉       | 26/90 [05:11<13:29, 12.64s/it]"
     ]
    },
    {
     "name": "stdout",
     "output_type": "stream",
     "text": [
      "  Result: Elite\n",
      "  Explanation: Kangxi Emperor, born Aisin Gioro Xuanye, was born into the ruling Manchu Aisin Gioro clan of the Qin...\n",
      "  Sources: \"The Kangxi Emperor's Tour of the South\" by Jonathan D. Spence, \"The Cambridge History of China: Vol...\n",
      "\n",
      "Processing (27/90): Wu Cheng'en (ID: Q228889), born 1504 in China\n"
     ]
    },
    {
     "name": "stderr",
     "output_type": "stream",
     "text": [
      " 30%|███       | 27/90 [05:22<12:45, 12.14s/it]"
     ]
    },
    {
     "name": "stdout",
     "output_type": "stream",
     "text": [
      "  Result: Middle Class\n",
      "  Explanation: Wu Cheng'en was born in the city of Huai'an, Jiangsu during the Ming Dynasty. His father was a relat...\n",
      "  Sources: \"The Journey to the West,\" Wu Cheng'en's semi-autobiographical novel, provides some insight into his...\n",
      "\n",
      "Processing (28/90): Julia Margaret Cameron (ID: Q230120), born 1815 in India\n"
     ]
    },
    {
     "name": "stderr",
     "output_type": "stream",
     "text": [
      " 31%|███       | 28/90 [05:31<11:33, 11.18s/it]"
     ]
    },
    {
     "name": "stdout",
     "output_type": "stream",
     "text": [
      "  Result: Elite\n",
      "  Explanation: Julia Margaret Cameron was born in Calcutta, India, to a wealthy family of British origin. Her fathe...\n",
      "  Sources: \"Julia Margaret Cameron: The Complete Photographs\" by Julian Cox and Colin Ford; \"Julia Margaret Cam...\n",
      "\n",
      "Processing (29/90): Miyamoto Musashi (ID: Q193344), born 1585 in Japan\n"
     ]
    },
    {
     "name": "stderr",
     "output_type": "stream",
     "text": [
      " 32%|███▏      | 29/90 [05:44<11:50, 11.64s/it]"
     ]
    },
    {
     "name": "stdout",
     "output_type": "stream",
     "text": [
      "  Result: Middle Class\n",
      "  Explanation: Miyamoto Musashi was born in Harima Province, Japan, around 1584. His father, Shinmen Munisai, was a...\n",
      "  Sources: \"The Lone Samurai: The Life of Miyamoto Musashi\" by William Scott Wilson; \"Miyamoto Musashi: His Lif...\n",
      "\n",
      "Processing (30/90): Suzuki Harunobu (ID: Q360978), born 1725 in Japan\n"
     ]
    },
    {
     "name": "stderr",
     "output_type": "stream",
     "text": [
      " 33%|███▎      | 30/90 [05:56<11:58, 11.98s/it]"
     ]
    },
    {
     "name": "stdout",
     "output_type": "stream",
     "text": [
      "  Result: Middle Class\n",
      "  Explanation: Suzuki Harunobu was born into a family of samurai, which were part of the ruling class in Japan duri...\n",
      "  Sources: \"Harunobu.\" Grove Art Online. Oxford Art Online. Oxford University Press. ; Screech, Timon. \"The Len...\n",
      "\n",
      "Processing (31/90): Peter Abelard (ID: Q4295), born 1079 in France\n"
     ]
    },
    {
     "name": "stderr",
     "output_type": "stream",
     "text": [
      " 34%|███▍      | 31/90 [06:07<11:23, 11.59s/it]"
     ]
    },
    {
     "name": "stdout",
     "output_type": "stream",
     "text": [
      "  Result: Middle Class\n",
      "  Explanation: Peter Abelard was born in Le Pallet, near Nantes, in Brittany, the eldest son of a minor noble Frenc...\n",
      "  Sources: \"Abelard: A Medieval Life\" by M.T. Clanchy; \"The Letters of Abelard and Heloise\" by Peter Abelard an...\n",
      "\n",
      "Processing (32/90): Luca della Robbia (ID: Q194977), born 1399 in Italy\n"
     ]
    },
    {
     "name": "stderr",
     "output_type": "stream",
     "text": [
      " 36%|███▌      | 32/90 [06:17<10:39, 11.03s/it]"
     ]
    },
    {
     "name": "stdout",
     "output_type": "stream",
     "text": [
      "  Result: Middle Class\n",
      "  Explanation: Luca della Robbia was born into a family of wool merchants in Florence, Italy. His family belonged t...\n",
      "  Sources: Vasari, Giorgio. \"Lives of the Most Eminent Painters Sculptors and Architects.\" 1550.\n",
      "\n",
      "Processing (33/90): Gerald of Wales (ID: Q357824), born 1146 in United Kingdom\n"
     ]
    },
    {
     "name": "stderr",
     "output_type": "stream",
     "text": [
      " 37%|███▋      | 33/90 [06:27<10:21, 10.91s/it]"
     ]
    },
    {
     "name": "stdout",
     "output_type": "stream",
     "text": [
      "  Result: Elite\n",
      "  Explanation: Gerald of Wales, also known as Giraldus Cambrensis, was born into a noble family. His father, Willia...\n",
      "  Sources: Gerald of Wales' own writings, such as \"The Journey Through Wales\" and \"The Description of Wales,\" p...\n",
      "\n",
      "Processing (34/90): Johannes Ockeghem (ID: Q143059), born 1410 in France\n"
     ]
    },
    {
     "name": "stderr",
     "output_type": "stream",
     "text": [
      " 38%|███▊      | 34/90 [06:35<09:17,  9.95s/it]"
     ]
    },
    {
     "name": "stdout",
     "output_type": "stream",
     "text": [
      "  Result: None\n",
      "  Explanation: The birth circumstances and family background of Johannes Ockeghem, a prominent composer of the 15th...\n",
      "  Sources: \"Johannes Ockeghem.\" Grove Music Online. Oxford Music Online. Oxford University Press.\n",
      "\n",
      "Processing (35/90): John Dunstaple (ID: Q215134), born 1390 in United Kingdom\n"
     ]
    },
    {
     "name": "stderr",
     "output_type": "stream",
     "text": [
      " 39%|███▉      | 35/90 [06:45<09:10, 10.01s/it]"
     ]
    },
    {
     "name": "stdout",
     "output_type": "stream",
     "text": [
      "  Result: None\n",
      "  Explanation: The birth circumstances and family background of John Dunstaple are not well-documented. There is li...\n",
      "  Sources: The primary sources that could potentially provide this information are historical records from the ...\n",
      "\n",
      "Processing (36/90): Gemistus Pletho (ID: Q220313), born 1355 in Greece\n"
     ]
    },
    {
     "name": "stderr",
     "output_type": "stream",
     "text": [
      " 40%|████      | 36/90 [06:55<08:51,  9.85s/it]"
     ]
    },
    {
     "name": "stdout",
     "output_type": "stream",
     "text": [
      "  Result: Elite\n",
      "  Explanation: Gemistus Pletho, also known as Georgius Gemistus, was born into a Byzantine noble family in Constant...\n",
      "  Sources: \"The Last of the Hellenes: Plethon and Platonic Political Philosophy\" by Vassilis G. Raptopoulos, \"B...\n",
      "\n",
      "Processing (37/90): Sedulius Scottus (ID: Q2609522), born 850 in Ireland\n"
     ]
    },
    {
     "name": "stderr",
     "output_type": "stream",
     "text": [
      " 41%|████      | 37/90 [07:03<08:21,  9.46s/it]"
     ]
    },
    {
     "name": "stdout",
     "output_type": "stream",
     "text": [
      "  Result: None\n",
      "  Explanation: The birth circumstances and family background of Sedulius Scottus, a 9th-century Irish teacher, Lati...\n",
      "  Sources: The primary sources for information about Sedulius Scottus are his own writings, which do not provid...\n",
      "\n",
      "Processing (38/90): Robert Grosseteste (ID: Q256541), born 1175 in United Kingdom\n"
     ]
    },
    {
     "name": "stderr",
     "output_type": "stream",
     "text": [
      " 42%|████▏     | 38/90 [07:16<09:06, 10.51s/it]"
     ]
    },
    {
     "name": "stdout",
     "output_type": "stream",
     "text": [
      "  Result: None\n",
      "  Explanation: The birth circumstances and family background of Robert Grosseteste, born around 1175, are largely u...\n",
      "  Sources: The primary sources for information about Robert Grosseteste are his own writings and the writings o...\n",
      "\n",
      "Processing (39/90): Gilbert de La Porrée (ID: Q583119), born 1070 in France\n"
     ]
    },
    {
     "name": "stderr",
     "output_type": "stream",
     "text": [
      " 43%|████▎     | 39/90 [07:24<08:19,  9.80s/it]"
     ]
    },
    {
     "name": "stdout",
     "output_type": "stream",
     "text": [
      "  Result: Elite\n",
      "  Explanation: Gilbert de La Porrée was born into a noble family in Poitiers, France, around 1070. His father, whos...\n",
      "  Sources: \"Gilbert of Poitiers and His Comrades: The Doctrine of the Homaousios in the Twelfth Century,\" by Ia...\n",
      "\n",
      "Processing (40/90): Isidore of Seville (ID: Q166876), born 560 in Spain\n"
     ]
    },
    {
     "name": "stderr",
     "output_type": "stream",
     "text": [
      " 44%|████▍     | 40/90 [07:34<08:05,  9.71s/it]"
     ]
    },
    {
     "name": "stdout",
     "output_type": "stream",
     "text": [
      "  Result: Elite\n",
      "  Explanation: Isidore of Seville was born into a prominent Hispano-Roman family. His parents, Severianus and Theod...\n",
      "  Sources: \"Isidore of Seville and the Formation of Medieval Spain\" by Graham, John. Palgrave Macmillan, 2016. ...\n",
      "\n",
      "Processing (41/90): Ibn Tufayl (ID: Q251259), born 1110 in Morocco\n"
     ]
    },
    {
     "name": "stderr",
     "output_type": "stream",
     "text": [
      " 46%|████▌     | 41/90 [07:47<08:43, 10.69s/it]"
     ]
    },
    {
     "name": "stdout",
     "output_type": "stream",
     "text": [
      "  Result: None\n",
      "  Explanation: The specific details about Ibn Tufayl's family background, including his parents' occupations, famil...\n",
      "  Sources: The primary source of information about Ibn Tufayl is his philosophical novel, \"Hayy ibn Yaqzan,\" bu...\n",
      "\n",
      "Processing (42/90): Cosmas Indicopleustes (ID: Q355633), born 600 in Egypt\n"
     ]
    },
    {
     "name": "stderr",
     "output_type": "stream",
     "text": [
      " 47%|████▋     | 42/90 [08:02<09:30, 11.88s/it]"
     ]
    },
    {
     "name": "stdout",
     "output_type": "stream",
     "text": [
      "  Result: None\n",
      "  Explanation: The exact social class of Cosmas Indicopleustes at the time of his birth and childhood is difficult ...\n",
      "  Sources: \"Christian Topography\" by Cosmas Indicopleustes; \"Cosmas Indicopleustes, A Greek Monk, Misnamed 'The...\n",
      "\n",
      "Processing (43/90): John of Damascus (ID: Q51884), born 675 in Palestine\n"
     ]
    },
    {
     "name": "stderr",
     "output_type": "stream",
     "text": [
      " 48%|████▊     | 43/90 [08:14<09:23, 12.00s/it]"
     ]
    },
    {
     "name": "stdout",
     "output_type": "stream",
     "text": [
      "  Result: Elite\n",
      "  Explanation: John of Damascus was born into a wealthy Christian family of the Byzantine nobility. His father, Ser...\n",
      "  Sources: \"John of Damascus: The Heresy of the Ishmaelites\" (8th century text); \"The Orthodox Church in the Ar...\n",
      "\n",
      "Processing (44/90): Judah Halevi (ID: Q299200), born 1075 in Palestine\n"
     ]
    },
    {
     "name": "stderr",
     "output_type": "stream",
     "text": [
      " 49%|████▉     | 44/90 [08:33<10:48, 14.09s/it]"
     ]
    },
    {
     "name": "stdout",
     "output_type": "stream",
     "text": [
      "  Result: Middle Class\n",
      "  Explanation: Judah Halevi was born in Tudela, in the Kingdom of Navarre, now part of Spain, not Palestine. His ex...\n",
      "  Sources: \"The Kuzari: In Defense of the Despised Faith\" by Judah Halevi, \"The Dream of the Poem: Hebrew Poetr...\n",
      "\n",
      "Processing (45/90): Gregory of Narek (ID: Q969758), born 951 in Turkey\n"
     ]
    },
    {
     "name": "stderr",
     "output_type": "stream",
     "text": [
      " 50%|█████     | 45/90 [08:42<09:26, 12.59s/it]"
     ]
    },
    {
     "name": "stdout",
     "output_type": "stream",
     "text": [
      "  Result: Elite\n",
      "  Explanation: Gregory of Narek was born into a family of high ecclesiastical and educational standing. His father,...\n",
      "  Sources: \"The Life of St. Gregory of Narek\" by Thomas J. Samuelian, \"The Armenian Church\" by Vrej Nersessian.\n",
      "\n",
      "Processing (46/90): Maximus Planudes (ID: Q218672), born 1260 in Turkey\n"
     ]
    },
    {
     "name": "stderr",
     "output_type": "stream",
     "text": [
      " 51%|█████     | 46/90 [08:53<08:48, 12.02s/it]"
     ]
    },
    {
     "name": "stdout",
     "output_type": "stream",
     "text": [
      "  Result: None\n",
      "  Explanation: The birth circumstances and family background of Maximus Planudes, a Byzantine Greek monk and schola...\n",
      "  Sources: Primary sources about Maximus Planudes' early life are scarce. Potential sources that could provide ...\n",
      "\n",
      "Processing (47/90): John Philoponus (ID: Q317632), born 490 in Egypt\n"
     ]
    },
    {
     "name": "stderr",
     "output_type": "stream",
     "text": [
      " 52%|█████▏    | 47/90 [09:05<08:35, 12.00s/it]"
     ]
    },
    {
     "name": "stdout",
     "output_type": "stream",
     "text": [
      "  Result: Middle Class\n",
      "  Explanation: John Philoponus, also known as John the Grammarian, was born in Alexandria, Egypt, around 490 AD. Hi...\n",
      "  Sources: \"John Philoponus\" by Christian Wildberg in Stanford Encyclopedia of Philosophy; \"John Philoponus: Ne...\n",
      "\n",
      "Processing (48/90): Shota Rustaveli (ID: Q132984), born 1172 in Palestine\n"
     ]
    },
    {
     "name": "stderr",
     "output_type": "stream",
     "text": [
      " 53%|█████▎    | 48/90 [09:15<08:05, 11.55s/it]"
     ]
    },
    {
     "name": "stdout",
     "output_type": "stream",
     "text": [
      "  Result: None\n",
      "  Explanation: Shota Rustaveli is a celebrated Georgian poet and author of the epic poem \"The Knight in the Panther...\n",
      "  Sources: The primary source for information about Rustaveli is his own work, \"The Knight in the Panther's Ski...\n",
      "\n",
      "Processing (49/90): Bar Hebraeus (ID: Q380295), born 1226 in Iran\n"
     ]
    },
    {
     "name": "stderr",
     "output_type": "stream",
     "text": [
      " 54%|█████▍    | 49/90 [09:27<07:54, 11.57s/it]"
     ]
    },
    {
     "name": "stdout",
     "output_type": "stream",
     "text": [
      "  Result: Middle Class\n",
      "  Explanation: Bar Hebraeus, also known as Gregory Bar Hebraeus, was born in 1226 in Melitene (now Malatya, Turkey)...\n",
      "  Sources: \"Bar Hebraeus\" by Hidemi Takahashi, published in the Encyclopedia of Arabic Language and Linguistics...\n",
      "\n",
      "Processing (50/90): Fulgentius of Ruspe (ID: Q380089), born 468 in Tunisia\n"
     ]
    },
    {
     "name": "stderr",
     "output_type": "stream",
     "text": [
      " 56%|█████▌    | 50/90 [09:35<07:01, 10.53s/it]"
     ]
    },
    {
     "name": "stdout",
     "output_type": "stream",
     "text": [
      "  Result: Elite\n",
      "  Explanation: Fulgentius of Ruspe was born into a Roman senatorial family, which places him in the elite class of ...\n",
      "  Sources: \"Fulgentius, Saint, Bishop of Ruspe.\" Encyclopædia Britannica. Encyclopædia Britannica, Inc., 2021. ...\n",
      "\n",
      "Processing (51/90): Wang Wei (ID: Q313605), born 699 in China\n"
     ]
    },
    {
     "name": "stderr",
     "output_type": "stream",
     "text": [
      " 57%|█████▋    | 51/90 [09:45<06:42, 10.31s/it]"
     ]
    },
    {
     "name": "stdout",
     "output_type": "stream",
     "text": [
      "  Result: Elite\n",
      "  Explanation: Wang Wei was born into a wealthy and influential family in the Tang Dynasty. His father, Wang Chulia...\n",
      "  Sources: \"Wang Wei.\" Encyclopædia Britannica. Encyclopædia Britannica, inc., n.d. Web. 10 Dec. 2021. <https:/...\n",
      "\n",
      "Processing (52/90): Li Bai (ID: Q7071), born 701 in China\n"
     ]
    },
    {
     "name": "stderr",
     "output_type": "stream",
     "text": [
      " 58%|█████▊    | 52/90 [09:54<06:19,  9.99s/it]"
     ]
    },
    {
     "name": "stdout",
     "output_type": "stream",
     "text": [
      "  Result: Elite\n",
      "  Explanation: Li Bai, also known as Li Po, was born into a wealthy aristocratic family in the Tang Dynasty. His fa...\n",
      "  Sources: \"Li Bai: His Life and Legacy,\" by William Hung; \"The Poet Li Po,\" by Arthur Waley; \"Li Bai and Du Fu...\n",
      "\n",
      "Processing (53/90): Al-Biruni (ID: Q11826), born 973 in Afghanistan\n"
     ]
    },
    {
     "name": "stderr",
     "output_type": "stream",
     "text": [
      " 59%|█████▉    | 53/90 [10:06<06:35, 10.68s/it]"
     ]
    },
    {
     "name": "stdout",
     "output_type": "stream",
     "text": [
      "  Result: Middle Class\n",
      "  Explanation: Al-Biruni, also known as Abū Rayḥān Muḥammad ibn Aḥmad Al-Bīrūnī, was born in the city of Kath, Khwa...\n",
      "  Sources: \"Al-Biruni\" by J. J. O'Connor and E. F. Robertson, School of Mathematics and Statistics, University ...\n",
      "\n",
      "Processing (54/90): Sei Shōnagon (ID: Q231603), born 966 in Japan\n"
     ]
    },
    {
     "name": "stderr",
     "output_type": "stream",
     "text": [
      " 60%|██████    | 54/90 [10:15<06:09, 10.26s/it]"
     ]
    },
    {
     "name": "stdout",
     "output_type": "stream",
     "text": [
      "  Result: Elite\n",
      "  Explanation: Sei Shōnagon was born into a family of the court nobility, which was the ruling class in Japan durin...\n",
      "  Sources: \"The Pillow Book\" by Sei Shōnagon, \"The World of the Shining Prince: Court Life in Ancient Japan\" by...\n",
      "\n",
      "Processing (55/90): Su Shi (ID: Q36020), born 1037 in China\n"
     ]
    },
    {
     "name": "stderr",
     "output_type": "stream",
     "text": [
      " 61%|██████    | 55/90 [10:28<06:27, 11.07s/it]"
     ]
    },
    {
     "name": "stdout",
     "output_type": "stream",
     "text": [
      "  Result: Elite\n",
      "  Explanation: Su Shi, also known as Su Dongpo, was born into a literati family in Meishan, near Mount Omei in Sich...\n",
      "  Sources: \"Su Shi,\" Encyclopædia Britannica, https://www.britannica.com/biography/Su-Shi; \"The Su Shi (Su Dong...\n",
      "\n",
      "Processing (56/90): Du Fu (ID: Q33772), born 712 in China\n"
     ]
    },
    {
     "name": "stderr",
     "output_type": "stream",
     "text": [
      " 62%|██████▏   | 56/90 [10:41<06:34, 11.61s/it]"
     ]
    },
    {
     "name": "stdout",
     "output_type": "stream",
     "text": [
      "  Result: Elite\n",
      "  Explanation: Du Fu was born into a scholarly elite family. His father, Du Shenyan, was a noted poet and an offici...\n",
      "  Sources: \"Du Fu: A Life in Poetry\" by David Young; \"The Age of Confucian Rule: The Song Transformation of Chi...\n",
      "\n",
      "Processing (57/90): Adi Shankara (ID: Q180967), born 788 in India\n"
     ]
    },
    {
     "name": "stderr",
     "output_type": "stream",
     "text": [
      " 63%|██████▎   | 57/90 [10:51<06:03, 11.00s/it]"
     ]
    },
    {
     "name": "stdout",
     "output_type": "stream",
     "text": [
      "  Result: Middle Class\n",
      "  Explanation: Adi Shankara was born in Kalady, a village in what is now the southern Indian state of Kerala. His p...\n",
      "  Sources: \"Shankara and Indian Philosophy\" by Natalia Isayeva, \"A History of Early Vedanta Philosophy\" by Haji...\n",
      "\n",
      "Processing (58/90): Murasaki Shikibu (ID: Q81731), born 970 in Japan\n"
     ]
    },
    {
     "name": "stderr",
     "output_type": "stream",
     "text": [
      " 64%|██████▍   | 58/90 [11:00<05:39, 10.61s/it]"
     ]
    },
    {
     "name": "stdout",
     "output_type": "stream",
     "text": [
      "  Result: Elite\n",
      "  Explanation: Murasaki Shikibu was born into a noble family, specifically the Fujiwara clan, which was the most po...\n",
      "  Sources: \"The Diary of Lady Murasaki\" by Murasaki Shikibu, \"The World of the Shining Prince: Court Life in An...\n",
      "\n",
      "Processing (59/90): Jami (ID: Q312458), born 1414 in Afghanistan\n"
     ]
    },
    {
     "name": "stderr",
     "output_type": "stream",
     "text": [
      " 66%|██████▌   | 59/90 [11:19<06:42, 12.98s/it]"
     ]
    },
    {
     "name": "stdout",
     "output_type": "stream",
     "text": [
      "  Result: Elite\n",
      "  Explanation: Jami, whose full name is Nur ad-Din Abd ar-Rahman Jami, was born into a family of scholars and theol...\n",
      "  Sources: \"Jami (1414–1492).\" Encyclopedia of Islam and the Muslim World. Ed. Richard C. Martin. Vol. 1. Gale,...\n",
      "\n",
      "Processing (60/90): Zhu Xi (ID: Q9397), born 1130 in China\n"
     ]
    },
    {
     "name": "stderr",
     "output_type": "stream",
     "text": [
      " 67%|██████▋   | 60/90 [11:32<06:27, 12.92s/it]"
     ]
    },
    {
     "name": "stdout",
     "output_type": "stream",
     "text": [
      "  Result: Elite\n",
      "  Explanation: Zhu Xi was born into a family of literati, a social class that was part of the elite in Song Dynasty...\n",
      "  Sources: \"Zhu Xi's Reading of the Analects: Canon, Commentary, and the Classical Tradition\" by Daniel K. Gard...\n",
      "\n",
      "Processing (61/90): Sidonius Apollinaris (ID: Q302936), born 430 in France\n"
     ]
    },
    {
     "name": "stderr",
     "output_type": "stream",
     "text": [
      " 68%|██████▊   | 61/90 [11:43<06:00, 12.43s/it]"
     ]
    },
    {
     "name": "stdout",
     "output_type": "stream",
     "text": [
      "  Result: Elite\n",
      "  Explanation: Sidonius Apollinaris was born into a wealthy Gallo-Roman aristocratic family. His father, Apollinari...\n",
      "  Sources: Sidonius Apollinaris's own writings provide a wealth of information about his family background and ...\n",
      "\n",
      "Processing (62/90): Celsus (ID: Q315370), born 200 in Italy\n"
     ]
    },
    {
     "name": "stderr",
     "output_type": "stream",
     "text": [
      " 69%|██████▉   | 62/90 [11:55<05:45, 12.35s/it]"
     ]
    },
    {
     "name": "stdout",
     "output_type": "stream",
     "text": [
      "  Result: None\n",
      "  Explanation: The historical figure Celsus, born around 200 AD in what is now Italy, is a somewhat enigmatic figur...\n",
      "  Sources: The primary sources that might provide this information would be ancient texts and inscriptions, but...\n",
      "\n",
      "Processing (63/90): Xenophon (ID: Q129772), born -429 in Greece\n"
     ]
    },
    {
     "name": "stderr",
     "output_type": "stream",
     "text": [
      " 70%|███████   | 63/90 [12:06<05:17, 11.77s/it]"
     ]
    },
    {
     "name": "stdout",
     "output_type": "stream",
     "text": [
      "  Result: Elite\n",
      "  Explanation: Xenophon was born into an affluent family in the city of Athens, one of the most powerful city-state...\n",
      "  Sources: Xenophon's own writings, such as the \"Anabasis\" and \"Hellenica\", provide some information about his ...\n",
      "\n",
      "Processing (64/90): Lucian of Samosata (ID: Q177847), born 120 in Greece\n"
     ]
    },
    {
     "name": "stderr",
     "output_type": "stream",
     "text": [
      " 71%|███████   | 64/90 [12:17<05:05, 11.76s/it]"
     ]
    },
    {
     "name": "stdout",
     "output_type": "stream",
     "text": [
      "  Result: Middle Class\n",
      "  Explanation: Lucian of Samosata was born in the Roman province of Syria, in the city of Samosata, around 125 AD. ...\n",
      "  Sources: Lucian's own writings, particularly \"The Dream\" or \"The Cock,\" provide some insight into his early l...\n",
      "\n",
      "Processing (65/90): Philodemus (ID: Q451550), born -109 in Italy\n"
     ]
    },
    {
     "name": "stderr",
     "output_type": "stream",
     "text": [
      " 72%|███████▏  | 65/90 [12:30<05:02, 12.10s/it]"
     ]
    },
    {
     "name": "stdout",
     "output_type": "stream",
     "text": [
      "  Result: Middle Class\n",
      "  Explanation: Philodemus was born in Gadara (modern-day Jordan), not Italy, around 110 BC. His family background i...\n",
      "  Sources: The primary source for information on Philodemus is his own writings, as well as those of his contem...\n",
      "\n",
      "Processing (66/90): Tibullus (ID: Q109598), born -50 in Italy\n"
     ]
    },
    {
     "name": "stderr",
     "output_type": "stream",
     "text": [
      " 73%|███████▎  | 66/90 [12:43<04:57, 12.38s/it]"
     ]
    },
    {
     "name": "stdout",
     "output_type": "stream",
     "text": [
      "  Result: Elite\n",
      "  Explanation: Albius Tibullus, known as Tibullus, was born into a wealthy equestrian family in Rome around 55-50 B...\n",
      "  Sources: Ovid's \"Amores\" (3.9.31-34), Horace's \"Satires\" (1.10.29-34), and the works of Tibullus himself prov...\n",
      "\n",
      "Processing (67/90): Silius Italicus (ID: Q316123), born 26 in Italy\n"
     ]
    },
    {
     "name": "stderr",
     "output_type": "stream",
     "text": [
      " 74%|███████▍  | 67/90 [12:58<04:59, 13.04s/it]"
     ]
    },
    {
     "name": "stdout",
     "output_type": "stream",
     "text": [
      "  Result: Elite\n",
      "  Explanation: Silius Italicus was born into a wealthy and influential family in the Roman Empire. His family was o...\n",
      "  Sources: The primary source for information on Silius Italicus is his own work, the Punica, as well as refere...\n",
      "\n",
      "Processing (68/90): Rutilius Claudius Namatianus (ID: Q705919), born 400 in France\n"
     ]
    },
    {
     "name": "stderr",
     "output_type": "stream",
     "text": [
      " 76%|███████▌  | 68/90 [13:10<04:40, 12.74s/it]"
     ]
    },
    {
     "name": "stdout",
     "output_type": "stream",
     "text": [
      "  Result: Elite\n",
      "  Explanation: Rutilius Claudius Namatianus was born into a wealthy and influential family in Gaul (modern-day Fran...\n",
      "  Sources: The primary source of information on Namatianus is his own work, \"De Reditu Suo\", in which he descri...\n",
      "\n",
      "Processing (69/90): Gaius Musonius Rufus (ID: Q381874), born 25 in Italy\n"
     ]
    },
    {
     "name": "stderr",
     "output_type": "stream",
     "text": [
      " 77%|███████▋  | 69/90 [13:21<04:17, 12.26s/it]"
     ]
    },
    {
     "name": "stdout",
     "output_type": "stream",
     "text": [
      "  Result: Elite\n",
      "  Explanation: Gaius Musonius Rufus was born into an equestrian family, which was the second highest social class i...\n",
      "  Sources: The primary source for information about Rufus' life is his own philosophical teachings, as recorded...\n",
      "\n",
      "Processing (70/90): Hilary of Poitiers (ID: Q44344), born 315 in France\n"
     ]
    },
    {
     "name": "stderr",
     "output_type": "stream",
     "text": [
      " 78%|███████▊  | 70/90 [13:31<03:53, 11.69s/it]"
     ]
    },
    {
     "name": "stdout",
     "output_type": "stream",
     "text": [
      "  Result: Elite\n",
      "  Explanation: Hilary of Poitiers was born into a wealthy pagan family in the late Roman Empire. His family was par...\n",
      "  Sources: \"Hilary of Poitiers: His Life and Impact\" by Michael Ovey, \"The Oxford Dictionary of the Christian C...\n",
      "\n",
      "Processing (71/90): Themistius (ID: Q365183), born 317 in Turkey\n"
     ]
    },
    {
     "name": "stderr",
     "output_type": "stream",
     "text": [
      " 79%|███████▉  | 71/90 [13:41<03:27, 10.93s/it]"
     ]
    },
    {
     "name": "stdout",
     "output_type": "stream",
     "text": [
      "  Result: Elite\n",
      "  Explanation: Themistius was born into a family of considerable standing in Paphlagonia, a region in what is now m...\n",
      "  Sources: \"Themistius and His World\" by Heather and Robert Garland; \"The Roman Empire from Severus to Constant...\n",
      "\n",
      "Processing (72/90): Pelagius (ID: Q162593), born 360 in Palestine\n"
     ]
    },
    {
     "name": "stderr",
     "output_type": "stream",
     "text": [
      " 80%|████████  | 72/90 [13:49<03:04, 10.26s/it]"
     ]
    },
    {
     "name": "stdout",
     "output_type": "stream",
     "text": [
      "  Result: None\n",
      "  Explanation: The birth circumstances and family background of Pelagius, a Christian ascetic who advocated for fre...\n",
      "  Sources: The primary sources that mention Pelagius, such as the writings of Augustine of Hippo and Jerome, fo...\n",
      "\n",
      "Processing (73/90): Augustine of Hippo (ID: Q8018), born 354 in Algeria\n"
     ]
    },
    {
     "name": "stderr",
     "output_type": "stream",
     "text": [
      " 81%|████████  | 73/90 [14:01<03:00, 10.59s/it]"
     ]
    },
    {
     "name": "stdout",
     "output_type": "stream",
     "text": [
      "  Result: Middle Class\n",
      "  Explanation: Augustine of Hippo was born in Thagaste, in the Roman province of Numidia, present-day Algeria. His ...\n",
      "  Sources: 1. \"Augustine of Hippo: A Biography\" by Peter Brown\n",
      "2. \"The Confessions of Saint Augustine\" by Augus...\n",
      "\n",
      "Processing (74/90): Hipparchus (ID: Q159905), born -189 in Turkey\n"
     ]
    },
    {
     "name": "stderr",
     "output_type": "stream",
     "text": [
      " 82%|████████▏ | 74/90 [14:11<02:48, 10.51s/it]"
     ]
    },
    {
     "name": "stdout",
     "output_type": "stream",
     "text": [
      "  Result: None\n",
      "  Explanation: The birth circumstances and family background of Hipparchus, the ancient Greek astronomer, are large...\n",
      "  Sources: The primary sources for information on Hipparchus are his own works and references to him in the wor...\n",
      "\n",
      "Processing (75/90): Basil of Caesarea (ID: Q44258), born 329 in Turkey\n"
     ]
    },
    {
     "name": "stderr",
     "output_type": "stream",
     "text": [
      " 83%|████████▎ | 75/90 [14:22<02:38, 10.58s/it]"
     ]
    },
    {
     "name": "stdout",
     "output_type": "stream",
     "text": [
      "  Result: Elite\n",
      "  Explanation: Basil of Caesarea was born into a wealthy and noble Christian family. His father, also named Basil, ...\n",
      "  Sources: \"Life and Works of Saint Basil the Great\" by Philip Schaff, \"Basil of Caesarea\" by Stephen M. Hildeb...\n",
      "\n",
      "Processing (76/90): Arnobius (ID: Q342416), born 255 in Tunisia\n"
     ]
    },
    {
     "name": "stderr",
     "output_type": "stream",
     "text": [
      " 84%|████████▍ | 76/90 [14:32<02:27, 10.56s/it]"
     ]
    },
    {
     "name": "stdout",
     "output_type": "stream",
     "text": [
      "  Result: None\n",
      "  Explanation: The birth circumstances and family background of Arnobius, a Christian apologist of the 4th century,...\n",
      "  Sources: The primary source for information about Arnobius is his own work, \"Against the Heathen\" (Adversus N...\n",
      "\n",
      "Processing (77/90): Julian (ID: Q33941), born 331 in Iraq\n"
     ]
    },
    {
     "name": "stderr",
     "output_type": "stream",
     "text": [
      " 86%|████████▌ | 77/90 [14:45<02:27, 11.36s/it]"
     ]
    },
    {
     "name": "stdout",
     "output_type": "stream",
     "text": [
      "  Result: Elite\n",
      "  Explanation: Julian, also known as Julian the Apostate, was born into the Constantinian dynasty, a ruling family ...\n",
      "  Sources: Ammianus Marcellinus's \"Res Gestae,\" a primary source that provides a detailed account of Julian's l...\n",
      "\n",
      "Processing (78/90): Gregory of Nyssa (ID: Q191734), born 400 in Turkey\n"
     ]
    },
    {
     "name": "stderr",
     "output_type": "stream",
     "text": [
      " 87%|████████▋ | 78/90 [14:59<02:23, 11.97s/it]"
     ]
    },
    {
     "name": "stdout",
     "output_type": "stream",
     "text": [
      "  Result: Elite\n",
      "  Explanation: Gregory of Nyssa was born into a wealthy and influential Christian family in the region of Cappadoci...\n",
      "  Sources: \"The Life of St. Gregory of Nyssa\" by Sulpicius Severus, \"The Life and Writings of Gregory of Nyssa\"...\n",
      "\n",
      "Processing (79/90): Apollonius of Rhodes (ID: Q192638), born -294 in Egypt\n"
     ]
    },
    {
     "name": "stderr",
     "output_type": "stream",
     "text": [
      " 88%|████████▊ | 79/90 [15:09<02:07, 11.59s/it]"
     ]
    },
    {
     "name": "stdout",
     "output_type": "stream",
     "text": [
      "  Result: None\n",
      "  Explanation: The birth circumstances and family background of Apollonius of Rhodes are largely unknown. There are...\n",
      "  Sources: The main sources of information about Apollonius are his own works, particularly the Argonautica, an...\n",
      "\n",
      "Processing (80/90): Melito of Sardis (ID: Q359945), born 100 in Turkey\n"
     ]
    },
    {
     "name": "stderr",
     "output_type": "stream",
     "text": [
      " 89%|████████▉ | 80/90 [15:19<01:50, 11.06s/it]"
     ]
    },
    {
     "name": "stdout",
     "output_type": "stream",
     "text": [
      "  Result: None\n",
      "  Explanation: The birth circumstances and family background of Melito of Sardis, born around 100 AD in what is now...\n",
      "  Sources: The primary sources for information about Melito of Sardis are his own writings and those of other e...\n",
      "\n",
      "Processing (81/90): Didymus the Blind (ID: Q188232), born 313 in Egypt\n"
     ]
    },
    {
     "name": "stderr",
     "output_type": "stream",
     "text": [
      " 90%|█████████ | 81/90 [15:29<01:34, 10.54s/it]"
     ]
    },
    {
     "name": "stdout",
     "output_type": "stream",
     "text": [
      "  Result: None\n",
      "  Explanation: The birth circumstances and family background of Didymus the Blind are not well-documented. There is...\n",
      "  Sources: The primary sources that mention Didymus the Blind, such as the writings of Jerome, Rufinus, and Pal...\n",
      "\n",
      "Processing (82/90): Pliny the Younger (ID: Q168707), born 61 in Turkey\n"
     ]
    },
    {
     "name": "stderr",
     "output_type": "stream",
     "text": [
      " 91%|█████████ | 82/90 [15:42<01:32, 11.52s/it]"
     ]
    },
    {
     "name": "stdout",
     "output_type": "stream",
     "text": [
      "  Result: Elite\n",
      "  Explanation: Pliny the Younger, born as Gaius Plinius Caecilius Secundus, was born into an elite family in the Ro...\n",
      "  Sources: Pliny's own letters provide a wealth of information about his life and family background. Additional...\n",
      "\n",
      "Processing (83/90): Demetrius of Phalerum (ID: Q313286), born -349 in Egypt\n"
     ]
    },
    {
     "name": "stderr",
     "output_type": "stream",
     "text": [
      " 92%|█████████▏| 83/90 [15:52<01:16, 10.87s/it]"
     ]
    },
    {
     "name": "stdout",
     "output_type": "stream",
     "text": [
      "  Result: Elite\n",
      "  Explanation: Demetrius of Phalerum was born in Phalerum, a region of ancient Athens, not Egypt. He was born into ...\n",
      "  Sources: \"Demetrius of Phalerum (Texts, Translations, and Commentary)\" by Douglas S. Harvey and Robert W. Wal...\n",
      "\n",
      "Processing (84/90): Heraclitus (ID: Q41155), born -534 in Turkey\n"
     ]
    },
    {
     "name": "stderr",
     "output_type": "stream",
     "text": [
      " 93%|█████████▎| 84/90 [16:02<01:03, 10.64s/it]"
     ]
    },
    {
     "name": "stdout",
     "output_type": "stream",
     "text": [
      "  Result: Elite\n",
      "  Explanation: Heraclitus was born into an aristocratic family in the city of Ephesus, which was then part of the P...\n",
      "  Sources: Diogenes Laërtius, Lives of the Eminent Philosophers, IX.1; Charles Kahn, The Art and Thought of Her...\n",
      "\n",
      "Processing (85/90): Nonnus of Panopolis (ID: Q312916), born 500 in Egypt\n"
     ]
    },
    {
     "name": "stderr",
     "output_type": "stream",
     "text": [
      " 94%|█████████▍| 85/90 [16:12<00:52, 10.57s/it]"
     ]
    },
    {
     "name": "stdout",
     "output_type": "stream",
     "text": [
      "  Result: None\n",
      "  Explanation: The birth circumstances and family background of Nonnus of Panopolis are largely unknown. Nonnus was...\n",
      "  Sources: The primary source for information about Nonnus is his own work, the Dionysiaca, but this does not p...\n",
      "\n",
      "Processing (86/90): Hypatia (ID: Q11903), born 360 in Egypt\n"
     ]
    },
    {
     "name": "stderr",
     "output_type": "stream",
     "text": [
      " 96%|█████████▌| 86/90 [16:22<00:41, 10.34s/it]"
     ]
    },
    {
     "name": "stdout",
     "output_type": "stream",
     "text": [
      "  Result: Elite\n",
      "  Explanation: Hypatia was born into a family of considerable social standing. Her father, Theon of Alexandria, was...\n",
      "  Sources: \"Hypatia of Alexandria\" by Maria Dzielska, \"The Life of Hypatia\" by Socrates Scholasticus, \"Theon of...\n",
      "\n",
      "Processing (87/90): John Chrysostom (ID: Q43706), born 349 in Turkey\n"
     ]
    },
    {
     "name": "stderr",
     "output_type": "stream",
     "text": [
      " 97%|█████████▋| 87/90 [16:35<00:32, 10.96s/it]"
     ]
    },
    {
     "name": "stdout",
     "output_type": "stream",
     "text": [
      "  Result: Elite\n",
      "  Explanation: John Chrysostom was born into a wealthy Christian family in Antioch, which was a significant city in...\n",
      "  Sources: \"John Chrysostom and the Jews: Rhetoric and Reality in the Late 4th Century\" by Robert L. Wilken, \"J...\n",
      "\n",
      "Processing (88/90): Ephrem the Syrian (ID: Q200608), born 306 in Turkey\n"
     ]
    },
    {
     "name": "stderr",
     "output_type": "stream",
     "text": [
      " 98%|█████████▊| 88/90 [16:45<00:21, 10.81s/it]"
     ]
    },
    {
     "name": "stdout",
     "output_type": "stream",
     "text": [
      "  Result: None\n",
      "  Explanation: The birth circumstances and family background of Ephrem the Syrian are not well-documented. The prim...\n",
      "  Sources: \"St. Ephraem.\" The Catholic Encyclopedia. Vol. 5. New York: Robert Appleton Company, 1909; \"Ephrem t...\n",
      "\n",
      "Processing (89/90): Sima Qian (ID: Q9372), born -144 in China\n"
     ]
    },
    {
     "name": "stderr",
     "output_type": "stream",
     "text": [
      " 99%|█████████▉| 89/90 [16:57<00:11, 11.19s/it]"
     ]
    },
    {
     "name": "stdout",
     "output_type": "stream",
     "text": [
      "  Result: Elite\n",
      "  Explanation: Sima Qian was born into a family of high social standing in the Han Dynasty. His father, Sima Tan, w...\n",
      "  Sources: \"Records of the Grand Historian\" by Sima Qian, \"The Grand Scribe's Records, Volume I: The Basic Anna...\n",
      "\n",
      "Processing (90/90): Zhuangzi (ID: Q47739), born -368 in China\n"
     ]
    },
    {
     "name": "stderr",
     "output_type": "stream",
     "text": [
      "100%|██████████| 90/90 [17:10<00:00, 11.45s/it]"
     ]
    },
    {
     "name": "stdout",
     "output_type": "stream",
     "text": [
      "  Result: None\n",
      "  Explanation: The birth circumstances and family background of Zhuangzi, also known as Zhuang Zhou, are not well-d...\n",
      "  Sources: The primary source of information about Zhuangzi is the text known as the \"Zhuangzi,\" which he himse...\n"
     ]
    },
    {
     "name": "stderr",
     "output_type": "stream",
     "text": [
      "\n"
     ]
    }
   ],
   "source": [
    "results = process_authors(balanced_sample)\n",
    "\n",
    "#authors = list(balanced_sample['individual_name'])\n",
    "#authors = authors[:10]\n",
    "\n",
    "# results = process_authors(authors)"
   ]
  },
  {
   "cell_type": "code",
   "execution_count": 141,
   "metadata": {},
   "outputs": [],
   "source": [
    "df_final = pd.DataFrame(results).T.reset_index()\n",
    "df_final = df_final.rename(columns={'index':'individual_wikidata_id'})\n",
    "df_final.to_csv('data/authors_social_origins.csv', index=False)"
   ]
  },
  {
   "cell_type": "code",
   "execution_count": null,
   "metadata": {},
   "outputs": [],
   "source": []
  }
 ],
 "metadata": {
  "kernelspec": {
   "display_name": ".venv",
   "language": "python",
   "name": "python3"
  },
  "language_info": {
   "codemirror_mode": {
    "name": "ipython",
    "version": 3
   },
   "file_extension": ".py",
   "mimetype": "text/x-python",
   "name": "python",
   "nbconvert_exporter": "python",
   "pygments_lexer": "ipython3",
   "version": "3.11.7"
  }
 },
 "nbformat": 4,
 "nbformat_minor": 2
}
