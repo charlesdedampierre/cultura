{
   "cells": [
      {
         "cell_type": "code",
         "execution_count": 1,
         "metadata": {},
         "outputs": [
            {
               "name": "stdout",
               "output_type": "stream",
               "text": [
                  "Unique individuals: 172951\n"
               ]
            }
         ],
         "source": [
            "import pandas as pd\n",
            "from dotenv import load_dotenv\n",
            "import os\n",
            "import sqlite3\n",
            "\n",
            "# Load environment variables\n",
            "load_dotenv()\n",
            "\n",
            "# Define paths\n",
            "DATA_PATH = \"db_extract\"\n",
            "DB_PATH = os.getenv(\"DB_PATH\")\n",
            "\n",
            "# Connect to the database\n",
            "conn = sqlite3.connect(DB_PATH)\n",
            "\n",
            "# Ensure the data path exists\n",
            "if not os.path.exists(DATA_PATH):\n",
            "    os.makedirs(DATA_PATH)\n",
            "\n",
            "# Load and process the individuals' data\n",
            "df = pd.read_csv(f\"{DATA_PATH}/df_individuals_score.csv\", index_col=[0])\n",
            "print(f\"Unique individuals: {len(set(df.individual_wikidata_id))}\")"
         ]
      },
      {
         "cell_type": "markdown",
         "metadata": {},
         "source": [
            "### Load individuals with works"
         ]
      },
      {
         "cell_type": "code",
         "execution_count": 2,
         "metadata": {},
         "outputs": [],
         "source": [
            "# Load works of individuals and process data\n",
            "\n",
            "# Load works data\n",
            "df_ind_works = pd.read_sql_query(\"SELECT * FROM individual_created_work\", conn)\n",
            "\n",
            "# Count works per individual\n",
            "df_count_work = df_ind_works.groupby(\"individual_wikidata_id\")[\"work_wikidata_id\"].count().rename(\"count_works\").reset_index()\n",
            "\n",
            "# Merge with original data and clean up\n",
            "df_final = pd.merge(df, df_count_work, on=\"individual_wikidata_id\", how=\"left\").fillna(0).drop('productive_year', axis=1)\n",
            "\n",
            "# Save the final data\n",
            "df_final.to_csv(DATA_PATH + \"/df_indi_works.csv\")"
         ]
      },
      {
         "cell_type": "code",
         "execution_count": null,
         "metadata": {},
         "outputs": [],
         "source": []
      },
      {
         "cell_type": "code",
         "execution_count": 3,
         "metadata": {},
         "outputs": [
            {
               "name": "stdout",
               "output_type": "stream",
               "text": [
                  "172951\n"
               ]
            }
         ],
         "source": [
            "print(len(set(df_final.individual_wikidata_id)))"
         ]
      },
      {
         "cell_type": "code",
         "execution_count": 4,
         "metadata": {},
         "outputs": [],
         "source": [
            "# Filter and count individuals with 0 or 1 work\n",
            "filtered_individuals = len(set(df_final[df_final['count_works'].isin([0,1])].individual_wikidata_id))\n",
            "\n",
            "# Load gender data and merge\n",
            "df_gender = pd.read_sql_query(\"SELECT * FROM individual_gender\", conn)\n",
            "df_final_gender = pd.merge(df_gender[['individual_wikidata_id', 'gender']], df_final, on='individual_wikidata_id')\n",
            "df_final_gender.to_csv(DATA_PATH + \"/df_indi_works_gender.csv\")\n"
         ]
      },
      {
         "cell_type": "code",
         "execution_count": 5,
         "metadata": {},
         "outputs": [
            {
               "data": {
                  "text/plain": [
                     "1102"
                  ]
               },
               "execution_count": 5,
               "metadata": {},
               "output_type": "execute_result"
            }
         ],
         "source": [
            "# Load occupations data and process\n",
            "df_occupations = pd.read_sql_query(\"SELECT * FROM individual_occupations\", conn)\n",
            "len(set(df_occupations.occupations_name))"
         ]
      },
      {
         "cell_type": "code",
         "execution_count": 6,
         "metadata": {},
         "outputs": [],
         "source": [
            "df_final.to_csv(DATA_PATH + \"/df_indi_works.csv\")"
         ]
      },
      {
         "cell_type": "code",
         "execution_count": 7,
         "metadata": {},
         "outputs": [],
         "source": [
            "# Define occupation categories\n",
            "occupation_categories = {\n",
            "    'painter': 'Painter',\n",
            "    'poet': 'Writer',\n",
            "    'composer': 'Musician',\n",
            "    'historian': 'Writer',\n",
            "    'theologian': 'Writer',\n",
            "    'architect': 'Architect',\n",
            "    'sculptor': 'Sculptor',\n",
            "    'translator': 'Writer',\n",
            "    'botanist': 'Writer',\n",
            "    'philosopher': 'Writer',\n",
            "    'drawer': 'Painter',\n",
            "    'mathematician': 'Writer',\n",
            "    'engraver': 'Sculptor',\n",
            "    'playwright': 'Performing Artist',\n",
            "    'singer': 'Musician',\n",
            "    'musician': 'Musician',\n",
            "    'chemist': 'Writer',\n",
            "    'linguist': 'Writer',\n",
            "    'organist': 'Musician',\n",
            "    'astronomer': 'Writer',\n",
            "    'entomologist': 'Writer',\n",
            "    'editor': 'Writer',\n",
            "    'philologist': 'Writer',\n",
            "    'stage actor': 'Performing Artist',\n",
            "    'archaeologist': 'Writer',\n",
            "    'naturalist': 'Writer',\n",
            "    'printmaker': 'Painter',\n",
            "    'physicist': 'Writer',\n",
            "    'opera singer': 'Musician',\n",
            "    'novelist': 'Writer',\n",
            "    'conductor': 'Musician',\n",
            "    'classical philologist': 'Writer',\n",
            "    'cartographer': 'Writer',\n",
            "    'pianist': 'Musician',\n",
            "    'economist': 'Writer',\n",
            "    'copperplate engraver': 'Sculptor',\n",
            "    'illustrator': 'Painter',\n",
            "    'geologist': 'Writer',\n",
            "    'zoologist': 'Writer',\n",
            "    'scientific illustrator': 'Painter',\n",
            "    'scientist': 'Writer',\n",
            "    'geographer': 'Writer',\n",
            "    'art historian': 'Painter',\n",
            "    'violinist': 'Musician'\n",
            "}\n",
            "\n",
            "df_occupations['occupation'] = df_occupations['occupations_name'].apply(lambda x: occupation_categories.get(x, None))\n",
            "df_occupations = df_occupations.dropna()\n",
            "\n"
         ]
      },
      {
         "cell_type": "code",
         "execution_count": 19,
         "metadata": {},
         "outputs": [
            {
               "data": {
                  "text/html": [
                     "<div>\n",
                     "<style scoped>\n",
                     "    .dataframe tbody tr th:only-of-type {\n",
                     "        vertical-align: middle;\n",
                     "    }\n",
                     "\n",
                     "    .dataframe tbody tr th {\n",
                     "        vertical-align: top;\n",
                     "    }\n",
                     "\n",
                     "    .dataframe thead th {\n",
                     "        text-align: right;\n",
                     "    }\n",
                     "</style>\n",
                     "<table border=\"1\" class=\"dataframe\">\n",
                     "  <thead>\n",
                     "    <tr style=\"text-align: right;\">\n",
                     "      <th></th>\n",
                     "      <th>count</th>\n",
                     "      <th>occupations_name</th>\n",
                     "      <th>percent</th>\n",
                     "    </tr>\n",
                     "    <tr>\n",
                     "      <th>occupation</th>\n",
                     "      <th></th>\n",
                     "      <th></th>\n",
                     "      <th></th>\n",
                     "    </tr>\n",
                     "  </thead>\n",
                     "  <tbody>\n",
                     "    <tr>\n",
                     "      <th>Architect</th>\n",
                     "      <td>8732</td>\n",
                     "      <td>architect</td>\n",
                     "      <td>6.347037</td>\n",
                     "    </tr>\n",
                     "    <tr>\n",
                     "      <th>Musician</th>\n",
                     "      <td>15674</td>\n",
                     "      <td>pianist | opera singer | violinist | organist ...</td>\n",
                     "      <td>11.392976</td>\n",
                     "    </tr>\n",
                     "    <tr>\n",
                     "      <th>Painter</th>\n",
                     "      <td>36928</td>\n",
                     "      <td>scientific illustrator | printmaker | art hist...</td>\n",
                     "      <td>26.841891</td>\n",
                     "    </tr>\n",
                     "    <tr>\n",
                     "      <th>Performing Artist</th>\n",
                     "      <td>4709</td>\n",
                     "      <td>stage actor | playwright</td>\n",
                     "      <td>3.422835</td>\n",
                     "    </tr>\n",
                     "    <tr>\n",
                     "      <th>Sculptor</th>\n",
                     "      <td>10670</td>\n",
                     "      <td>copperplate engraver | engraver | sculptor</td>\n",
                     "      <td>7.755713</td>\n",
                     "    </tr>\n",
                     "    <tr>\n",
                     "      <th>Writer</th>\n",
                     "      <td>60863</td>\n",
                     "      <td>chemist | zoologist | editor | economist | poe...</td>\n",
                     "      <td>44.239548</td>\n",
                     "    </tr>\n",
                     "  </tbody>\n",
                     "</table>\n",
                     "</div>"
                  ],
                  "text/plain": [
                     "                   count                                   occupations_name  \\\n",
                     "occupation                                                                    \n",
                     "Architect           8732                                          architect   \n",
                     "Musician           15674  pianist | opera singer | violinist | organist ...   \n",
                     "Painter            36928  scientific illustrator | printmaker | art hist...   \n",
                     "Performing Artist   4709                           stage actor | playwright   \n",
                     "Sculptor           10670         copperplate engraver | engraver | sculptor   \n",
                     "Writer             60863  chemist | zoologist | editor | economist | poe...   \n",
                     "\n",
                     "                     percent  \n",
                     "occupation                    \n",
                     "Architect           6.347037  \n",
                     "Musician           11.392976  \n",
                     "Painter            26.841891  \n",
                     "Performing Artist   3.422835  \n",
                     "Sculptor            7.755713  \n",
                     "Writer             44.239548  "
                  ]
               },
               "execution_count": 19,
               "metadata": {},
               "output_type": "execute_result"
            }
         ],
         "source": [
            "indivi_species = pd.read_csv('unseen_species_model/individuals_into_unseen_plus_>3.csv')\n",
            "indivi_species_list = list(set(indivi_species['individual_wikidata_id']))\n",
            "\n",
            "agg_df = df_occupations[df_occupations['individual_wikidata_id'].isin(indivi_species_list)].groupby('occupation').agg({\n",
            "    'individual_wikidata_id':  pd.Series.nunique,\n",
            "    'occupations_name': lambda x: \" | \".join(list(set(x)))\n",
            "}).rename(columns={'individual_wikidata_id': 'count'})\n",
            "\n",
            "# Calculate percentage of total individuals\n",
            "total_individuals = agg_df['count'].sum()\n",
            "agg_df['percent'] = (agg_df['count'] / total_individuals) * 100\n",
            "\n",
            "agg_df\n"
         ]
      },
      {
         "cell_type": "code",
         "execution_count": null,
         "metadata": {},
         "outputs": [],
         "source": []
      },
      {
         "cell_type": "code",
         "execution_count": null,
         "metadata": {},
         "outputs": [],
         "source": [
            "df_unique_occupations = df_occupations[['individual_wikidata_id', 'occupation']].drop_duplicates()\n",
            "df_unique_occupations = df_unique_occupations.sample(frac=1, random_state=42).reset_index(drop=True)\n",
            "df_unique_occupations = df_unique_occupations.drop_duplicates('individual_wikidata_id', keep = 'first')\n",
            "\n",
            "df_final_occupation = pd.merge(df_final, df_unique_occupations, on = 'individual_wikidata_id')\n",
            "df_final_occupation = df_final_occupation[['individual_wikidata_id', 'decade', 'region_name', 'count_works', 'occupation']].drop_duplicates()\n",
            "df_final_occupation.to_csv(DATA_PATH + \"/df_indi_works_occupations.csv\")"
         ]
      },
      {
         "cell_type": "code",
         "execution_count": null,
         "metadata": {},
         "outputs": [],
         "source": []
      },
      {
         "cell_type": "code",
         "execution_count": 8,
         "metadata": {},
         "outputs": [
            {
               "data": {
                  "text/html": [
                     "<div>\n",
                     "<style scoped>\n",
                     "    .dataframe tbody tr th:only-of-type {\n",
                     "        vertical-align: middle;\n",
                     "    }\n",
                     "\n",
                     "    .dataframe tbody tr th {\n",
                     "        vertical-align: top;\n",
                     "    }\n",
                     "\n",
                     "    .dataframe thead th {\n",
                     "        text-align: right;\n",
                     "    }\n",
                     "</style>\n",
                     "<table border=\"1\" class=\"dataframe\">\n",
                     "  <thead>\n",
                     "    <tr style=\"text-align: right;\">\n",
                     "      <th></th>\n",
                     "      <th>individual_wikidata_id</th>\n",
                     "      <th>decade</th>\n",
                     "      <th>region_name</th>\n",
                     "      <th>count_works</th>\n",
                     "      <th>occupation</th>\n",
                     "    </tr>\n",
                     "  </thead>\n",
                     "  <tbody>\n",
                     "    <tr>\n",
                     "      <th>0</th>\n",
                     "      <td>Q1000034</td>\n",
                     "      <td>1850</td>\n",
                     "      <td>German world</td>\n",
                     "      <td>0.0</td>\n",
                     "      <td>Writer</td>\n",
                     "    </tr>\n",
                     "    <tr>\n",
                     "      <th>1</th>\n",
                     "      <td>Q1000034</td>\n",
                     "      <td>1850</td>\n",
                     "      <td>Germany</td>\n",
                     "      <td>0.0</td>\n",
                     "      <td>Writer</td>\n",
                     "    </tr>\n",
                     "    <tr>\n",
                     "      <th>2</th>\n",
                     "      <td>Q1000034</td>\n",
                     "      <td>1850</td>\n",
                     "      <td>Northwestern Europe</td>\n",
                     "      <td>0.0</td>\n",
                     "      <td>Writer</td>\n",
                     "    </tr>\n",
                     "    <tr>\n",
                     "      <th>3</th>\n",
                     "      <td>Q1000034</td>\n",
                     "      <td>1850</td>\n",
                     "      <td>Western Europe</td>\n",
                     "      <td>0.0</td>\n",
                     "      <td>Writer</td>\n",
                     "    </tr>\n",
                     "    <tr>\n",
                     "      <th>4</th>\n",
                     "      <td>Q100022441</td>\n",
                     "      <td>1770</td>\n",
                     "      <td>Northern France</td>\n",
                     "      <td>0.0</td>\n",
                     "      <td>Performing Artist</td>\n",
                     "    </tr>\n",
                     "    <tr>\n",
                     "      <th>...</th>\n",
                     "      <td>...</td>\n",
                     "      <td>...</td>\n",
                     "      <td>...</td>\n",
                     "      <td>...</td>\n",
                     "      <td>...</td>\n",
                     "    </tr>\n",
                     "    <tr>\n",
                     "      <th>474182</th>\n",
                     "      <td>Q999920</td>\n",
                     "      <td>1790</td>\n",
                     "      <td>Northwestern Europe</td>\n",
                     "      <td>2.0</td>\n",
                     "      <td>Painter</td>\n",
                     "    </tr>\n",
                     "    <tr>\n",
                     "      <th>474183</th>\n",
                     "      <td>Q999920</td>\n",
                     "      <td>1790</td>\n",
                     "      <td>Western Europe</td>\n",
                     "      <td>2.0</td>\n",
                     "      <td>Painter</td>\n",
                     "    </tr>\n",
                     "    <tr>\n",
                     "      <th>474184</th>\n",
                     "      <td>Q999983</td>\n",
                     "      <td>1340</td>\n",
                     "      <td>France</td>\n",
                     "      <td>0.0</td>\n",
                     "      <td>Writer</td>\n",
                     "    </tr>\n",
                     "    <tr>\n",
                     "      <th>474185</th>\n",
                     "      <td>Q999983</td>\n",
                     "      <td>1340</td>\n",
                     "      <td>Northwestern Europe</td>\n",
                     "      <td>0.0</td>\n",
                     "      <td>Writer</td>\n",
                     "    </tr>\n",
                     "    <tr>\n",
                     "      <th>474186</th>\n",
                     "      <td>Q999983</td>\n",
                     "      <td>1340</td>\n",
                     "      <td>Western Europe</td>\n",
                     "      <td>0.0</td>\n",
                     "      <td>Writer</td>\n",
                     "    </tr>\n",
                     "  </tbody>\n",
                     "</table>\n",
                     "<p>473969 rows × 5 columns</p>\n",
                     "</div>"
                  ],
                  "text/plain": [
                     "       individual_wikidata_id  decade          region_name  count_works  \\\n",
                     "0                    Q1000034    1850         German world          0.0   \n",
                     "1                    Q1000034    1850              Germany          0.0   \n",
                     "2                    Q1000034    1850  Northwestern Europe          0.0   \n",
                     "3                    Q1000034    1850       Western Europe          0.0   \n",
                     "4                  Q100022441    1770      Northern France          0.0   \n",
                     "...                       ...     ...                  ...          ...   \n",
                     "474182                Q999920    1790  Northwestern Europe          2.0   \n",
                     "474183                Q999920    1790       Western Europe          2.0   \n",
                     "474184                Q999983    1340               France          0.0   \n",
                     "474185                Q999983    1340  Northwestern Europe          0.0   \n",
                     "474186                Q999983    1340       Western Europe          0.0   \n",
                     "\n",
                     "               occupation  \n",
                     "0                  Writer  \n",
                     "1                  Writer  \n",
                     "2                  Writer  \n",
                     "3                  Writer  \n",
                     "4       Performing Artist  \n",
                     "...                   ...  \n",
                     "474182            Painter  \n",
                     "474183            Painter  \n",
                     "474184             Writer  \n",
                     "474185             Writer  \n",
                     "474186             Writer  \n",
                     "\n",
                     "[473969 rows x 5 columns]"
                  ]
               },
               "execution_count": 8,
               "metadata": {},
               "output_type": "execute_result"
            }
         ],
         "source": [
            "df_final_occupation"
         ]
      },
      {
         "cell_type": "code",
         "execution_count": 9,
         "metadata": {},
         "outputs": [
            {
               "data": {
                  "text/plain": [
                     "139206"
                  ]
               },
               "execution_count": 9,
               "metadata": {},
               "output_type": "execute_result"
            }
         ],
         "source": [
            "# Count the number of unique individual Wikidata IDs in the final occupation dataframe\n",
            "unique_individuals = df_final_occupation['individual_wikidata_id'].nunique()\n",
            "unique_individuals"
         ]
      },
      {
         "cell_type": "code",
         "execution_count": 10,
         "metadata": {},
         "outputs": [
            {
               "data": {
                  "text/plain": [
                     "occupation\n",
                     "Writer               103061\n",
                     "Painter               53245\n",
                     "Musician              29267\n",
                     "Sculptor              13925\n",
                     "Architect             11599\n",
                     "Performing Artist      5736\n",
                     "Name: count, dtype: int64"
                  ]
               },
               "execution_count": 10,
               "metadata": {},
               "output_type": "execute_result"
            }
         ],
         "source": [
            "df_occupations.occupation.value_counts()\n"
         ]
      }
   ],
   "metadata": {
      "kernelspec": {
         "display_name": ".venv",
         "language": "python",
         "name": "python3"
      },
      "language_info": {
         "codemirror_mode": {
            "name": "ipython",
            "version": 3
         },
         "file_extension": ".py",
         "mimetype": "text/x-python",
         "name": "python",
         "nbconvert_exporter": "python",
         "pygments_lexer": "ipython3",
         "version": "3.11.7"
      }
   },
   "nbformat": 4,
   "nbformat_minor": 2
}
