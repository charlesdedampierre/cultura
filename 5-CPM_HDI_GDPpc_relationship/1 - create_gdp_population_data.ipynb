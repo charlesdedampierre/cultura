{
 "cells": [
  {
   "cell_type": "code",
   "execution_count": 30,
   "metadata": {},
   "outputs": [
    {
     "data": {
      "text/plain": [
       "77"
      ]
     },
     "execution_count": 30,
     "metadata": {},
     "output_type": "execute_result"
    }
   ],
   "source": [
    "import pandas as pd\n",
    "pd.options.mode.chained_assignment = None\n",
    "\n",
    "df_gdp = pd.read_excel('data/mpd2023_provisional.xlsx', sheet_name='GDPpc')\n",
    "df_regions = df_gdp[:2]\n",
    "df_regions = df_regions.T\n",
    "df_regions = df_regions[1:]\n",
    "df_regions = df_regions.reset_index()\n",
    "\n",
    "df_regions.columns = ['country_name', 'region', 'iso_a3']\n",
    "\n",
    "df_gfp_values = df_gdp[2:]\n",
    "df_gfp_values = df_gfp_values[~df_gfp_values['GDP pc 2011 prices'].isna()]\n",
    "df_gfp_values = df_gfp_values.set_index('GDP pc 2011 prices')\n",
    "df_gfp_values = df_gfp_values.unstack().reset_index()\n",
    "df_gfp_values.columns = ['country_name', 'year', 'gdp_pc']\n",
    "df_gfp_values = df_gfp_values.dropna()\n",
    "df_gfp_values = df_gfp_values[df_gfp_values['year']<=1900]\n",
    "\n",
    "df_gfp_values = pd.merge(df_gfp_values, df_regions, on = 'country_name')\n",
    "df_gfp_values = df_gfp_values.reset_index(drop=True)\n",
    "df_gfp_values = df_gfp_values.drop(columns=['region'])\n",
    "\n",
    "len(set(df_gfp_values['country_name']))"
   ]
  },
  {
   "cell_type": "code",
   "execution_count": 31,
   "metadata": {},
   "outputs": [
    {
     "data": {
      "text/plain": [
       "['Belgium',\n",
       " 'Switzerland',\n",
       " 'Egypt',\n",
       " 'Spain',\n",
       " 'France',\n",
       " 'Greece',\n",
       " 'Iran (Islamic Republic of)',\n",
       " 'Iraq',\n",
       " 'Israel',\n",
       " 'Italy',\n",
       " 'Jordan',\n",
       " 'Portugal',\n",
       " 'Tunisia',\n",
       " 'Turkey']"
      ]
     },
     "execution_count": 31,
     "metadata": {},
     "output_type": "execute_result"
    }
   ],
   "source": [
    "list(df_gfp_values[df_gfp_values['year']<=10]['country_name'])"
   ]
  },
  {
   "cell_type": "code",
   "execution_count": 32,
   "metadata": {},
   "outputs": [],
   "source": [
    "df_gfp_values[['country_name', 'iso_a3']].drop_duplicates().reset_index(drop=True).to_csv('data/iso.csv')"
   ]
  },
  {
   "cell_type": "markdown",
   "metadata": {},
   "source": [
    "### Load Population"
   ]
  },
  {
   "cell_type": "code",
   "execution_count": 33,
   "metadata": {},
   "outputs": [
    {
     "data": {
      "text/plain": [
       "169"
      ]
     },
     "execution_count": 33,
     "metadata": {},
     "output_type": "execute_result"
    }
   ],
   "source": [
    "df_population = pd.read_excel('data/mpd2023_provisional.xlsx', sheet_name='Population')\n",
    "df_population = df_population[2:]\n",
    "df_population = df_population[~df_population['Population'].isna()]\n",
    "df_population = df_population.set_index('Population')\n",
    "df_population = df_population.unstack().reset_index()\n",
    "df_population.columns = ['country_name', 'year', 'pop']\n",
    "df_population = df_population[df_population['year']<=1900]\n",
    "\n",
    "len(set(df_population['country_name']))"
   ]
  },
  {
   "cell_type": "markdown",
   "metadata": {},
   "source": [
    "### Interpolate Population"
   ]
  },
  {
   "cell_type": "code",
   "execution_count": 34,
   "metadata": {},
   "outputs": [],
   "source": [
    "import itertools\n",
    "\n",
    "all_years = range(1, 1901)\n",
    "all_countries = df_population['country_name'].unique()\n",
    "df_regions_years = pd.DataFrame(list(itertools.product(all_countries, all_years)), columns=['country_name', 'year'])\n",
    "\n",
    "df_population_all = pd.merge(df_population, df_regions_years, on = ['country_name', 'year'], how = 'outer')\n",
    "df_population_all = df_population_all.sort_values(by=['country_name', 'year'])\n",
    "\n",
    "# Bfore 1800, interloate linearly, after 1800, interpolate exponentially\n",
    "#linear_interpolated = df_population_all[df_population_all['year'] <= 1800]\n",
    "linear_interpolated = df_population_all.copy()"
   ]
  },
  {
   "cell_type": "markdown",
   "metadata": {},
   "source": [
    "### Linear Interpolation Before 1800"
   ]
  },
  {
   "cell_type": "code",
   "execution_count": 35,
   "metadata": {},
   "outputs": [],
   "source": [
    "df_int = []\n",
    "for country in linear_interpolated['country_name'].unique():\n",
    "    res= linear_interpolated[linear_interpolated['country_name']==country]\n",
    "    res['pop'] = pd.to_numeric(res['pop'], errors='coerce')\n",
    "    res['pop'] = res['pop'].interpolate(how = 'linear')\n",
    "    df_int.append(res)\n",
    "\n",
    "linear_interpolated_final = pd.concat([x for x in df_int])\n",
    "linear_interpolated_final = linear_interpolated_final.dropna().reset_index(drop=True)"
   ]
  },
  {
   "cell_type": "code",
   "execution_count": 36,
   "metadata": {},
   "outputs": [
    {
     "data": {
      "text/html": [
       "<div>\n",
       "<style scoped>\n",
       "    .dataframe tbody tr th:only-of-type {\n",
       "        vertical-align: middle;\n",
       "    }\n",
       "\n",
       "    .dataframe tbody tr th {\n",
       "        vertical-align: top;\n",
       "    }\n",
       "\n",
       "    .dataframe thead th {\n",
       "        text-align: right;\n",
       "    }\n",
       "</style>\n",
       "<table border=\"1\" class=\"dataframe\">\n",
       "  <thead>\n",
       "    <tr style=\"text-align: right;\">\n",
       "      <th></th>\n",
       "      <th>country_name</th>\n",
       "      <th>year</th>\n",
       "      <th>pop</th>\n",
       "    </tr>\n",
       "  </thead>\n",
       "  <tbody>\n",
       "    <tr>\n",
       "      <th>15705</th>\n",
       "      <td>China</td>\n",
       "      <td>1100</td>\n",
       "      <td>67800.0</td>\n",
       "    </tr>\n",
       "  </tbody>\n",
       "</table>\n",
       "</div>"
      ],
      "text/plain": [
       "      country_name  year      pop\n",
       "15705        China  1100  67800.0"
      ]
     },
     "execution_count": 36,
     "metadata": {},
     "output_type": "execute_result"
    }
   ],
   "source": [
    "test = linear_interpolated_final.copy()\n",
    "test = test[test['country_name']=='China']\n",
    "test[test['year']==1100]"
   ]
  },
  {
   "cell_type": "markdown",
   "metadata": {},
   "source": [
    "### Concat the two datasets"
   ]
  },
  {
   "cell_type": "code",
   "execution_count": 37,
   "metadata": {},
   "outputs": [],
   "source": [
    "df_population_interpolated = linear_interpolated_final.copy()\n",
    "# df_population_interpolated = pd.concat([linear_interpolated_final, expo_interpolated_final])\n",
    "df_population_interpolated = df_population_interpolated.dropna()\n",
    "df_population_interpolated.to_csv('data/population_interpolated.csv')"
   ]
  },
  {
   "cell_type": "markdown",
   "metadata": {},
   "source": [
    "### Merge population and GDP per capita"
   ]
  },
  {
   "cell_type": "code",
   "execution_count": 38,
   "metadata": {},
   "outputs": [],
   "source": [
    "df_gdp_population = pd.merge(df_population_interpolated, df_gfp_values, on = ['country_name', 'year'], how = 'right')"
   ]
  },
  {
   "cell_type": "markdown",
   "metadata": {},
   "source": [
    "### Regions Analysis"
   ]
  },
  {
   "cell_type": "code",
   "execution_count": 39,
   "metadata": {},
   "outputs": [
    {
     "data": {
      "text/html": [
       "<div>\n",
       "<style scoped>\n",
       "    .dataframe tbody tr th:only-of-type {\n",
       "        vertical-align: middle;\n",
       "    }\n",
       "\n",
       "    .dataframe tbody tr th {\n",
       "        vertical-align: top;\n",
       "    }\n",
       "\n",
       "    .dataframe thead th {\n",
       "        text-align: right;\n",
       "    }\n",
       "</style>\n",
       "<table border=\"1\" class=\"dataframe\">\n",
       "  <thead>\n",
       "    <tr style=\"text-align: right;\">\n",
       "      <th></th>\n",
       "      <th>region</th>\n",
       "      <th>iso_a3</th>\n",
       "    </tr>\n",
       "  </thead>\n",
       "  <tbody>\n",
       "    <tr>\n",
       "      <th>44</th>\n",
       "      <td>Chinese world</td>\n",
       "      <td>MNG</td>\n",
       "    </tr>\n",
       "    <tr>\n",
       "      <th>45</th>\n",
       "      <td>Chinese world</td>\n",
       "      <td>TWN</td>\n",
       "    </tr>\n",
       "    <tr>\n",
       "      <th>46</th>\n",
       "      <td>Chinese world</td>\n",
       "      <td>CHN</td>\n",
       "    </tr>\n",
       "  </tbody>\n",
       "</table>\n",
       "</div>"
      ],
      "text/plain": [
       "           region iso_a3\n",
       "44  Chinese world    MNG\n",
       "45  Chinese world    TWN\n",
       "46  Chinese world    CHN"
      ]
     },
     "execution_count": 39,
     "metadata": {},
     "output_type": "execute_result"
    }
   ],
   "source": [
    "# load regions and equivalent country_name\n",
    "df_regions_culture = pd.read_csv('data/ENS - Cultural Index - Countries Databases - consolidate_table.csv')\n",
    "df_regions_culture = df_regions_culture[['region', 'iso_a3']].drop_duplicates()\n",
    "list(set(df_regions_culture.region))\n",
    "df_regions_culture[df_regions_culture['region']=='Chinese world']"
   ]
  },
  {
   "cell_type": "code",
   "execution_count": 40,
   "metadata": {},
   "outputs": [],
   "source": [
    "keep_regions_list = ['Italy',\n",
    " 'Portugal', #OK\n",
    " 'Low countries', # Weighted Average of Belgium and Netherlands normalized by population\n",
    " 'Nordic countries', \n",
    " 'Indian world',\n",
    " 'Chinese world',\n",
    " 'Korea',\n",
    " 'Arabic world',\n",
    " 'Greek World',\n",
    " 'Eastern Europe',\n",
    " 'France',\n",
    " 'Persian world',\n",
    " 'Japan',\n",
    " 'Latin World',\n",
    " 'Spain',\n",
    " 'United Kingdom',\n",
    " 'Balkans',\n",
    " 'German world']"
   ]
  },
  {
   "cell_type": "code",
   "execution_count": 41,
   "metadata": {},
   "outputs": [],
   "source": [
    "df_gdp_pop_regions = pd.merge(df_gdp_population, df_regions_culture, on = ['iso_a3'])\n",
    "df_gdp_pop_regions = df_gdp_pop_regions[df_gdp_pop_regions['region'].isin(keep_regions_list)]"
   ]
  },
  {
   "cell_type": "code",
   "execution_count": 42,
   "metadata": {},
   "outputs": [],
   "source": [
    "df_gdp_weighted = df_gdp_pop_regions.groupby(['region', 'year']).apply(lambda x: (x['gdp_pc'] * x['pop']).sum() / x['pop'].sum())\n",
    "df_gdp_weighted = df_gdp_weighted.reset_index()\n",
    "df_gdp_weighted = df_gdp_weighted.rename(columns={0: 'gdp_pc_weighted'})\n",
    "\n",
    "# df_gdp_weighted = df_gdp_weighted[df_gdp_weighted['year']>1]\n",
    "\n",
    "# # Step 1: Round the 'year' column to the nearest multiple of 50\n",
    "# df_gdp_weighted = df_gdp_weighted[df_gdp_weighted['year']>=1000]\n",
    "# df_gdp_weighted = df_gdp_weighted[df_gdp_weighted['year']<=1880]\n",
    "\n",
    "#df_gdp_weighted['decade'] = (df_gdp_weighted['year'] // 50) * 50\n",
    "\n",
    "df_gdp_weighted['decade'] = df_gdp_weighted['year'].apply(lambda x: round(x / 50) * 50)\n",
    "df_gdp_weighted = df_gdp_weighted.groupby(['region', 'decade'])['gdp_pc_weighted'].mean().reset_index()\n",
    "\n",
    "df_gdp_pop_regions['decade'] = df_gdp_pop_regions['year'].apply(lambda x: round(x / 50) * 50)\n",
    "df_gdp_pop_regions = df_gdp_pop_regions.groupby(['region', 'decade'])['pop'].mean().reset_index()\n",
    "\n",
    "# Add population\n",
    "\n",
    "df_pop_regions = df_gdp_pop_regions.groupby(['region', 'decade']).apply(lambda x: x['pop'].sum()).reset_index()\n",
    "df_pop_regions = df_pop_regions.rename(columns={0: 'pop'})\n",
    "\n",
    "\n",
    "# Weighted GDP and population\n",
    "df_gdp_weighted_pop = pd.merge(df_gdp_weighted, df_pop_regions, on = ['region', 'decade'])\n",
    "df_gdp_weighted_pop.to_csv('data/gdp_weighted_pop_fifty.csv', index=False)"
   ]
  },
  {
   "cell_type": "markdown",
   "metadata": {},
   "source": [
    "### Every 10 years"
   ]
  },
  {
   "cell_type": "code",
   "execution_count": 43,
   "metadata": {},
   "outputs": [
    {
     "data": {
      "text/html": [
       "<div>\n",
       "<style scoped>\n",
       "    .dataframe tbody tr th:only-of-type {\n",
       "        vertical-align: middle;\n",
       "    }\n",
       "\n",
       "    .dataframe tbody tr th {\n",
       "        vertical-align: top;\n",
       "    }\n",
       "\n",
       "    .dataframe thead th {\n",
       "        text-align: right;\n",
       "    }\n",
       "</style>\n",
       "<table border=\"1\" class=\"dataframe\">\n",
       "  <thead>\n",
       "    <tr style=\"text-align: right;\">\n",
       "      <th></th>\n",
       "      <th>region</th>\n",
       "      <th>year</th>\n",
       "      <th>gdp_pc_weighted</th>\n",
       "    </tr>\n",
       "  </thead>\n",
       "  <tbody>\n",
       "    <tr>\n",
       "      <th>0</th>\n",
       "      <td>Arabic world</td>\n",
       "      <td>1</td>\n",
       "      <td>1116.000000</td>\n",
       "    </tr>\n",
       "    <tr>\n",
       "      <th>1</th>\n",
       "      <td>Arabic world</td>\n",
       "      <td>730</td>\n",
       "      <td>1243.213115</td>\n",
       "    </tr>\n",
       "    <tr>\n",
       "      <th>10</th>\n",
       "      <td>Balkans</td>\n",
       "      <td>1</td>\n",
       "      <td>1275.000000</td>\n",
       "    </tr>\n",
       "    <tr>\n",
       "      <th>130</th>\n",
       "      <td>Eastern Europe</td>\n",
       "      <td>1</td>\n",
       "      <td>1275.000000</td>\n",
       "    </tr>\n",
       "    <tr>\n",
       "      <th>614</th>\n",
       "      <td>France</td>\n",
       "      <td>1</td>\n",
       "      <td>956.000000</td>\n",
       "    </tr>\n",
       "    <tr>\n",
       "      <th>1240</th>\n",
       "      <td>German world</td>\n",
       "      <td>1</td>\n",
       "      <td>956.000000</td>\n",
       "    </tr>\n",
       "    <tr>\n",
       "      <th>1642</th>\n",
       "      <td>Greek World</td>\n",
       "      <td>1</td>\n",
       "      <td>1092.170543</td>\n",
       "    </tr>\n",
       "    <tr>\n",
       "      <th>1643</th>\n",
       "      <td>Greek World</td>\n",
       "      <td>730</td>\n",
       "      <td>1243.213115</td>\n",
       "    </tr>\n",
       "    <tr>\n",
       "      <th>2315</th>\n",
       "      <td>Italy</td>\n",
       "      <td>1</td>\n",
       "      <td>1407.000000</td>\n",
       "    </tr>\n",
       "    <tr>\n",
       "      <th>2423</th>\n",
       "      <td>Japan</td>\n",
       "      <td>730</td>\n",
       "      <td>597.840000</td>\n",
       "    </tr>\n",
       "    <tr>\n",
       "      <th>2457</th>\n",
       "      <td>Latin World</td>\n",
       "      <td>1</td>\n",
       "      <td>1143.250674</td>\n",
       "    </tr>\n",
       "    <tr>\n",
       "      <th>3108</th>\n",
       "      <td>Low countries</td>\n",
       "      <td>1</td>\n",
       "      <td>956.000000</td>\n",
       "    </tr>\n",
       "    <tr>\n",
       "      <th>4258</th>\n",
       "      <td>Persian world</td>\n",
       "      <td>1</td>\n",
       "      <td>1116.000000</td>\n",
       "    </tr>\n",
       "    <tr>\n",
       "      <th>4261</th>\n",
       "      <td>Portugal</td>\n",
       "      <td>1</td>\n",
       "      <td>956.000000</td>\n",
       "    </tr>\n",
       "    <tr>\n",
       "      <th>4621</th>\n",
       "      <td>Spain</td>\n",
       "      <td>1</td>\n",
       "      <td>886.000000</td>\n",
       "    </tr>\n",
       "  </tbody>\n",
       "</table>\n",
       "</div>"
      ],
      "text/plain": [
       "              region  year  gdp_pc_weighted\n",
       "0       Arabic world     1      1116.000000\n",
       "1       Arabic world   730      1243.213115\n",
       "10           Balkans     1      1275.000000\n",
       "130   Eastern Europe     1      1275.000000\n",
       "614           France     1       956.000000\n",
       "1240    German world     1       956.000000\n",
       "1642     Greek World     1      1092.170543\n",
       "1643     Greek World   730      1243.213115\n",
       "2315           Italy     1      1407.000000\n",
       "2423           Japan   730       597.840000\n",
       "2457     Latin World     1      1143.250674\n",
       "3108   Low countries     1       956.000000\n",
       "4258   Persian world     1      1116.000000\n",
       "4261        Portugal     1       956.000000\n",
       "4621           Spain     1       886.000000"
      ]
     },
     "execution_count": 43,
     "metadata": {},
     "output_type": "execute_result"
    }
   ],
   "source": [
    "df_gdp_pop_regions = pd.merge(df_gdp_population, df_regions_culture, on = ['iso_a3'])\n",
    "df_gdp_pop_regions = df_gdp_pop_regions[df_gdp_pop_regions['region'].isin(keep_regions_list)]\n",
    "\n",
    "df_gdp_weighted = df_gdp_pop_regions.groupby(['region', 'year']).apply(lambda x: (x['gdp_pc'] * x['pop']).sum() / x['pop'].sum())\n",
    "df_gdp_weighted = df_gdp_weighted.reset_index()\n",
    "df_gdp_weighted = df_gdp_weighted.rename(columns={0: 'gdp_pc_weighted'})\n",
    "\n",
    "df_gdp_weighted[df_gdp_weighted['year']<1000]"
   ]
  },
  {
   "cell_type": "code",
   "execution_count": 44,
   "metadata": {},
   "outputs": [
    {
     "data": {
      "text/html": [
       "<div>\n",
       "<style scoped>\n",
       "    .dataframe tbody tr th:only-of-type {\n",
       "        vertical-align: middle;\n",
       "    }\n",
       "\n",
       "    .dataframe tbody tr th {\n",
       "        vertical-align: top;\n",
       "    }\n",
       "\n",
       "    .dataframe thead th {\n",
       "        text-align: right;\n",
       "    }\n",
       "</style>\n",
       "<table border=\"1\" class=\"dataframe\">\n",
       "  <thead>\n",
       "    <tr style=\"text-align: right;\">\n",
       "      <th></th>\n",
       "      <th>region</th>\n",
       "      <th>decade</th>\n",
       "      <th>gdp_pc_weighted</th>\n",
       "      <th>pop</th>\n",
       "    </tr>\n",
       "  </thead>\n",
       "  <tbody>\n",
       "    <tr>\n",
       "      <th>0</th>\n",
       "      <td>Arabic world</td>\n",
       "      <td>0</td>\n",
       "      <td>1116.000000</td>\n",
       "      <td>2100.000000</td>\n",
       "    </tr>\n",
       "    <tr>\n",
       "      <th>1</th>\n",
       "      <td>Arabic world</td>\n",
       "      <td>730</td>\n",
       "      <td>1243.213115</td>\n",
       "      <td>3297.297297</td>\n",
       "    </tr>\n",
       "    <tr>\n",
       "      <th>2</th>\n",
       "      <td>Arabic world</td>\n",
       "      <td>1000</td>\n",
       "      <td>1056.285714</td>\n",
       "      <td>3500.000000</td>\n",
       "    </tr>\n",
       "    <tr>\n",
       "      <th>3</th>\n",
       "      <td>Arabic world</td>\n",
       "      <td>1120</td>\n",
       "      <td>1060.638037</td>\n",
       "      <td>3260.000000</td>\n",
       "    </tr>\n",
       "    <tr>\n",
       "      <th>4</th>\n",
       "      <td>Arabic world</td>\n",
       "      <td>1280</td>\n",
       "      <td>1068.000000</td>\n",
       "      <td>4440.000000</td>\n",
       "    </tr>\n",
       "    <tr>\n",
       "      <th>...</th>\n",
       "      <td>...</td>\n",
       "      <td>...</td>\n",
       "      <td>...</td>\n",
       "      <td>...</td>\n",
       "    </tr>\n",
       "    <tr>\n",
       "      <th>698</th>\n",
       "      <td>United Kingdom</td>\n",
       "      <td>1860</td>\n",
       "      <td>5028.818182</td>\n",
       "      <td>28901.909091</td>\n",
       "    </tr>\n",
       "    <tr>\n",
       "      <th>699</th>\n",
       "      <td>United Kingdom</td>\n",
       "      <td>1870</td>\n",
       "      <td>5695.222222</td>\n",
       "      <td>31388.444444</td>\n",
       "    </tr>\n",
       "    <tr>\n",
       "      <th>700</th>\n",
       "      <td>United Kingdom</td>\n",
       "      <td>1880</td>\n",
       "      <td>6045.818182</td>\n",
       "      <td>34527.636364</td>\n",
       "    </tr>\n",
       "    <tr>\n",
       "      <th>701</th>\n",
       "      <td>United Kingdom</td>\n",
       "      <td>1890</td>\n",
       "      <td>6611.666667</td>\n",
       "      <td>37526.666667</td>\n",
       "    </tr>\n",
       "    <tr>\n",
       "      <th>702</th>\n",
       "      <td>United Kingdom</td>\n",
       "      <td>1900</td>\n",
       "      <td>7376.500000</td>\n",
       "      <td>40186.000000</td>\n",
       "    </tr>\n",
       "  </tbody>\n",
       "</table>\n",
       "<p>703 rows × 4 columns</p>\n",
       "</div>"
      ],
      "text/plain": [
       "             region  decade  gdp_pc_weighted           pop\n",
       "0      Arabic world       0      1116.000000   2100.000000\n",
       "1      Arabic world     730      1243.213115   3297.297297\n",
       "2      Arabic world    1000      1056.285714   3500.000000\n",
       "3      Arabic world    1120      1060.638037   3260.000000\n",
       "4      Arabic world    1280      1068.000000   4440.000000\n",
       "..              ...     ...              ...           ...\n",
       "698  United Kingdom    1860      5028.818182  28901.909091\n",
       "699  United Kingdom    1870      5695.222222  31388.444444\n",
       "700  United Kingdom    1880      6045.818182  34527.636364\n",
       "701  United Kingdom    1890      6611.666667  37526.666667\n",
       "702  United Kingdom    1900      7376.500000  40186.000000\n",
       "\n",
       "[703 rows x 4 columns]"
      ]
     },
     "execution_count": 44,
     "metadata": {},
     "output_type": "execute_result"
    }
   ],
   "source": [
    "# df_gdp_weighted = df_gdp_weighted[df_gdp_weighted['year']>1]\n",
    "# # Step 1: Round the 'year' column to the nearest multiple of 50\n",
    "# df_gdp_weighted = df_gdp_weighted[df_gdp_weighted['year']>=1000]\n",
    "# df_gdp_weighted = df_gdp_weighted[df_gdp_weighted['year']<=1880]\n",
    "\n",
    "#df_gdp_weighted['decade'] = (df_gdp_weighted['year'] // 50) * 50\n",
    "\n",
    "df_gdp_weighted['decade'] = df_gdp_weighted['year'].apply(lambda x: round(x / 10) * 10)\n",
    "df_gdp_weighted = df_gdp_weighted.groupby(['region', 'decade'])['gdp_pc_weighted'].mean().reset_index()\n",
    "\n",
    "\n",
    "df_gdp_pop_regions['decade'] = df_gdp_pop_regions['year'].apply(lambda x: round(x / 10) * 10)\n",
    "df_gdp_pop_regions = df_gdp_pop_regions.groupby(['region', 'decade'])['pop'].mean().reset_index()\n",
    "\n",
    "# Add population\n",
    "\n",
    "df_pop_regions = df_gdp_pop_regions.groupby(['region', 'decade']).apply(lambda x: x['pop'].sum()).reset_index()\n",
    "df_pop_regions = df_pop_regions.rename(columns={0: 'pop'})\n",
    "\n",
    "\n",
    "# Weighted GDP and population\n",
    "df_gdp_weighted_pop = pd.merge(df_gdp_weighted, df_pop_regions, on = ['region', 'decade'])\n",
    "df_gdp_weighted_pop"
   ]
  },
  {
   "cell_type": "code",
   "execution_count": 45,
   "metadata": {},
   "outputs": [],
   "source": [
    "df_gdp_weighted_pop.to_csv('data/gdp_weighted_pop_decade.csv', index=False)"
   ]
  },
  {
   "cell_type": "code",
   "execution_count": 46,
   "metadata": {},
   "outputs": [],
   "source": [
    "df_fig = df_gdp_weighted_pop[df_gdp_weighted_pop['region'].isin(['France', 'Italy', 'Chinese world','United Kingdom'])]"
   ]
  },
  {
   "cell_type": "code",
   "execution_count": 47,
   "metadata": {},
   "outputs": [
    {
     "data": {
      "image/png": "[encoded data removed]",
      "text/plain": [
       "<Figure size 1200x800 with 1 Axes>"
      ]
     },
     "metadata": {},
     "output_type": "display_data"
    }
   ],
   "source": [
    "import matplotlib.pyplot as plt\n",
    "\n",
    "import numpy as np\n",
    "\n",
    "# Re-plotting with country labels near each line\n",
    "plt.figure(figsize=(12, 8))\n",
    "\n",
    "for region in df_fig['region'].unique():\n",
    "    subset = df_fig[df_fig['region'] == region]\n",
    "    plt.plot(subset['decade'], subset['gdp_pc_weighted'], label=region)\n",
    "    \n",
    "    # Adding text label near the end of each line\n",
    "    plt.text(subset['decade'].values[-1], subset['gdp_pc_weighted'].values[-1], region, \n",
    "             verticalalignment='center', fontsize=9, weight='bold')\n",
    "\n",
    "# Adding plot details\n",
    "plt.title(\"GDP per Capita (Weighted) Over Decades by Region\")\n",
    "plt.xlabel(\"Decade\")\n",
    "plt.ylabel(\"GDP per Capita (Weighted)\")\n",
    "plt.grid(visible=True)\n",
    "\n",
    "plt.show()\n"
   ]
  },
  {
   "cell_type": "markdown",
   "metadata": {},
   "source": [
    "### Reading"
   ]
  },
  {
   "cell_type": "code",
   "execution_count": 49,
   "metadata": {},
   "outputs": [
    {
     "data": {
      "text/html": [
       "<div>\n",
       "<style scoped>\n",
       "    .dataframe tbody tr th:only-of-type {\n",
       "        vertical-align: middle;\n",
       "    }\n",
       "\n",
       "    .dataframe tbody tr th {\n",
       "        vertical-align: top;\n",
       "    }\n",
       "\n",
       "    .dataframe thead th {\n",
       "        text-align: right;\n",
       "    }\n",
       "</style>\n",
       "<table border=\"1\" class=\"dataframe\">\n",
       "  <thead>\n",
       "    <tr style=\"text-align: right;\">\n",
       "      <th></th>\n",
       "      <th>region</th>\n",
       "      <th>decade</th>\n",
       "      <th>gdp_pc_weighted</th>\n",
       "      <th>pop</th>\n",
       "    </tr>\n",
       "  </thead>\n",
       "  <tbody>\n",
       "    <tr>\n",
       "      <th>8</th>\n",
       "      <td>Arabic world</td>\n",
       "      <td>1820</td>\n",
       "      <td>832.465167</td>\n",
       "      <td>1724.111111</td>\n",
       "    </tr>\n",
       "    <tr>\n",
       "      <th>9</th>\n",
       "      <td>Arabic world</td>\n",
       "      <td>1870</td>\n",
       "      <td>1091.754910</td>\n",
       "      <td>2245.300000</td>\n",
       "    </tr>\n",
       "    <tr>\n",
       "      <th>11</th>\n",
       "      <td>Balkans</td>\n",
       "      <td>1830</td>\n",
       "      <td>1586.000000</td>\n",
       "      <td>2617.000000</td>\n",
       "    </tr>\n",
       "    <tr>\n",
       "      <th>12</th>\n",
       "      <td>Balkans</td>\n",
       "      <td>1840</td>\n",
       "      <td>1925.636364</td>\n",
       "      <td>2778.545455</td>\n",
       "    </tr>\n",
       "    <tr>\n",
       "      <th>13</th>\n",
       "      <td>Balkans</td>\n",
       "      <td>1850</td>\n",
       "      <td>1694.000000</td>\n",
       "      <td>3044.777778</td>\n",
       "    </tr>\n",
       "    <tr>\n",
       "      <th>...</th>\n",
       "      <td>...</td>\n",
       "      <td>...</td>\n",
       "      <td>...</td>\n",
       "      <td>...</td>\n",
       "    </tr>\n",
       "    <tr>\n",
       "      <th>698</th>\n",
       "      <td>United Kingdom</td>\n",
       "      <td>1860</td>\n",
       "      <td>5028.818182</td>\n",
       "      <td>28901.909091</td>\n",
       "    </tr>\n",
       "    <tr>\n",
       "      <th>699</th>\n",
       "      <td>United Kingdom</td>\n",
       "      <td>1870</td>\n",
       "      <td>5695.222222</td>\n",
       "      <td>31388.444444</td>\n",
       "    </tr>\n",
       "    <tr>\n",
       "      <th>700</th>\n",
       "      <td>United Kingdom</td>\n",
       "      <td>1880</td>\n",
       "      <td>6045.818182</td>\n",
       "      <td>34527.636364</td>\n",
       "    </tr>\n",
       "    <tr>\n",
       "      <th>701</th>\n",
       "      <td>United Kingdom</td>\n",
       "      <td>1890</td>\n",
       "      <td>6611.666667</td>\n",
       "      <td>37526.666667</td>\n",
       "    </tr>\n",
       "    <tr>\n",
       "      <th>702</th>\n",
       "      <td>United Kingdom</td>\n",
       "      <td>1900</td>\n",
       "      <td>7376.500000</td>\n",
       "      <td>40186.000000</td>\n",
       "    </tr>\n",
       "  </tbody>\n",
       "</table>\n",
       "<p>162 rows × 4 columns</p>\n",
       "</div>"
      ],
      "text/plain": [
       "             region  decade  gdp_pc_weighted           pop\n",
       "8      Arabic world    1820       832.465167   1724.111111\n",
       "9      Arabic world    1870      1091.754910   2245.300000\n",
       "11          Balkans    1830      1586.000000   2617.000000\n",
       "12          Balkans    1840      1925.636364   2778.545455\n",
       "13          Balkans    1850      1694.000000   3044.777778\n",
       "..              ...     ...              ...           ...\n",
       "698  United Kingdom    1860      5028.818182  28901.909091\n",
       "699  United Kingdom    1870      5695.222222  31388.444444\n",
       "700  United Kingdom    1880      6045.818182  34527.636364\n",
       "701  United Kingdom    1890      6611.666667  37526.666667\n",
       "702  United Kingdom    1900      7376.500000  40186.000000\n",
       "\n",
       "[162 rows x 4 columns]"
      ]
     },
     "execution_count": 49,
     "metadata": {},
     "output_type": "execute_result"
    }
   ],
   "source": [
    "import pandas as pd\n",
    "df = pd.read_csv('data/gdp_weighted_pop_decade.csv')\n",
    "df = df[df['decade']>=1800]\n",
    "df"
   ]
  }
 ],
 "metadata": {
  "kernelspec": {
   "display_name": ".venv",
   "language": "python",
   "name": "python3"
  },
  "language_info": {
   "codemirror_mode": {
    "name": "ipython",
    "version": 3
   },
   "file_extension": ".py",
   "mimetype": "text/x-python",
   "name": "python",
   "nbconvert_exporter": "python",
   "pygments_lexer": "ipython3",
   "version": "3.11.7"
  }
 },
 "nbformat": 4,
 "nbformat_minor": 2
}
